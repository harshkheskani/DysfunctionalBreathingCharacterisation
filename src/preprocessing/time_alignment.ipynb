{
 "cells": [
  {
   "cell_type": "code",
   "execution_count": 1,
   "id": "b0a1183b",
   "metadata": {},
   "outputs": [],
   "source": [
    "import pandas as pd\n",
    "import os\n",
    "import numpy as np\n",
    "import pytz\n",
    "import plotly.graph_objects as go\n",
    "import plotly.express as px\n",
    "import plotly.subplots as sp\n",
    "import pytz as tz\n",
    "import matplotlib.pyplot as plt\n",
    "import seaborn as sns\n",
    "from datetime import datetime, timedelta\n",
    "from sklearn.discriminant_analysis import StandardScaler"
   ]
  },
  {
   "cell_type": "code",
   "execution_count": 2,
   "id": "78ac4dd2",
   "metadata": {},
   "outputs": [
    {
     "name": "stdout",
     "output_type": "stream",
     "text": [
      "Loading data...\n",
      "0        2025-06-13 22:58:47.365000+06:00\n",
      "1        2025-06-13 22:58:47.445000+06:00\n",
      "2        2025-06-13 22:58:47.525000+06:00\n",
      "3        2025-06-13 22:58:47.605000+06:00\n",
      "4        2025-06-13 22:58:47.685000+06:00\n",
      "                       ...               \n",
      "646267   2025-06-14 13:40:50.184000+06:00\n",
      "646268   2025-06-14 13:40:50.264000+06:00\n",
      "646269   2025-06-14 13:40:50.344000+06:00\n",
      "646270   2025-06-14 13:40:50.424000+06:00\n",
      "646271   2025-06-14 13:40:50.424000+06:00\n",
      "Name: timestamp, Length: 646272, dtype: datetime64[ns, Asia/Bishkek]\n"
     ]
    }
   ],
   "source": [
    "RESPECK_FILE = '../../data/cheyne-stokes/CSR003 13.06.2025/Respeck_CSR003_35c5fa1801da28b5_D11B86C3EA87(6AL)_2025-06-13_decrypted.csv'\n",
    "PSG_FILE = '../../data/cheyne-stokes/CSR003 13.06.2025/EDF CSR003 13.06.2025_csv.csv'\n",
    "LABELS_FILE = '../../data/bishkek_csr/02_prepped/event_exports/26-04-2025_event_export.csv'\n",
    "\n",
    "# --- Load Data ---\n",
    "print(\"Loading data...\")\n",
    "\n",
    "respeck_df = pd.read_csv(RESPECK_FILE)\n",
    "respeck_df['timestamp'] = pd.to_datetime(respeck_df['interpolatedPhoneTimestamp'], unit='ms')\n",
    "tz = pytz.timezone('Asia/Bishkek')\n",
    "respeck_df['timestamp'] = respeck_df['timestamp'].dt.tz_localize('UTC').dt.tz_convert(tz)\n",
    "print(respeck_df['timestamp'])\n",
    "respeck_df.set_index('timestamp', inplace=True, drop=False)\n",
    "\n",
    "psg_df = pd.read_csv(PSG_FILE)\n",
    "psg_df['timestamp'] = pd.to_datetime(psg_df['UnixTimestamp'], unit='ms')\n",
    "tz = pytz.timezone('Asia/Bishkek')\n",
    "psg_df['timestamp'] = psg_df['timestamp'].dt.tz_localize('UTC').dt.tz_convert(tz)\n",
    "\n",
    "psg_df.set_index('timestamp', inplace=True, drop=False)\n",
    "\n",
    "labels_df = pd.read_csv(LABELS_FILE)\n",
    "labels_df['timestamp'] = pd.to_datetime(labels_df['UnixTimestamp'], unit='ms')\n",
    "tz = pytz.timezone('Asia/Bishkek')\n",
    "labels_df['timestamp'] = labels_df['timestamp'].dt.tz_localize('UTC').dt.tz_convert(tz)\n",
    "\n",
    "labels_df.set_index('timestamp', inplace=True)"
   ]
  },
  {
   "cell_type": "code",
   "execution_count": 3,
   "id": "c01f6cc4",
   "metadata": {},
   "outputs": [
    {
     "data": {
      "text/html": [
       "<div>\n",
       "<style scoped>\n",
       "    .dataframe tbody tr th:only-of-type {\n",
       "        vertical-align: middle;\n",
       "    }\n",
       "\n",
       "    .dataframe tbody tr th {\n",
       "        vertical-align: top;\n",
       "    }\n",
       "\n",
       "    .dataframe thead th {\n",
       "        text-align: right;\n",
       "    }\n",
       "</style>\n",
       "<table border=\"1\" class=\"dataframe\">\n",
       "  <thead>\n",
       "    <tr style=\"text-align: right;\">\n",
       "      <th></th>\n",
       "      <th>time_s</th>\n",
       "      <th>UnixTimestamp</th>\n",
       "      <th>Resp nasal</th>\n",
       "      <th>Resp cpap</th>\n",
       "      <th>Resp chest</th>\n",
       "      <th>Resp abdomen</th>\n",
       "      <th>Position</th>\n",
       "      <th>Light</th>\n",
       "      <th>Pulse</th>\n",
       "      <th>SaO2 SpO2</th>\n",
       "      <th>Pulsewave</th>\n",
       "      <th>Sound microphone</th>\n",
       "      <th>Obstr</th>\n",
       "      <th>BR flow</th>\n",
       "      <th>timestamp</th>\n",
       "    </tr>\n",
       "    <tr>\n",
       "      <th>timestamp</th>\n",
       "      <th></th>\n",
       "      <th></th>\n",
       "      <th></th>\n",
       "      <th></th>\n",
       "      <th></th>\n",
       "      <th></th>\n",
       "      <th></th>\n",
       "      <th></th>\n",
       "      <th></th>\n",
       "      <th></th>\n",
       "      <th></th>\n",
       "      <th></th>\n",
       "      <th></th>\n",
       "      <th></th>\n",
       "      <th></th>\n",
       "    </tr>\n",
       "  </thead>\n",
       "  <tbody>\n",
       "    <tr>\n",
       "      <th>2025-06-13 23:04:54+06:00</th>\n",
       "      <td>0.00</td>\n",
       "      <td>1749834294000</td>\n",
       "      <td>1.541526e-14</td>\n",
       "      <td>-4.400000</td>\n",
       "      <td>100.000000</td>\n",
       "      <td>100.000000</td>\n",
       "      <td>153.000000</td>\n",
       "      <td>9990.000000</td>\n",
       "      <td>1.541526e-14</td>\n",
       "      <td>-5.395341e-14</td>\n",
       "      <td>-2.697671e-14</td>\n",
       "      <td>45.246052</td>\n",
       "      <td>-1.926908e-15</td>\n",
       "      <td>2.312289e-14</td>\n",
       "      <td>2025-06-13 23:04:54+06:00</td>\n",
       "    </tr>\n",
       "    <tr>\n",
       "      <th>2025-06-13 23:04:54.010000+06:00</th>\n",
       "      <td>0.01</td>\n",
       "      <td>1749834294010</td>\n",
       "      <td>5.325330e+00</td>\n",
       "      <td>-4.299280</td>\n",
       "      <td>95.417350</td>\n",
       "      <td>95.450053</td>\n",
       "      <td>152.992405</td>\n",
       "      <td>9988.337169</td>\n",
       "      <td>4.405123e-02</td>\n",
       "      <td>1.678427e-02</td>\n",
       "      <td>2.059395e+01</td>\n",
       "      <td>28.610666</td>\n",
       "      <td>3.176170e-02</td>\n",
       "      <td>-1.850294e+00</td>\n",
       "      <td>2025-06-13 23:04:54.010000+06:00</td>\n",
       "    </tr>\n",
       "    <tr>\n",
       "      <th>2025-06-13 23:04:54.020000+06:00</th>\n",
       "      <td>0.02</td>\n",
       "      <td>1749834294020</td>\n",
       "      <td>1.276932e+01</td>\n",
       "      <td>-4.057712</td>\n",
       "      <td>88.502670</td>\n",
       "      <td>88.562663</td>\n",
       "      <td>152.951257</td>\n",
       "      <td>9983.386373</td>\n",
       "      <td>1.135815e-01</td>\n",
       "      <td>6.414891e-02</td>\n",
       "      <td>5.586023e+01</td>\n",
       "      <td>21.647974</td>\n",
       "      <td>6.014809e-02</td>\n",
       "      <td>-3.179044e+00</td>\n",
       "      <td>2025-06-13 23:04:54.020000+06:00</td>\n",
       "    </tr>\n",
       "    <tr>\n",
       "      <th>2025-06-13 23:04:54.030000+06:00</th>\n",
       "      <td>0.03</td>\n",
       "      <td>1749834294030</td>\n",
       "      <td>2.205695e+01</td>\n",
       "      <td>-3.688625</td>\n",
       "      <td>79.534150</td>\n",
       "      <td>79.614568</td>\n",
       "      <td>152.876576</td>\n",
       "      <td>9975.150552</td>\n",
       "      <td>2.085642e-01</td>\n",
       "      <td>1.420653e-01</td>\n",
       "      <td>5.931480e+01</td>\n",
       "      <td>50.080110</td>\n",
       "      <td>8.242404e-02</td>\n",
       "      <td>-3.985859e+00</td>\n",
       "      <td>2025-06-13 23:04:54.030000+06:00</td>\n",
       "    </tr>\n",
       "    <tr>\n",
       "      <th>2025-06-13 23:04:54.040000+06:00</th>\n",
       "      <td>0.04</td>\n",
       "      <td>1749834294040</td>\n",
       "      <td>3.280459e+01</td>\n",
       "      <td>-3.212671</td>\n",
       "      <td>68.910070</td>\n",
       "      <td>69.002764</td>\n",
       "      <td>152.768403</td>\n",
       "      <td>9963.634588</td>\n",
       "      <td>3.289579e-01</td>\n",
       "      <td>2.504868e-01</td>\n",
       "      <td>3.828183e+01</td>\n",
       "      <td>66.665141</td>\n",
       "      <td>9.647325e-02</td>\n",
       "      <td>-4.299275e+00</td>\n",
       "      <td>2025-06-13 23:04:54.040000+06:00</td>\n",
       "    </tr>\n",
       "    <tr>\n",
       "      <th>...</th>\n",
       "      <td>...</td>\n",
       "      <td>...</td>\n",
       "      <td>...</td>\n",
       "      <td>...</td>\n",
       "      <td>...</td>\n",
       "      <td>...</td>\n",
       "      <td>...</td>\n",
       "      <td>...</td>\n",
       "      <td>...</td>\n",
       "      <td>...</td>\n",
       "      <td>...</td>\n",
       "      <td>...</td>\n",
       "      <td>...</td>\n",
       "      <td>...</td>\n",
       "      <td>...</td>\n",
       "    </tr>\n",
       "    <tr>\n",
       "      <th>2025-06-14 04:27:06.950000+06:00</th>\n",
       "      <td>19332.95</td>\n",
       "      <td>1749853626950</td>\n",
       "      <td>5.804051e+00</td>\n",
       "      <td>-2.904465</td>\n",
       "      <td>88.007535</td>\n",
       "      <td>87.791754</td>\n",
       "      <td>152.535334</td>\n",
       "      <td>9949.028117</td>\n",
       "      <td>1.618016e-01</td>\n",
       "      <td>3.745182e-01</td>\n",
       "      <td>5.918939e+01</td>\n",
       "      <td>49.864958</td>\n",
       "      <td>-1.056035e-01</td>\n",
       "      <td>1.507757e+01</td>\n",
       "      <td>2025-06-14 04:27:06.950000+06:00</td>\n",
       "    </tr>\n",
       "    <tr>\n",
       "      <th>2025-06-14 04:27:06.960000+06:00</th>\n",
       "      <td>19332.96</td>\n",
       "      <td>1749853626960</td>\n",
       "      <td>8.905736e-01</td>\n",
       "      <td>-3.419565</td>\n",
       "      <td>94.366407</td>\n",
       "      <td>94.201134</td>\n",
       "      <td>152.695123</td>\n",
       "      <td>9963.781053</td>\n",
       "      <td>7.858777e-02</td>\n",
       "      <td>2.386051e-01</td>\n",
       "      <td>7.070420e+01</td>\n",
       "      <td>49.851225</td>\n",
       "      <td>-9.997579e-02</td>\n",
       "      <td>1.159630e+01</td>\n",
       "      <td>2025-06-14 04:27:06.960000+06:00</td>\n",
       "    </tr>\n",
       "    <tr>\n",
       "      <th>2025-06-14 04:27:06.970000+06:00</th>\n",
       "      <td>19332.97</td>\n",
       "      <td>1749853626970</td>\n",
       "      <td>-2.434560e+00</td>\n",
       "      <td>-3.848965</td>\n",
       "      <td>99.078634</td>\n",
       "      <td>98.959285</td>\n",
       "      <td>152.821553</td>\n",
       "      <td>9975.260527</td>\n",
       "      <td>2.075937e-02</td>\n",
       "      <td>1.331439e-01</td>\n",
       "      <td>8.834156e+01</td>\n",
       "      <td>49.944305</td>\n",
       "      <td>-8.465816e-02</td>\n",
       "      <td>8.235215e+00</td>\n",
       "      <td>2025-06-14 04:27:06.970000+06:00</td>\n",
       "    </tr>\n",
       "    <tr>\n",
       "      <th>2025-06-14 04:27:06.980000+06:00</th>\n",
       "      <td>19332.98</td>\n",
       "      <td>1749853626980</td>\n",
       "      <td>-3.829842e+00</td>\n",
       "      <td>-4.167159</td>\n",
       "      <td>101.753410</td>\n",
       "      <td>101.676739</td>\n",
       "      <td>152.914545</td>\n",
       "      <td>9983.459750</td>\n",
       "      <td>-1.163474e-02</td>\n",
       "      <td>5.819648e-02</td>\n",
       "      <td>7.421988e+01</td>\n",
       "      <td>50.151827</td>\n",
       "      <td>-6.123005e-02</td>\n",
       "      <td>5.114930e+00</td>\n",
       "      <td>2025-06-14 04:27:06.980000+06:00</td>\n",
       "    </tr>\n",
       "    <tr>\n",
       "      <th>2025-06-14 04:27:06.990000+06:00</th>\n",
       "      <td>19332.99</td>\n",
       "      <td>1749853626990</td>\n",
       "      <td>-3.057075e+00</td>\n",
       "      <td>-4.354789</td>\n",
       "      <td>102.110215</td>\n",
       "      <td>102.073439</td>\n",
       "      <td>152.974040</td>\n",
       "      <td>9988.373875</td>\n",
       "      <td>-1.856077e-02</td>\n",
       "      <td>1.380660e-02</td>\n",
       "      <td>2.809633e+01</td>\n",
       "      <td>50.171664</td>\n",
       "      <td>-3.204609e-02</td>\n",
       "      <td>2.341493e+00</td>\n",
       "      <td>2025-06-14 04:27:06.990000+06:00</td>\n",
       "    </tr>\n",
       "  </tbody>\n",
       "</table>\n",
       "<p>1933300 rows × 15 columns</p>\n",
       "</div>"
      ],
      "text/plain": [
       "                                    time_s  UnixTimestamp    Resp nasal  \\\n",
       "timestamp                                                                 \n",
       "2025-06-13 23:04:54+06:00             0.00  1749834294000  1.541526e-14   \n",
       "2025-06-13 23:04:54.010000+06:00      0.01  1749834294010  5.325330e+00   \n",
       "2025-06-13 23:04:54.020000+06:00      0.02  1749834294020  1.276932e+01   \n",
       "2025-06-13 23:04:54.030000+06:00      0.03  1749834294030  2.205695e+01   \n",
       "2025-06-13 23:04:54.040000+06:00      0.04  1749834294040  3.280459e+01   \n",
       "...                                    ...            ...           ...   \n",
       "2025-06-14 04:27:06.950000+06:00  19332.95  1749853626950  5.804051e+00   \n",
       "2025-06-14 04:27:06.960000+06:00  19332.96  1749853626960  8.905736e-01   \n",
       "2025-06-14 04:27:06.970000+06:00  19332.97  1749853626970 -2.434560e+00   \n",
       "2025-06-14 04:27:06.980000+06:00  19332.98  1749853626980 -3.829842e+00   \n",
       "2025-06-14 04:27:06.990000+06:00  19332.99  1749853626990 -3.057075e+00   \n",
       "\n",
       "                                  Resp cpap  Resp chest  Resp abdomen  \\\n",
       "timestamp                                                               \n",
       "2025-06-13 23:04:54+06:00         -4.400000  100.000000    100.000000   \n",
       "2025-06-13 23:04:54.010000+06:00  -4.299280   95.417350     95.450053   \n",
       "2025-06-13 23:04:54.020000+06:00  -4.057712   88.502670     88.562663   \n",
       "2025-06-13 23:04:54.030000+06:00  -3.688625   79.534150     79.614568   \n",
       "2025-06-13 23:04:54.040000+06:00  -3.212671   68.910070     69.002764   \n",
       "...                                     ...         ...           ...   \n",
       "2025-06-14 04:27:06.950000+06:00  -2.904465   88.007535     87.791754   \n",
       "2025-06-14 04:27:06.960000+06:00  -3.419565   94.366407     94.201134   \n",
       "2025-06-14 04:27:06.970000+06:00  -3.848965   99.078634     98.959285   \n",
       "2025-06-14 04:27:06.980000+06:00  -4.167159  101.753410    101.676739   \n",
       "2025-06-14 04:27:06.990000+06:00  -4.354789  102.110215    102.073439   \n",
       "\n",
       "                                    Position        Light         Pulse  \\\n",
       "timestamp                                                                 \n",
       "2025-06-13 23:04:54+06:00         153.000000  9990.000000  1.541526e-14   \n",
       "2025-06-13 23:04:54.010000+06:00  152.992405  9988.337169  4.405123e-02   \n",
       "2025-06-13 23:04:54.020000+06:00  152.951257  9983.386373  1.135815e-01   \n",
       "2025-06-13 23:04:54.030000+06:00  152.876576  9975.150552  2.085642e-01   \n",
       "2025-06-13 23:04:54.040000+06:00  152.768403  9963.634588  3.289579e-01   \n",
       "...                                      ...          ...           ...   \n",
       "2025-06-14 04:27:06.950000+06:00  152.535334  9949.028117  1.618016e-01   \n",
       "2025-06-14 04:27:06.960000+06:00  152.695123  9963.781053  7.858777e-02   \n",
       "2025-06-14 04:27:06.970000+06:00  152.821553  9975.260527  2.075937e-02   \n",
       "2025-06-14 04:27:06.980000+06:00  152.914545  9983.459750 -1.163474e-02   \n",
       "2025-06-14 04:27:06.990000+06:00  152.974040  9988.373875 -1.856077e-02   \n",
       "\n",
       "                                     SaO2 SpO2     Pulsewave  \\\n",
       "timestamp                                                      \n",
       "2025-06-13 23:04:54+06:00        -5.395341e-14 -2.697671e-14   \n",
       "2025-06-13 23:04:54.010000+06:00  1.678427e-02  2.059395e+01   \n",
       "2025-06-13 23:04:54.020000+06:00  6.414891e-02  5.586023e+01   \n",
       "2025-06-13 23:04:54.030000+06:00  1.420653e-01  5.931480e+01   \n",
       "2025-06-13 23:04:54.040000+06:00  2.504868e-01  3.828183e+01   \n",
       "...                                        ...           ...   \n",
       "2025-06-14 04:27:06.950000+06:00  3.745182e-01  5.918939e+01   \n",
       "2025-06-14 04:27:06.960000+06:00  2.386051e-01  7.070420e+01   \n",
       "2025-06-14 04:27:06.970000+06:00  1.331439e-01  8.834156e+01   \n",
       "2025-06-14 04:27:06.980000+06:00  5.819648e-02  7.421988e+01   \n",
       "2025-06-14 04:27:06.990000+06:00  1.380660e-02  2.809633e+01   \n",
       "\n",
       "                                  Sound microphone         Obstr  \\\n",
       "timestamp                                                          \n",
       "2025-06-13 23:04:54+06:00                45.246052 -1.926908e-15   \n",
       "2025-06-13 23:04:54.010000+06:00         28.610666  3.176170e-02   \n",
       "2025-06-13 23:04:54.020000+06:00         21.647974  6.014809e-02   \n",
       "2025-06-13 23:04:54.030000+06:00         50.080110  8.242404e-02   \n",
       "2025-06-13 23:04:54.040000+06:00         66.665141  9.647325e-02   \n",
       "...                                            ...           ...   \n",
       "2025-06-14 04:27:06.950000+06:00         49.864958 -1.056035e-01   \n",
       "2025-06-14 04:27:06.960000+06:00         49.851225 -9.997579e-02   \n",
       "2025-06-14 04:27:06.970000+06:00         49.944305 -8.465816e-02   \n",
       "2025-06-14 04:27:06.980000+06:00         50.151827 -6.123005e-02   \n",
       "2025-06-14 04:27:06.990000+06:00         50.171664 -3.204609e-02   \n",
       "\n",
       "                                       BR flow  \\\n",
       "timestamp                                        \n",
       "2025-06-13 23:04:54+06:00         2.312289e-14   \n",
       "2025-06-13 23:04:54.010000+06:00 -1.850294e+00   \n",
       "2025-06-13 23:04:54.020000+06:00 -3.179044e+00   \n",
       "2025-06-13 23:04:54.030000+06:00 -3.985859e+00   \n",
       "2025-06-13 23:04:54.040000+06:00 -4.299275e+00   \n",
       "...                                        ...   \n",
       "2025-06-14 04:27:06.950000+06:00  1.507757e+01   \n",
       "2025-06-14 04:27:06.960000+06:00  1.159630e+01   \n",
       "2025-06-14 04:27:06.970000+06:00  8.235215e+00   \n",
       "2025-06-14 04:27:06.980000+06:00  5.114930e+00   \n",
       "2025-06-14 04:27:06.990000+06:00  2.341493e+00   \n",
       "\n",
       "                                                        timestamp  \n",
       "timestamp                                                          \n",
       "2025-06-13 23:04:54+06:00               2025-06-13 23:04:54+06:00  \n",
       "2025-06-13 23:04:54.010000+06:00 2025-06-13 23:04:54.010000+06:00  \n",
       "2025-06-13 23:04:54.020000+06:00 2025-06-13 23:04:54.020000+06:00  \n",
       "2025-06-13 23:04:54.030000+06:00 2025-06-13 23:04:54.030000+06:00  \n",
       "2025-06-13 23:04:54.040000+06:00 2025-06-13 23:04:54.040000+06:00  \n",
       "...                                                           ...  \n",
       "2025-06-14 04:27:06.950000+06:00 2025-06-14 04:27:06.950000+06:00  \n",
       "2025-06-14 04:27:06.960000+06:00 2025-06-14 04:27:06.960000+06:00  \n",
       "2025-06-14 04:27:06.970000+06:00 2025-06-14 04:27:06.970000+06:00  \n",
       "2025-06-14 04:27:06.980000+06:00 2025-06-14 04:27:06.980000+06:00  \n",
       "2025-06-14 04:27:06.990000+06:00 2025-06-14 04:27:06.990000+06:00  \n",
       "\n",
       "[1933300 rows x 15 columns]"
      ]
     },
     "execution_count": 3,
     "metadata": {},
     "output_type": "execute_result"
    }
   ],
   "source": [
    "# PSG TEST BREATHING RATE\n",
    "psg_df"
   ]
  },
  {
   "cell_type": "code",
   "execution_count": 4,
   "id": "89d7058d",
   "metadata": {},
   "outputs": [
    {
     "name": "stdout",
     "output_type": "stream",
     "text": [
      "-8.985805771770911e-15\n"
     ]
    }
   ],
   "source": [
    "mean_resp_nasal = psg_df['Resp nasal'].mean()\n",
    "psg_df['Resp nasal'] = psg_df['Resp nasal'] - mean_resp_nasal\n",
    "print(psg_df['Resp nasal'].mean())"
   ]
  },
  {
   "cell_type": "code",
   "execution_count": 5,
   "id": "cc666de1",
   "metadata": {},
   "outputs": [],
   "source": [
    "# BREATHING FUNCTIONS\n",
    "\n",
    "def getBreaths(df):\n",
    "    minThreshold = 0.001\n",
    "    mult = 1e-2\n",
    "    \n",
    "    signal = list(df.breathingSignal)\n",
    "    \n",
    "    time_diff = df['timestamp'].diff()\n",
    "    time_diff.map(lambda x: x.total_seconds()).mean()\n",
    "    \n",
    "    window_size = int((30 / time_diff.dropna().apply(lambda x: x.total_seconds()).mean()) // 2)\n",
    "    threshs = calculateThresholdLevels(list(signal), window_size, window_size, mult, False)\n",
    "    posThresh = threshs[:, 0]\n",
    "    negThresh = threshs[:, 1]\n",
    "\n",
    "    times = calculateBreathTimes(list(signal), posThresh, negThresh, minThreshold, False)\n",
    "\n",
    "    total = set()\n",
    "    minBreathLength = float(\"inf\")\n",
    "    maxBreathLength = float(\"-inf\")\n",
    "    for i in range(0, len(times)):\n",
    "        vals = times[i]\n",
    "        for j in range(0, len(vals)-1):\n",
    "            start, end = vals[j], vals[j+1]\n",
    "            minBreathLength = min(minBreathLength, end-start+1)\n",
    "            maxBreathLength = max(maxBreathLength, end-start+1)\n",
    "            for k in range(start, end+1):\n",
    "                total.add(k)\n",
    "\n",
    "    f = list(df.breathingSignal.dropna())\n",
    "    a = f\"Uses Breath From {len(total)}/{len(f)} = {round((len(total)/len(f)) * 100, 2)}% Signal\"\n",
    "    b = f\"Max Breath Length: {maxBreathLength} points. Min Breath Length: {minBreathLength} points\"\n",
    "    print(a)\n",
    "    print(b)\n",
    "        \n",
    "    return times\n",
    "\n",
    "def countLocalMaximas(values):\n",
    "    count = 0\n",
    "    if len(values) < 3:\n",
    "        return 1\n",
    "    if len(values) > 1 and values[0] > values[1]:\n",
    "        count += 1\n",
    "    if len(values) > 1 and values[-1] > values[-2]:\n",
    "        count += 1\n",
    "    for i in range(1, len(values) - 1):\n",
    "        if values[i] > values[i - 1] and values[i] > values[i + 1]:\n",
    "            count += 1\n",
    "    return count\n",
    "\n",
    "def countLocalMinimas(values):\n",
    "    count = 0\n",
    "    if len(values) < 3:\n",
    "        return 1\n",
    "    if len(values) > 1 and values[0] < values[1]:\n",
    "        count += 1\n",
    "    if len(values) > 1 and values[-1] < values[-2]:\n",
    "        count += 1\n",
    "    for i in range(1, len(values) - 1):\n",
    "        if values[i] < values[i - 1] and values[i] < values[i + 1]:\n",
    "            count += 1\n",
    "    return count\n",
    "\n",
    "def calculateBreathTimes(signal, posThresholds, negThresholds, minThreshold, zeroCrossingBreathStart):\n",
    "    \n",
    "    def breathTimes(startIndex, endIndex):\n",
    "\n",
    "        def setInitialState(startValue, posThreshold, negThreshold):\n",
    "            if startValue < negThreshold:\n",
    "                state = LOW\n",
    "            elif startValue > posThreshold:\n",
    "                state = HIGH\n",
    "            else:\n",
    "                state = MID_UNKNOWN\n",
    "            return state\n",
    "    \n",
    "        state = setInitialState(signal[startIndex], posThresholds[startIndex], negThresholds[startIndex])\n",
    "        times = []\n",
    "    \n",
    "        for i in range(startIndex + 1, endIndex + 1):\n",
    "            posThreshold = posThresholds[i]\n",
    "            negThreshold = negThresholds[i]\n",
    "            if state == LOW and signal[i] > negThreshold:\n",
    "                state = MID_RISING\n",
    "            elif state == HIGH and signal[i] < posThreshold:\n",
    "                state = MID_FALLING\n",
    "            elif (state == MID_RISING or state == MID_UNKNOWN) and signal[i] > posThreshold:\n",
    "                state = HIGH\n",
    "            elif (state == MID_FALLING or state == MID_UNKNOWN) and signal[i] < negThreshold:\n",
    "                state = LOW\n",
    "                times.append(i)\n",
    "\n",
    "        if zeroCrossingBreathStart:\n",
    "            zeroCrossingBreathTimes = []\n",
    "            for t in times:\n",
    "                for i in range(t,-1,-1):\n",
    "                    if signal[i] >= 0:\n",
    "                        zeroCrossingBreathTimes.append(i)\n",
    "                        break\n",
    "            return zeroCrossingBreathTimes\n",
    "        else:\n",
    "            return times\n",
    "\n",
    "    LOW, MID_FALLING, MID_UNKNOWN, MID_RISING, HIGH = range(5)\n",
    "\n",
    "    \n",
    "    invalidated = np.ones(np.shape(signal), dtype=bool)\n",
    "    for i in range(len(invalidated)):\n",
    "        if posThresholds[i] > minThreshold or negThresholds[i] < -minThreshold:\n",
    "            invalidated[i] = False\n",
    "    \n",
    "\n",
    "    minIslandLength = 0\n",
    "    islandLimits = findIslandLimits(invalidated, minIslandLength)\n",
    "    \n",
    "    times = []\n",
    "    for (start, end) in islandLimits:\n",
    "        bt = breathTimes(start, end)\n",
    "        if len(bt) > 0:\n",
    "            times.append(bt)\n",
    "\n",
    "    return times\n",
    "\n",
    "def calculateThresholdLevels(signal, rmsBackwardLength, rmsForwardLength, rmsMultiplier, symmetrical):\n",
    "    result = nans((len(signal), 2))\n",
    "    \n",
    "    if not symmetrical:\n",
    "        \n",
    "        #fill sum of squares buffers\n",
    "        posValues = []\n",
    "        negValues = []\n",
    "        windowLength = rmsBackwardLength + rmsForwardLength\n",
    "        if len(signal) < windowLength:\n",
    "            return result\n",
    "        \n",
    "        lastBananaIndex = np.nan\n",
    "            \n",
    "        for i in range(windowLength - 1):\n",
    "            if signal[i] >= 0:\n",
    "                posValues.append(signal[i])\n",
    "            elif signal[i] < 0:\n",
    "                negValues.append(signal[i])\n",
    "            else: # if nan\n",
    "                lastBananaIndex = i\n",
    "                \n",
    "        posArray = np.array(posValues)\n",
    "        negArray = np.array(negValues)\n",
    "        \n",
    "        sumOfSquaresPos = np.sum(posArray**2)\n",
    "        posCount = len(posArray)\n",
    "        sumOfSquaresNeg = np.sum(negArray**2)\n",
    "        negCount = len(negArray)\n",
    "        \n",
    "        for i in range(0, len(signal)):\n",
    "            if i < rmsBackwardLength or i >= len(signal) - rmsForwardLength:\n",
    "                posResult = np.nan\n",
    "                negResult = np.nan\n",
    "            else:\n",
    "                newValue = signal[i+rmsForwardLength-1]\n",
    "                if np.isnan(newValue):\n",
    "                    lastBananaIndex = i+rmsForwardLength-1\n",
    "                else:\n",
    "                    if newValue >= 0:\n",
    "                        sumOfSquaresPos += newValue**2\n",
    "                        posCount += 1\n",
    "                    elif newValue < 0:\n",
    "                        sumOfSquaresNeg += newValue**2\n",
    "                        negCount += 1\n",
    "                \n",
    "                if not np.isnan(lastBananaIndex) and i - lastBananaIndex <= rmsBackwardLength:\n",
    "                    posResult = np.nan\n",
    "                    negResult = np.nan\n",
    "                else:\n",
    "                    posResult = np.sqrt(sumOfSquaresPos / posCount) * rmsMultiplier\n",
    "                    negResult = -np.sqrt(sumOfSquaresNeg / negCount) * rmsMultiplier\n",
    "                \n",
    "                oldValue = signal[i-rmsBackwardLength]\n",
    "                \n",
    "                if oldValue >= 0:\n",
    "                    sumOfSquaresPos -= oldValue**2\n",
    "                    posCount -= 1\n",
    "                elif oldValue < 0:\n",
    "                    sumOfSquaresNeg -= oldValue**2\n",
    "                    negCount -=1\n",
    "            result[i,0] = posResult\n",
    "            result[i,1] = negResult\n",
    "            \n",
    "        return result\n",
    "    \n",
    "    else:\n",
    "        #fill sum of squares buffers\n",
    "        allValues = []\n",
    "        windowLength = rmsBackwardLength + rmsForwardLength\n",
    "        if len(signal) < windowLength:\n",
    "            return result\n",
    "        \n",
    "        #print \"signal length: \" + str(len(signal))\n",
    "        #print \"windowLength: \" + str(windowLength)\n",
    "        #print \"backward length: \" + str(rmsBackwardLength)\n",
    "        #print \"forward length: \" + str(rmsForwardLength)\n",
    "        \n",
    "        lastBananaIndex = np.nan\n",
    "        \n",
    "        for i in range(windowLength - 1):\n",
    "            if not np.isnan(signal[i]):\n",
    "                allValues.append(signal[i])\n",
    "            else:\n",
    "                lastBananaIndex = i\n",
    "        allArray = np.array(allValues)\n",
    "        \n",
    "        sumOfSquaresAll = np.sum(allArray**2)\n",
    "        allCount = len(allArray)\n",
    "        \n",
    "        for i in range(0, len(signal)):\n",
    "            if i < rmsBackwardLength or i >= len(signal) - rmsForwardLength:\n",
    "                allResult = np.nan\n",
    "            else:\n",
    "                newValue = signal[i+rmsForwardLength-1]\n",
    "                if np.isnan(newValue):\n",
    "                    lastBananaIndex = i+rmsForwardLength-1\n",
    "                else:\n",
    "                    sumOfSquaresAll += newValue**2\n",
    "                    allCount += 1\n",
    "                \n",
    "                if not np.isnan(lastBananaIndex) and i - lastBananaIndex <= rmsBackwardLength:\n",
    "                    allResult = np.nan\n",
    "                else:\n",
    "                    allResult = np.sqrt(sumOfSquaresAll / allCount) * rmsMultiplier\n",
    "                \n",
    "                oldValue = signal[i-rmsBackwardLength]\n",
    "                if not np.isnan(oldValue):\n",
    "                    sumOfSquaresAll -= oldValue**2\n",
    "                    allCount -= 1\n",
    "                    \n",
    "            result[i,0] = allResult\n",
    "            result[i,1] = -allResult\n",
    "        #figure()\n",
    "        #plot(signal)\n",
    "        #plot(result)\n",
    "        #show()\n",
    "        return result\n",
    "    \n",
    "\n",
    "def nans(dims):\n",
    "    a = np.empty(dims)\n",
    "    a[:] = np.nan\n",
    "    return a\n",
    "\n",
    "''' Find the RMS value of an input signal in array form. '''\n",
    "def rms(signal):\n",
    "    return np.sqrt(np.mean(signal**2))\n",
    "\n",
    "def rmsHamming(signal):\n",
    "    squares = signal**2\n",
    "    weights = np.hamming(len(signal))\n",
    "    weightedSum = 0.0\n",
    "    weightsSum = 0.0\n",
    "\n",
    "    for i in range(len(signal)):\n",
    "        weightedSum += squares[i] * weights[i]\n",
    "        weightsSum += weights[i]\n",
    "\n",
    "    return np.sqrt(weightedSum / weightsSum)\n",
    "\n",
    "''' Find islands of defined values in a signal that may contain NaNs. '''\n",
    "def findIslandLimits(signal, minIslandLength=0, minIslandGap=0):\n",
    "\n",
    "    islands = []\n",
    "\n",
    "    start = None\n",
    "    end = None\n",
    "    foundIsland = False\n",
    "\n",
    "    for i in range(len(signal)):\n",
    "        if not signal[i]:\n",
    "            if start == None:\n",
    "                start = i\n",
    "            else:\n",
    "                end = i + 1\n",
    "                if i == len(signal) - 1:\n",
    "                    foundIsland = True\n",
    "        else:\n",
    "            if start != None:\n",
    "                if end != None:\n",
    "                    foundIsland = True\n",
    "                else:\n",
    "                    start = None\n",
    "\n",
    "        if foundIsland:\n",
    "            if (minIslandGap > 0) and (len(islands) > 0):\n",
    "                prevIslandStart = islands[-1][0]\n",
    "                prevIslandEnd = islands[-1][1]\n",
    "                islandGap = start - prevIslandEnd - 1\n",
    "                if islandGap < minIslandGap:\n",
    "                    # merge the new island with the previous one\n",
    "                    islands[-1] = ((prevIslandStart, end))\n",
    "                else:\n",
    "                    islands.append((start, end))\n",
    "            else:    \n",
    "                islands.append((start, end))\n",
    "\n",
    "            start = None\n",
    "            end = None\n",
    "            foundIsland = False\n",
    "            \n",
    "    # now return only the islands that are long enough\n",
    "    longIslands = []\n",
    "    for island in islands:\n",
    "        if (island[1] - island[0]) >= minIslandLength:\n",
    "            longIslands.append(island)\n",
    "\n",
    "    return longIslands\n"
   ]
  },
  {
   "cell_type": "code",
   "execution_count": 6,
   "id": "b49f771c",
   "metadata": {},
   "outputs": [
    {
     "name": "stderr",
     "output_type": "stream",
     "text": [
      "/var/folders/qj/1f20_52j2yj49hjhy3ht9wzw0000gn/T/ipykernel_27822/1980824943.py:176: RuntimeWarning: divide by zero encountered in scalar divide\n",
      "  negResult = -np.sqrt(sumOfSquaresNeg / negCount) * rmsMultiplier\n",
      "/var/folders/qj/1f20_52j2yj49hjhy3ht9wzw0000gn/T/ipykernel_27822/1980824943.py:175: RuntimeWarning: divide by zero encountered in scalar divide\n",
      "  posResult = np.sqrt(sumOfSquaresPos / posCount) * rmsMultiplier\n",
      "/var/folders/qj/1f20_52j2yj49hjhy3ht9wzw0000gn/T/ipykernel_27822/1980824943.py:175: RuntimeWarning: invalid value encountered in sqrt\n",
      "  posResult = np.sqrt(sumOfSquaresPos / posCount) * rmsMultiplier\n"
     ]
    },
    {
     "name": "stdout",
     "output_type": "stream",
     "text": [
      "Uses Breath From 1922244/1933300 = 99.43% Signal\n",
      "Max Breath Length: 35970 points. Min Breath Length: 11 points\n",
      "9757\n"
     ]
    }
   ],
   "source": [
    "psg_df = psg_df.rename(columns={'Resp nasal': 'breathingSignal'})\n",
    "breathLocations = getBreaths(psg_df)\n",
    "total_breaths = 0\n",
    "for island_times in breathLocations:\n",
    "    total_breaths += len(island_times)\n",
    "print(total_breaths)\n"
   ]
  },
  {
   "cell_type": "code",
   "execution_count": 7,
   "id": "51e83d66",
   "metadata": {},
   "outputs": [
    {
     "name": "stdout",
     "output_type": "stream",
     "text": [
      "                   Start_Time  Breaths_per_30_seconds\n",
      "0   2025-06-13 23:06:00+06:00                      18\n",
      "1   2025-06-13 23:07:00+06:00                      33\n",
      "2   2025-06-13 23:08:00+06:00                      36\n",
      "3   2025-06-13 23:09:00+06:00                      32\n",
      "4   2025-06-13 23:10:00+06:00                      33\n",
      "..                        ...                     ...\n",
      "316 2025-06-14 04:22:00+06:00                      30\n",
      "317 2025-06-14 04:23:00+06:00                      28\n",
      "318 2025-06-14 04:24:00+06:00                      28\n",
      "319 2025-06-14 04:25:00+06:00                      26\n",
      "320 2025-06-14 04:26:00+06:00                      23\n",
      "\n",
      "[321 rows x 2 columns]\n"
     ]
    },
    {
     "name": "stderr",
     "output_type": "stream",
     "text": [
      "/var/folders/qj/1f20_52j2yj49hjhy3ht9wzw0000gn/T/ipykernel_27822/1015944779.py:22: FutureWarning: 'S' is deprecated and will be removed in a future version, please use 's' instead.\n",
      "  breathing_rate_windows = breaths_df_indexed.resample('60S').size()\n"
     ]
    }
   ],
   "source": [
    "\n",
    "# Breathing rate\n",
    "psg_df = psg_df.rename_axis(None)\n",
    "df_temp = psg_df.reset_index()\n",
    "df_temp.rename(columns={'index': 'row_index'}, inplace=True)  # Use a different name\n",
    "\n",
    "# Now extract both the row indices and timestamps\n",
    "all_breath_indices = [idx for sublist in breathLocations for idx in sublist]\n",
    "\n",
    "# Create a clean dataframe with row indices and datetime from the index\n",
    "breath_time_data = pd.DataFrame({\n",
    "    'row_index': all_breath_indices,\n",
    "    'datetime': psg_df.index[all_breath_indices]\n",
    "})\n",
    "\n",
    "\n",
    "window_size = 30\n",
    "\n",
    "# Set datetime as index for resampling\n",
    "breaths_df_indexed = breath_time_data.set_index('datetime')\n",
    "\n",
    "# Resample to count breaths in 30-second windows\n",
    "breathing_rate_windows = breaths_df_indexed.resample('60S').size()\n",
    "\n",
    "# Create summary dataframe\n",
    "breathing_rate_summary_df = pd.DataFrame({\n",
    "    'Start_Time': breathing_rate_windows.index,\n",
    "    'Breaths_per_30_seconds': breathing_rate_windows.values\n",
    "})\n",
    "\n",
    "print(breathing_rate_summary_df)\n"
   ]
  },
  {
   "cell_type": "code",
   "execution_count": 8,
   "id": "1997f67a",
   "metadata": {},
   "outputs": [
    {
     "data": {
      "application/vnd.plotly.v1+json": {
       "config": {
        "plotlyServerURL": "https://plot.ly"
       },
       "data": [
        {
         "hovertemplate": "Time=%{x}<br>Breaths per 30 seconds=%{y}<extra></extra>",
         "legendgroup": "",
         "line": {
          "color": "#2E86AB",
          "dash": "solid",
          "width": 2
         },
         "marker": {
          "symbol": "circle"
         },
         "mode": "lines",
         "name": "",
         "orientation": "v",
         "showlegend": false,
         "type": "scatter",
         "x": [
          "2025-06-13T23:06:00.000000000",
          "2025-06-13T23:07:00.000000000",
          "2025-06-13T23:08:00.000000000",
          "2025-06-13T23:09:00.000000000",
          "2025-06-13T23:10:00.000000000",
          "2025-06-13T23:11:00.000000000",
          "2025-06-13T23:12:00.000000000",
          "2025-06-13T23:13:00.000000000",
          "2025-06-13T23:14:00.000000000",
          "2025-06-13T23:15:00.000000000",
          "2025-06-13T23:16:00.000000000",
          "2025-06-13T23:17:00.000000000",
          "2025-06-13T23:18:00.000000000",
          "2025-06-13T23:19:00.000000000",
          "2025-06-13T23:20:00.000000000",
          "2025-06-13T23:21:00.000000000",
          "2025-06-13T23:22:00.000000000",
          "2025-06-13T23:23:00.000000000",
          "2025-06-13T23:24:00.000000000",
          "2025-06-13T23:25:00.000000000",
          "2025-06-13T23:26:00.000000000",
          "2025-06-13T23:27:00.000000000",
          "2025-06-13T23:28:00.000000000",
          "2025-06-13T23:29:00.000000000",
          "2025-06-13T23:30:00.000000000",
          "2025-06-13T23:31:00.000000000",
          "2025-06-13T23:32:00.000000000",
          "2025-06-13T23:33:00.000000000",
          "2025-06-13T23:34:00.000000000",
          "2025-06-13T23:35:00.000000000",
          "2025-06-13T23:36:00.000000000",
          "2025-06-13T23:37:00.000000000",
          "2025-06-13T23:38:00.000000000",
          "2025-06-13T23:39:00.000000000",
          "2025-06-13T23:40:00.000000000",
          "2025-06-13T23:41:00.000000000",
          "2025-06-13T23:42:00.000000000",
          "2025-06-13T23:43:00.000000000",
          "2025-06-13T23:44:00.000000000",
          "2025-06-13T23:45:00.000000000",
          "2025-06-13T23:46:00.000000000",
          "2025-06-13T23:47:00.000000000",
          "2025-06-13T23:48:00.000000000",
          "2025-06-13T23:49:00.000000000",
          "2025-06-13T23:50:00.000000000",
          "2025-06-13T23:51:00.000000000",
          "2025-06-13T23:52:00.000000000",
          "2025-06-13T23:53:00.000000000",
          "2025-06-13T23:54:00.000000000",
          "2025-06-13T23:55:00.000000000",
          "2025-06-13T23:56:00.000000000",
          "2025-06-13T23:57:00.000000000",
          "2025-06-13T23:58:00.000000000",
          "2025-06-13T23:59:00.000000000",
          "2025-06-14T00:00:00.000000000",
          "2025-06-14T00:01:00.000000000",
          "2025-06-14T00:02:00.000000000",
          "2025-06-14T00:03:00.000000000",
          "2025-06-14T00:04:00.000000000",
          "2025-06-14T00:05:00.000000000",
          "2025-06-14T00:06:00.000000000",
          "2025-06-14T00:07:00.000000000",
          "2025-06-14T00:08:00.000000000",
          "2025-06-14T00:09:00.000000000",
          "2025-06-14T00:10:00.000000000",
          "2025-06-14T00:11:00.000000000",
          "2025-06-14T00:12:00.000000000",
          "2025-06-14T00:13:00.000000000",
          "2025-06-14T00:14:00.000000000",
          "2025-06-14T00:15:00.000000000",
          "2025-06-14T00:16:00.000000000",
          "2025-06-14T00:17:00.000000000",
          "2025-06-14T00:18:00.000000000",
          "2025-06-14T00:19:00.000000000",
          "2025-06-14T00:20:00.000000000",
          "2025-06-14T00:21:00.000000000",
          "2025-06-14T00:22:00.000000000",
          "2025-06-14T00:23:00.000000000",
          "2025-06-14T00:24:00.000000000",
          "2025-06-14T00:25:00.000000000",
          "2025-06-14T00:26:00.000000000",
          "2025-06-14T00:27:00.000000000",
          "2025-06-14T00:28:00.000000000",
          "2025-06-14T00:29:00.000000000",
          "2025-06-14T00:30:00.000000000",
          "2025-06-14T00:31:00.000000000",
          "2025-06-14T00:32:00.000000000",
          "2025-06-14T00:33:00.000000000",
          "2025-06-14T00:34:00.000000000",
          "2025-06-14T00:35:00.000000000",
          "2025-06-14T00:36:00.000000000",
          "2025-06-14T00:37:00.000000000",
          "2025-06-14T00:38:00.000000000",
          "2025-06-14T00:39:00.000000000",
          "2025-06-14T00:40:00.000000000",
          "2025-06-14T00:41:00.000000000",
          "2025-06-14T00:42:00.000000000",
          "2025-06-14T00:43:00.000000000",
          "2025-06-14T00:44:00.000000000",
          "2025-06-14T00:45:00.000000000",
          "2025-06-14T00:46:00.000000000",
          "2025-06-14T00:47:00.000000000",
          "2025-06-14T00:48:00.000000000",
          "2025-06-14T00:49:00.000000000",
          "2025-06-14T00:50:00.000000000",
          "2025-06-14T00:51:00.000000000",
          "2025-06-14T00:52:00.000000000",
          "2025-06-14T00:53:00.000000000",
          "2025-06-14T00:54:00.000000000",
          "2025-06-14T00:55:00.000000000",
          "2025-06-14T00:56:00.000000000",
          "2025-06-14T00:57:00.000000000",
          "2025-06-14T00:58:00.000000000",
          "2025-06-14T00:59:00.000000000",
          "2025-06-14T01:00:00.000000000",
          "2025-06-14T01:01:00.000000000",
          "2025-06-14T01:02:00.000000000",
          "2025-06-14T01:03:00.000000000",
          "2025-06-14T01:04:00.000000000",
          "2025-06-14T01:05:00.000000000",
          "2025-06-14T01:06:00.000000000",
          "2025-06-14T01:07:00.000000000",
          "2025-06-14T01:08:00.000000000",
          "2025-06-14T01:09:00.000000000",
          "2025-06-14T01:10:00.000000000",
          "2025-06-14T01:11:00.000000000",
          "2025-06-14T01:12:00.000000000",
          "2025-06-14T01:13:00.000000000",
          "2025-06-14T01:14:00.000000000",
          "2025-06-14T01:15:00.000000000",
          "2025-06-14T01:16:00.000000000",
          "2025-06-14T01:17:00.000000000",
          "2025-06-14T01:18:00.000000000",
          "2025-06-14T01:19:00.000000000",
          "2025-06-14T01:20:00.000000000",
          "2025-06-14T01:21:00.000000000",
          "2025-06-14T01:22:00.000000000",
          "2025-06-14T01:23:00.000000000",
          "2025-06-14T01:24:00.000000000",
          "2025-06-14T01:25:00.000000000",
          "2025-06-14T01:26:00.000000000",
          "2025-06-14T01:27:00.000000000",
          "2025-06-14T01:28:00.000000000",
          "2025-06-14T01:29:00.000000000",
          "2025-06-14T01:30:00.000000000",
          "2025-06-14T01:31:00.000000000",
          "2025-06-14T01:32:00.000000000",
          "2025-06-14T01:33:00.000000000",
          "2025-06-14T01:34:00.000000000",
          "2025-06-14T01:35:00.000000000",
          "2025-06-14T01:36:00.000000000",
          "2025-06-14T01:37:00.000000000",
          "2025-06-14T01:38:00.000000000",
          "2025-06-14T01:39:00.000000000",
          "2025-06-14T01:40:00.000000000",
          "2025-06-14T01:41:00.000000000",
          "2025-06-14T01:42:00.000000000",
          "2025-06-14T01:43:00.000000000",
          "2025-06-14T01:44:00.000000000",
          "2025-06-14T01:45:00.000000000",
          "2025-06-14T01:46:00.000000000",
          "2025-06-14T01:47:00.000000000",
          "2025-06-14T01:48:00.000000000",
          "2025-06-14T01:49:00.000000000",
          "2025-06-14T01:50:00.000000000",
          "2025-06-14T01:51:00.000000000",
          "2025-06-14T01:52:00.000000000",
          "2025-06-14T01:53:00.000000000",
          "2025-06-14T01:54:00.000000000",
          "2025-06-14T01:55:00.000000000",
          "2025-06-14T01:56:00.000000000",
          "2025-06-14T01:57:00.000000000",
          "2025-06-14T01:58:00.000000000",
          "2025-06-14T01:59:00.000000000",
          "2025-06-14T02:00:00.000000000",
          "2025-06-14T02:01:00.000000000",
          "2025-06-14T02:02:00.000000000",
          "2025-06-14T02:03:00.000000000",
          "2025-06-14T02:04:00.000000000",
          "2025-06-14T02:05:00.000000000",
          "2025-06-14T02:06:00.000000000",
          "2025-06-14T02:07:00.000000000",
          "2025-06-14T02:08:00.000000000",
          "2025-06-14T02:09:00.000000000",
          "2025-06-14T02:10:00.000000000",
          "2025-06-14T02:11:00.000000000",
          "2025-06-14T02:12:00.000000000",
          "2025-06-14T02:13:00.000000000",
          "2025-06-14T02:14:00.000000000",
          "2025-06-14T02:15:00.000000000",
          "2025-06-14T02:16:00.000000000",
          "2025-06-14T02:17:00.000000000",
          "2025-06-14T02:18:00.000000000",
          "2025-06-14T02:19:00.000000000",
          "2025-06-14T02:20:00.000000000",
          "2025-06-14T02:21:00.000000000",
          "2025-06-14T02:22:00.000000000",
          "2025-06-14T02:23:00.000000000",
          "2025-06-14T02:24:00.000000000",
          "2025-06-14T02:25:00.000000000",
          "2025-06-14T02:26:00.000000000",
          "2025-06-14T02:27:00.000000000",
          "2025-06-14T02:28:00.000000000",
          "2025-06-14T02:29:00.000000000",
          "2025-06-14T02:30:00.000000000",
          "2025-06-14T02:31:00.000000000",
          "2025-06-14T02:32:00.000000000",
          "2025-06-14T02:33:00.000000000",
          "2025-06-14T02:34:00.000000000",
          "2025-06-14T02:35:00.000000000",
          "2025-06-14T02:36:00.000000000",
          "2025-06-14T02:37:00.000000000",
          "2025-06-14T02:38:00.000000000",
          "2025-06-14T02:39:00.000000000",
          "2025-06-14T02:40:00.000000000",
          "2025-06-14T02:41:00.000000000",
          "2025-06-14T02:42:00.000000000",
          "2025-06-14T02:43:00.000000000",
          "2025-06-14T02:44:00.000000000",
          "2025-06-14T02:45:00.000000000",
          "2025-06-14T02:46:00.000000000",
          "2025-06-14T02:47:00.000000000",
          "2025-06-14T02:48:00.000000000",
          "2025-06-14T02:49:00.000000000",
          "2025-06-14T02:50:00.000000000",
          "2025-06-14T02:51:00.000000000",
          "2025-06-14T02:52:00.000000000",
          "2025-06-14T02:53:00.000000000",
          "2025-06-14T02:54:00.000000000",
          "2025-06-14T02:55:00.000000000",
          "2025-06-14T02:56:00.000000000",
          "2025-06-14T02:57:00.000000000",
          "2025-06-14T02:58:00.000000000",
          "2025-06-14T02:59:00.000000000",
          "2025-06-14T03:00:00.000000000",
          "2025-06-14T03:01:00.000000000",
          "2025-06-14T03:02:00.000000000",
          "2025-06-14T03:03:00.000000000",
          "2025-06-14T03:04:00.000000000",
          "2025-06-14T03:05:00.000000000",
          "2025-06-14T03:06:00.000000000",
          "2025-06-14T03:07:00.000000000",
          "2025-06-14T03:08:00.000000000",
          "2025-06-14T03:09:00.000000000",
          "2025-06-14T03:10:00.000000000",
          "2025-06-14T03:11:00.000000000",
          "2025-06-14T03:12:00.000000000",
          "2025-06-14T03:13:00.000000000",
          "2025-06-14T03:14:00.000000000",
          "2025-06-14T03:15:00.000000000",
          "2025-06-14T03:16:00.000000000",
          "2025-06-14T03:17:00.000000000",
          "2025-06-14T03:18:00.000000000",
          "2025-06-14T03:19:00.000000000",
          "2025-06-14T03:20:00.000000000",
          "2025-06-14T03:21:00.000000000",
          "2025-06-14T03:22:00.000000000",
          "2025-06-14T03:23:00.000000000",
          "2025-06-14T03:24:00.000000000",
          "2025-06-14T03:25:00.000000000",
          "2025-06-14T03:26:00.000000000",
          "2025-06-14T03:27:00.000000000",
          "2025-06-14T03:28:00.000000000",
          "2025-06-14T03:29:00.000000000",
          "2025-06-14T03:30:00.000000000",
          "2025-06-14T03:31:00.000000000",
          "2025-06-14T03:32:00.000000000",
          "2025-06-14T03:33:00.000000000",
          "2025-06-14T03:34:00.000000000",
          "2025-06-14T03:35:00.000000000",
          "2025-06-14T03:36:00.000000000",
          "2025-06-14T03:37:00.000000000",
          "2025-06-14T03:38:00.000000000",
          "2025-06-14T03:39:00.000000000",
          "2025-06-14T03:40:00.000000000",
          "2025-06-14T03:41:00.000000000",
          "2025-06-14T03:42:00.000000000",
          "2025-06-14T03:43:00.000000000",
          "2025-06-14T03:44:00.000000000",
          "2025-06-14T03:45:00.000000000",
          "2025-06-14T03:46:00.000000000",
          "2025-06-14T03:47:00.000000000",
          "2025-06-14T03:48:00.000000000",
          "2025-06-14T03:49:00.000000000",
          "2025-06-14T03:50:00.000000000",
          "2025-06-14T03:51:00.000000000",
          "2025-06-14T03:52:00.000000000",
          "2025-06-14T03:53:00.000000000",
          "2025-06-14T03:54:00.000000000",
          "2025-06-14T03:55:00.000000000",
          "2025-06-14T03:56:00.000000000",
          "2025-06-14T03:57:00.000000000",
          "2025-06-14T03:58:00.000000000",
          "2025-06-14T03:59:00.000000000",
          "2025-06-14T04:00:00.000000000",
          "2025-06-14T04:01:00.000000000",
          "2025-06-14T04:02:00.000000000",
          "2025-06-14T04:03:00.000000000",
          "2025-06-14T04:04:00.000000000",
          "2025-06-14T04:05:00.000000000",
          "2025-06-14T04:06:00.000000000",
          "2025-06-14T04:07:00.000000000",
          "2025-06-14T04:08:00.000000000",
          "2025-06-14T04:09:00.000000000",
          "2025-06-14T04:10:00.000000000",
          "2025-06-14T04:11:00.000000000",
          "2025-06-14T04:12:00.000000000",
          "2025-06-14T04:13:00.000000000",
          "2025-06-14T04:14:00.000000000",
          "2025-06-14T04:15:00.000000000",
          "2025-06-14T04:16:00.000000000",
          "2025-06-14T04:17:00.000000000",
          "2025-06-14T04:18:00.000000000",
          "2025-06-14T04:19:00.000000000",
          "2025-06-14T04:20:00.000000000",
          "2025-06-14T04:21:00.000000000",
          "2025-06-14T04:22:00.000000000",
          "2025-06-14T04:23:00.000000000",
          "2025-06-14T04:24:00.000000000",
          "2025-06-14T04:25:00.000000000",
          "2025-06-14T04:26:00.000000000"
         ],
         "xaxis": "x",
         "y": {
          "bdata": "EiEkICEiICAjIiMiISIfIB8eHhsbIR4qITAhHiEhIB8gIiEiIiIeKRIkJSQkIyYiISEiICIeJCIgHyIkIiIfHB8fHx0iHh8hJB0eICAfHh4eJyEdHRscICMcJiUjIR8eIyEhHh8iHh8fIxsdHh8jIyIfIR8dHR4eIiIhHiAfISMeHh0bHhwcGxseHx4gIB8dHRwhHR4eHh8eHCceJSQhIBwrIyEiHCIcPQAAAAIAAAAAABUgICAgICAfHRweKx8eHR8dHB8gHhsdHRsbHyAiHiIcHh8gHB0dHBweHR4eJSAiJi8lIR4fHx4eHB4eHR4cHR4jISUeHR0eHh4cGBwfGh0eHBwcHhkcHxwfHB8cHRwfHR0dIRwdHB8bGhoiIyUhHx4eJSImHyIaHh4gHBsbGhweHRgcGxwYGiIpIB4cHBoX",
          "dtype": "i1"
         },
         "yaxis": "y"
        }
       ],
       "layout": {
        "legend": {
         "tracegroupgap": 0
        },
        "template": {
         "data": {
          "bar": [
           {
            "error_x": {
             "color": "#2a3f5f"
            },
            "error_y": {
             "color": "#2a3f5f"
            },
            "marker": {
             "line": {
              "color": "white",
              "width": 0.5
             },
             "pattern": {
              "fillmode": "overlay",
              "size": 10,
              "solidity": 0.2
             }
            },
            "type": "bar"
           }
          ],
          "barpolar": [
           {
            "marker": {
             "line": {
              "color": "white",
              "width": 0.5
             },
             "pattern": {
              "fillmode": "overlay",
              "size": 10,
              "solidity": 0.2
             }
            },
            "type": "barpolar"
           }
          ],
          "carpet": [
           {
            "aaxis": {
             "endlinecolor": "#2a3f5f",
             "gridcolor": "#C8D4E3",
             "linecolor": "#C8D4E3",
             "minorgridcolor": "#C8D4E3",
             "startlinecolor": "#2a3f5f"
            },
            "baxis": {
             "endlinecolor": "#2a3f5f",
             "gridcolor": "#C8D4E3",
             "linecolor": "#C8D4E3",
             "minorgridcolor": "#C8D4E3",
             "startlinecolor": "#2a3f5f"
            },
            "type": "carpet"
           }
          ],
          "choropleth": [
           {
            "colorbar": {
             "outlinewidth": 0,
             "ticks": ""
            },
            "type": "choropleth"
           }
          ],
          "contour": [
           {
            "colorbar": {
             "outlinewidth": 0,
             "ticks": ""
            },
            "colorscale": [
             [
              0,
              "#0d0887"
             ],
             [
              0.1111111111111111,
              "#46039f"
             ],
             [
              0.2222222222222222,
              "#7201a8"
             ],
             [
              0.3333333333333333,
              "#9c179e"
             ],
             [
              0.4444444444444444,
              "#bd3786"
             ],
             [
              0.5555555555555556,
              "#d8576b"
             ],
             [
              0.6666666666666666,
              "#ed7953"
             ],
             [
              0.7777777777777778,
              "#fb9f3a"
             ],
             [
              0.8888888888888888,
              "#fdca26"
             ],
             [
              1,
              "#f0f921"
             ]
            ],
            "type": "contour"
           }
          ],
          "contourcarpet": [
           {
            "colorbar": {
             "outlinewidth": 0,
             "ticks": ""
            },
            "type": "contourcarpet"
           }
          ],
          "heatmap": [
           {
            "colorbar": {
             "outlinewidth": 0,
             "ticks": ""
            },
            "colorscale": [
             [
              0,
              "#0d0887"
             ],
             [
              0.1111111111111111,
              "#46039f"
             ],
             [
              0.2222222222222222,
              "#7201a8"
             ],
             [
              0.3333333333333333,
              "#9c179e"
             ],
             [
              0.4444444444444444,
              "#bd3786"
             ],
             [
              0.5555555555555556,
              "#d8576b"
             ],
             [
              0.6666666666666666,
              "#ed7953"
             ],
             [
              0.7777777777777778,
              "#fb9f3a"
             ],
             [
              0.8888888888888888,
              "#fdca26"
             ],
             [
              1,
              "#f0f921"
             ]
            ],
            "type": "heatmap"
           }
          ],
          "histogram": [
           {
            "marker": {
             "pattern": {
              "fillmode": "overlay",
              "size": 10,
              "solidity": 0.2
             }
            },
            "type": "histogram"
           }
          ],
          "histogram2d": [
           {
            "colorbar": {
             "outlinewidth": 0,
             "ticks": ""
            },
            "colorscale": [
             [
              0,
              "#0d0887"
             ],
             [
              0.1111111111111111,
              "#46039f"
             ],
             [
              0.2222222222222222,
              "#7201a8"
             ],
             [
              0.3333333333333333,
              "#9c179e"
             ],
             [
              0.4444444444444444,
              "#bd3786"
             ],
             [
              0.5555555555555556,
              "#d8576b"
             ],
             [
              0.6666666666666666,
              "#ed7953"
             ],
             [
              0.7777777777777778,
              "#fb9f3a"
             ],
             [
              0.8888888888888888,
              "#fdca26"
             ],
             [
              1,
              "#f0f921"
             ]
            ],
            "type": "histogram2d"
           }
          ],
          "histogram2dcontour": [
           {
            "colorbar": {
             "outlinewidth": 0,
             "ticks": ""
            },
            "colorscale": [
             [
              0,
              "#0d0887"
             ],
             [
              0.1111111111111111,
              "#46039f"
             ],
             [
              0.2222222222222222,
              "#7201a8"
             ],
             [
              0.3333333333333333,
              "#9c179e"
             ],
             [
              0.4444444444444444,
              "#bd3786"
             ],
             [
              0.5555555555555556,
              "#d8576b"
             ],
             [
              0.6666666666666666,
              "#ed7953"
             ],
             [
              0.7777777777777778,
              "#fb9f3a"
             ],
             [
              0.8888888888888888,
              "#fdca26"
             ],
             [
              1,
              "#f0f921"
             ]
            ],
            "type": "histogram2dcontour"
           }
          ],
          "mesh3d": [
           {
            "colorbar": {
             "outlinewidth": 0,
             "ticks": ""
            },
            "type": "mesh3d"
           }
          ],
          "parcoords": [
           {
            "line": {
             "colorbar": {
              "outlinewidth": 0,
              "ticks": ""
             }
            },
            "type": "parcoords"
           }
          ],
          "pie": [
           {
            "automargin": true,
            "type": "pie"
           }
          ],
          "scatter": [
           {
            "fillpattern": {
             "fillmode": "overlay",
             "size": 10,
             "solidity": 0.2
            },
            "type": "scatter"
           }
          ],
          "scatter3d": [
           {
            "line": {
             "colorbar": {
              "outlinewidth": 0,
              "ticks": ""
             }
            },
            "marker": {
             "colorbar": {
              "outlinewidth": 0,
              "ticks": ""
             }
            },
            "type": "scatter3d"
           }
          ],
          "scattercarpet": [
           {
            "marker": {
             "colorbar": {
              "outlinewidth": 0,
              "ticks": ""
             }
            },
            "type": "scattercarpet"
           }
          ],
          "scattergeo": [
           {
            "marker": {
             "colorbar": {
              "outlinewidth": 0,
              "ticks": ""
             }
            },
            "type": "scattergeo"
           }
          ],
          "scattergl": [
           {
            "marker": {
             "colorbar": {
              "outlinewidth": 0,
              "ticks": ""
             }
            },
            "type": "scattergl"
           }
          ],
          "scattermap": [
           {
            "marker": {
             "colorbar": {
              "outlinewidth": 0,
              "ticks": ""
             }
            },
            "type": "scattermap"
           }
          ],
          "scattermapbox": [
           {
            "marker": {
             "colorbar": {
              "outlinewidth": 0,
              "ticks": ""
             }
            },
            "type": "scattermapbox"
           }
          ],
          "scatterpolar": [
           {
            "marker": {
             "colorbar": {
              "outlinewidth": 0,
              "ticks": ""
             }
            },
            "type": "scatterpolar"
           }
          ],
          "scatterpolargl": [
           {
            "marker": {
             "colorbar": {
              "outlinewidth": 0,
              "ticks": ""
             }
            },
            "type": "scatterpolargl"
           }
          ],
          "scatterternary": [
           {
            "marker": {
             "colorbar": {
              "outlinewidth": 0,
              "ticks": ""
             }
            },
            "type": "scatterternary"
           }
          ],
          "surface": [
           {
            "colorbar": {
             "outlinewidth": 0,
             "ticks": ""
            },
            "colorscale": [
             [
              0,
              "#0d0887"
             ],
             [
              0.1111111111111111,
              "#46039f"
             ],
             [
              0.2222222222222222,
              "#7201a8"
             ],
             [
              0.3333333333333333,
              "#9c179e"
             ],
             [
              0.4444444444444444,
              "#bd3786"
             ],
             [
              0.5555555555555556,
              "#d8576b"
             ],
             [
              0.6666666666666666,
              "#ed7953"
             ],
             [
              0.7777777777777778,
              "#fb9f3a"
             ],
             [
              0.8888888888888888,
              "#fdca26"
             ],
             [
              1,
              "#f0f921"
             ]
            ],
            "type": "surface"
           }
          ],
          "table": [
           {
            "cells": {
             "fill": {
              "color": "#EBF0F8"
             },
             "line": {
              "color": "white"
             }
            },
            "header": {
             "fill": {
              "color": "#C8D4E3"
             },
             "line": {
              "color": "white"
             }
            },
            "type": "table"
           }
          ]
         },
         "layout": {
          "annotationdefaults": {
           "arrowcolor": "#2a3f5f",
           "arrowhead": 0,
           "arrowwidth": 1
          },
          "autotypenumbers": "strict",
          "coloraxis": {
           "colorbar": {
            "outlinewidth": 0,
            "ticks": ""
           }
          },
          "colorscale": {
           "diverging": [
            [
             0,
             "#8e0152"
            ],
            [
             0.1,
             "#c51b7d"
            ],
            [
             0.2,
             "#de77ae"
            ],
            [
             0.3,
             "#f1b6da"
            ],
            [
             0.4,
             "#fde0ef"
            ],
            [
             0.5,
             "#f7f7f7"
            ],
            [
             0.6,
             "#e6f5d0"
            ],
            [
             0.7,
             "#b8e186"
            ],
            [
             0.8,
             "#7fbc41"
            ],
            [
             0.9,
             "#4d9221"
            ],
            [
             1,
             "#276419"
            ]
           ],
           "sequential": [
            [
             0,
             "#0d0887"
            ],
            [
             0.1111111111111111,
             "#46039f"
            ],
            [
             0.2222222222222222,
             "#7201a8"
            ],
            [
             0.3333333333333333,
             "#9c179e"
            ],
            [
             0.4444444444444444,
             "#bd3786"
            ],
            [
             0.5555555555555556,
             "#d8576b"
            ],
            [
             0.6666666666666666,
             "#ed7953"
            ],
            [
             0.7777777777777778,
             "#fb9f3a"
            ],
            [
             0.8888888888888888,
             "#fdca26"
            ],
            [
             1,
             "#f0f921"
            ]
           ],
           "sequentialminus": [
            [
             0,
             "#0d0887"
            ],
            [
             0.1111111111111111,
             "#46039f"
            ],
            [
             0.2222222222222222,
             "#7201a8"
            ],
            [
             0.3333333333333333,
             "#9c179e"
            ],
            [
             0.4444444444444444,
             "#bd3786"
            ],
            [
             0.5555555555555556,
             "#d8576b"
            ],
            [
             0.6666666666666666,
             "#ed7953"
            ],
            [
             0.7777777777777778,
             "#fb9f3a"
            ],
            [
             0.8888888888888888,
             "#fdca26"
            ],
            [
             1,
             "#f0f921"
            ]
           ]
          },
          "colorway": [
           "#636efa",
           "#EF553B",
           "#00cc96",
           "#ab63fa",
           "#FFA15A",
           "#19d3f3",
           "#FF6692",
           "#B6E880",
           "#FF97FF",
           "#FECB52"
          ],
          "font": {
           "color": "#2a3f5f"
          },
          "geo": {
           "bgcolor": "white",
           "lakecolor": "white",
           "landcolor": "white",
           "showlakes": true,
           "showland": true,
           "subunitcolor": "#C8D4E3"
          },
          "hoverlabel": {
           "align": "left"
          },
          "hovermode": "closest",
          "mapbox": {
           "style": "light"
          },
          "paper_bgcolor": "white",
          "plot_bgcolor": "white",
          "polar": {
           "angularaxis": {
            "gridcolor": "#EBF0F8",
            "linecolor": "#EBF0F8",
            "ticks": ""
           },
           "bgcolor": "white",
           "radialaxis": {
            "gridcolor": "#EBF0F8",
            "linecolor": "#EBF0F8",
            "ticks": ""
           }
          },
          "scene": {
           "xaxis": {
            "backgroundcolor": "white",
            "gridcolor": "#DFE8F3",
            "gridwidth": 2,
            "linecolor": "#EBF0F8",
            "showbackground": true,
            "ticks": "",
            "zerolinecolor": "#EBF0F8"
           },
           "yaxis": {
            "backgroundcolor": "white",
            "gridcolor": "#DFE8F3",
            "gridwidth": 2,
            "linecolor": "#EBF0F8",
            "showbackground": true,
            "ticks": "",
            "zerolinecolor": "#EBF0F8"
           },
           "zaxis": {
            "backgroundcolor": "white",
            "gridcolor": "#DFE8F3",
            "gridwidth": 2,
            "linecolor": "#EBF0F8",
            "showbackground": true,
            "ticks": "",
            "zerolinecolor": "#EBF0F8"
           }
          },
          "shapedefaults": {
           "line": {
            "color": "#2a3f5f"
           }
          },
          "ternary": {
           "aaxis": {
            "gridcolor": "#DFE8F3",
            "linecolor": "#A2B1C6",
            "ticks": ""
           },
           "baxis": {
            "gridcolor": "#DFE8F3",
            "linecolor": "#A2B1C6",
            "ticks": ""
           },
           "bgcolor": "white",
           "caxis": {
            "gridcolor": "#DFE8F3",
            "linecolor": "#A2B1C6",
            "ticks": ""
           }
          },
          "title": {
           "x": 0.05
          },
          "xaxis": {
           "automargin": true,
           "gridcolor": "#EBF0F8",
           "linecolor": "#EBF0F8",
           "ticks": "",
           "title": {
            "standoff": 15
           },
           "zerolinecolor": "#EBF0F8",
           "zerolinewidth": 2
          },
          "yaxis": {
           "automargin": true,
           "gridcolor": "#EBF0F8",
           "linecolor": "#EBF0F8",
           "ticks": "",
           "title": {
            "standoff": 15
           },
           "zerolinecolor": "#EBF0F8",
           "zerolinewidth": 2
          }
         }
        },
        "title": {
         "text": "Breathing Rate Over Time (PSG)"
        },
        "xaxis": {
         "anchor": "y",
         "domain": [
          0,
          1
         ],
         "title": {
          "text": "Time"
         }
        },
        "yaxis": {
         "anchor": "x",
         "domain": [
          0,
          1
         ],
         "title": {
          "text": "Breaths per 30 seconds"
         }
        }
       }
      }
     },
     "metadata": {},
     "output_type": "display_data"
    }
   ],
   "source": [
    "\n",
    "fig = px.line(breathing_rate_summary_df, \n",
    "              x='Start_Time', \n",
    "              y='Breaths_per_30_seconds',\n",
    "              title='Breathing Rate Over Time (PSG)',\n",
    "              labels={\n",
    "                  'Start_Time': 'Time',\n",
    "                  'Breaths_per_30_seconds': 'Breaths per 30 seconds'\n",
    "              })\n",
    "\n",
    "fig.update_traces(line_color='#2E86AB', line_width=2)\n",
    "fig.update_layout(template='plotly_white')\n",
    "fig.show()"
   ]
  },
  {
   "cell_type": "code",
   "execution_count": 9,
   "id": "040234e6",
   "metadata": {},
   "outputs": [
    {
     "name": "stdout",
     "output_type": "stream",
     "text": [
      "Uses Breath From 120344/638626 = 18.84% Signal\n",
      "Max Breath Length: 232 points. Min Breath Length: 5 points\n",
      "4152\n"
     ]
    }
   ],
   "source": [
    "# respeck breathing rate\n",
    "respeck_df = respeck_df.rename(columns={'Resp nasal': 'breathingSignal'})\n",
    "breathLocations_respeck = getBreaths(respeck_df)\n",
    "total_breaths_resepck = 0\n",
    "for island_times in breathLocations_respeck:\n",
    "    total_breaths_resepck += len(island_times)\n",
    "print(total_breaths_resepck)\n",
    "\n"
   ]
  },
  {
   "cell_type": "code",
   "execution_count": 10,
   "id": "5e039dbc",
   "metadata": {},
   "outputs": [
    {
     "name": "stdout",
     "output_type": "stream",
     "text": [
      "                   Start_Time  Breaths_per_30_seconds\n",
      "0   2025-06-13 23:05:00+06:00                      59\n",
      "1   2025-06-13 23:06:00+06:00                     180\n",
      "2   2025-06-13 23:07:00+06:00                     233\n",
      "3   2025-06-13 23:08:00+06:00                     178\n",
      "4   2025-06-13 23:09:00+06:00                      82\n",
      "..                        ...                     ...\n",
      "101 2025-06-14 00:46:00+06:00                       0\n",
      "102 2025-06-14 00:47:00+06:00                       0\n",
      "103 2025-06-14 00:48:00+06:00                       0\n",
      "104 2025-06-14 00:49:00+06:00                       0\n",
      "105 2025-06-14 00:50:00+06:00                       5\n",
      "\n",
      "[106 rows x 2 columns]\n"
     ]
    },
    {
     "name": "stderr",
     "output_type": "stream",
     "text": [
      "/var/folders/qj/1f20_52j2yj49hjhy3ht9wzw0000gn/T/ipykernel_27822/1572111637.py:22: FutureWarning:\n",
      "\n",
      "'S' is deprecated and will be removed in a future version, please use 's' instead.\n",
      "\n"
     ]
    }
   ],
   "source": [
    "# Breathing rate\n",
    "respck_df = respeck_df.rename_axis(None)\n",
    "r_temp = respck_df.reset_index()\n",
    "r_temp.rename(columns={'index': 'row_index'}, inplace=True)  # Use a different name\n",
    "\n",
    "# Now extract both the row indices and timestamps\n",
    "all_breath_indices = [idx for sublist in breathLocations_respeck for idx in sublist]\n",
    "\n",
    "# Create a clean dataframe with row indices and datetime from the index\n",
    "breath_time_data_respeck = pd.DataFrame({\n",
    "    'row_index': all_breath_indices,\n",
    "    'datetime': psg_df.index[all_breath_indices]\n",
    "})\n",
    "\n",
    "\n",
    "window_size = 30\n",
    "\n",
    "# Set datetime as index for resampling\n",
    "breaths_df_indexed_respeck = breath_time_data_respeck.set_index('datetime')\n",
    "\n",
    "# Resample to count breaths in 30-second windows\n",
    "breathing_rate_windows = breaths_df_indexed_respeck.resample('60S').size()\n",
    "\n",
    "# Create summary dataframe\n",
    "breathing_rate_summary_df_respeck = pd.DataFrame({\n",
    "    'Start_Time': breathing_rate_windows.index,\n",
    "    'Breaths_per_30_seconds': breathing_rate_windows.values\n",
    "})\n",
    "print(breathing_rate_summary_df_respeck)"
   ]
  },
  {
   "cell_type": "code",
   "execution_count": 11,
   "id": "99827a67",
   "metadata": {},
   "outputs": [
    {
     "data": {
      "application/vnd.plotly.v1+json": {
       "config": {
        "plotlyServerURL": "https://plot.ly"
       },
       "data": [
        {
         "hovertemplate": "Time=%{x}<br>Breaths per 30 seconds=%{y}<extra></extra>",
         "legendgroup": "",
         "line": {
          "color": "#2E86AB",
          "dash": "solid",
          "width": 2
         },
         "marker": {
          "symbol": "circle"
         },
         "mode": "lines",
         "name": "",
         "orientation": "v",
         "showlegend": false,
         "type": "scatter",
         "x": [
          "2025-06-13T23:05:00.000000000",
          "2025-06-13T23:06:00.000000000",
          "2025-06-13T23:07:00.000000000",
          "2025-06-13T23:08:00.000000000",
          "2025-06-13T23:09:00.000000000",
          "2025-06-13T23:10:00.000000000",
          "2025-06-13T23:11:00.000000000",
          "2025-06-13T23:12:00.000000000",
          "2025-06-13T23:13:00.000000000",
          "2025-06-13T23:14:00.000000000",
          "2025-06-13T23:15:00.000000000",
          "2025-06-13T23:16:00.000000000",
          "2025-06-13T23:17:00.000000000",
          "2025-06-13T23:18:00.000000000",
          "2025-06-13T23:19:00.000000000",
          "2025-06-13T23:20:00.000000000",
          "2025-06-13T23:21:00.000000000",
          "2025-06-13T23:22:00.000000000",
          "2025-06-13T23:23:00.000000000",
          "2025-06-13T23:24:00.000000000",
          "2025-06-13T23:25:00.000000000",
          "2025-06-13T23:26:00.000000000",
          "2025-06-13T23:27:00.000000000",
          "2025-06-13T23:28:00.000000000",
          "2025-06-13T23:29:00.000000000",
          "2025-06-13T23:30:00.000000000",
          "2025-06-13T23:31:00.000000000",
          "2025-06-13T23:32:00.000000000",
          "2025-06-13T23:33:00.000000000",
          "2025-06-13T23:34:00.000000000",
          "2025-06-13T23:35:00.000000000",
          "2025-06-13T23:36:00.000000000",
          "2025-06-13T23:37:00.000000000",
          "2025-06-13T23:38:00.000000000",
          "2025-06-13T23:39:00.000000000",
          "2025-06-13T23:40:00.000000000",
          "2025-06-13T23:41:00.000000000",
          "2025-06-13T23:42:00.000000000",
          "2025-06-13T23:43:00.000000000",
          "2025-06-13T23:44:00.000000000",
          "2025-06-13T23:45:00.000000000",
          "2025-06-13T23:46:00.000000000",
          "2025-06-13T23:47:00.000000000",
          "2025-06-13T23:48:00.000000000",
          "2025-06-13T23:49:00.000000000",
          "2025-06-13T23:50:00.000000000",
          "2025-06-13T23:51:00.000000000",
          "2025-06-13T23:52:00.000000000",
          "2025-06-13T23:53:00.000000000",
          "2025-06-13T23:54:00.000000000",
          "2025-06-13T23:55:00.000000000",
          "2025-06-13T23:56:00.000000000",
          "2025-06-13T23:57:00.000000000",
          "2025-06-13T23:58:00.000000000",
          "2025-06-13T23:59:00.000000000",
          "2025-06-14T00:00:00.000000000",
          "2025-06-14T00:01:00.000000000",
          "2025-06-14T00:02:00.000000000",
          "2025-06-14T00:03:00.000000000",
          "2025-06-14T00:04:00.000000000",
          "2025-06-14T00:05:00.000000000",
          "2025-06-14T00:06:00.000000000",
          "2025-06-14T00:07:00.000000000",
          "2025-06-14T00:08:00.000000000",
          "2025-06-14T00:09:00.000000000",
          "2025-06-14T00:10:00.000000000",
          "2025-06-14T00:11:00.000000000",
          "2025-06-14T00:12:00.000000000",
          "2025-06-14T00:13:00.000000000",
          "2025-06-14T00:14:00.000000000",
          "2025-06-14T00:15:00.000000000",
          "2025-06-14T00:16:00.000000000",
          "2025-06-14T00:17:00.000000000",
          "2025-06-14T00:18:00.000000000",
          "2025-06-14T00:19:00.000000000",
          "2025-06-14T00:20:00.000000000",
          "2025-06-14T00:21:00.000000000",
          "2025-06-14T00:22:00.000000000",
          "2025-06-14T00:23:00.000000000",
          "2025-06-14T00:24:00.000000000",
          "2025-06-14T00:25:00.000000000",
          "2025-06-14T00:26:00.000000000",
          "2025-06-14T00:27:00.000000000",
          "2025-06-14T00:28:00.000000000",
          "2025-06-14T00:29:00.000000000",
          "2025-06-14T00:30:00.000000000",
          "2025-06-14T00:31:00.000000000",
          "2025-06-14T00:32:00.000000000",
          "2025-06-14T00:33:00.000000000",
          "2025-06-14T00:34:00.000000000",
          "2025-06-14T00:35:00.000000000",
          "2025-06-14T00:36:00.000000000",
          "2025-06-14T00:37:00.000000000",
          "2025-06-14T00:38:00.000000000",
          "2025-06-14T00:39:00.000000000",
          "2025-06-14T00:40:00.000000000",
          "2025-06-14T00:41:00.000000000",
          "2025-06-14T00:42:00.000000000",
          "2025-06-14T00:43:00.000000000",
          "2025-06-14T00:44:00.000000000",
          "2025-06-14T00:45:00.000000000",
          "2025-06-14T00:46:00.000000000",
          "2025-06-14T00:47:00.000000000",
          "2025-06-14T00:48:00.000000000",
          "2025-06-14T00:49:00.000000000",
          "2025-06-14T00:50:00.000000000"
         ],
         "xaxis": "x",
         "y": {
          "bdata": "OwC0AOkAsgBSADUACgAGAFIADQAEAEQAWwAAADkALQAeAEMALQBAAD8AMQAcAAAACwAAABEAIwBhADUACwAyAHoAmwBDADUAUQAeACgALQBOAI4AYgAqABUAHgAjACgANABFAJAAcAAsAGgANQARAEsAbwAvAFAAEgB5AHsAEAAAAAEAOQApAAAAAAAAAAAAAAAAAAAAAAAAAAAAAgAAAAAAAAAAAAAAAAAAAAAAAAAAAAAAAAAAAAAAAAAAAAAAAAAAAAAAAAAAAAAAAAAAAAAABQA=",
          "dtype": "i2"
         },
         "yaxis": "y"
        }
       ],
       "layout": {
        "legend": {
         "tracegroupgap": 0
        },
        "template": {
         "data": {
          "bar": [
           {
            "error_x": {
             "color": "#2a3f5f"
            },
            "error_y": {
             "color": "#2a3f5f"
            },
            "marker": {
             "line": {
              "color": "white",
              "width": 0.5
             },
             "pattern": {
              "fillmode": "overlay",
              "size": 10,
              "solidity": 0.2
             }
            },
            "type": "bar"
           }
          ],
          "barpolar": [
           {
            "marker": {
             "line": {
              "color": "white",
              "width": 0.5
             },
             "pattern": {
              "fillmode": "overlay",
              "size": 10,
              "solidity": 0.2
             }
            },
            "type": "barpolar"
           }
          ],
          "carpet": [
           {
            "aaxis": {
             "endlinecolor": "#2a3f5f",
             "gridcolor": "#C8D4E3",
             "linecolor": "#C8D4E3",
             "minorgridcolor": "#C8D4E3",
             "startlinecolor": "#2a3f5f"
            },
            "baxis": {
             "endlinecolor": "#2a3f5f",
             "gridcolor": "#C8D4E3",
             "linecolor": "#C8D4E3",
             "minorgridcolor": "#C8D4E3",
             "startlinecolor": "#2a3f5f"
            },
            "type": "carpet"
           }
          ],
          "choropleth": [
           {
            "colorbar": {
             "outlinewidth": 0,
             "ticks": ""
            },
            "type": "choropleth"
           }
          ],
          "contour": [
           {
            "colorbar": {
             "outlinewidth": 0,
             "ticks": ""
            },
            "colorscale": [
             [
              0,
              "#0d0887"
             ],
             [
              0.1111111111111111,
              "#46039f"
             ],
             [
              0.2222222222222222,
              "#7201a8"
             ],
             [
              0.3333333333333333,
              "#9c179e"
             ],
             [
              0.4444444444444444,
              "#bd3786"
             ],
             [
              0.5555555555555556,
              "#d8576b"
             ],
             [
              0.6666666666666666,
              "#ed7953"
             ],
             [
              0.7777777777777778,
              "#fb9f3a"
             ],
             [
              0.8888888888888888,
              "#fdca26"
             ],
             [
              1,
              "#f0f921"
             ]
            ],
            "type": "contour"
           }
          ],
          "contourcarpet": [
           {
            "colorbar": {
             "outlinewidth": 0,
             "ticks": ""
            },
            "type": "contourcarpet"
           }
          ],
          "heatmap": [
           {
            "colorbar": {
             "outlinewidth": 0,
             "ticks": ""
            },
            "colorscale": [
             [
              0,
              "#0d0887"
             ],
             [
              0.1111111111111111,
              "#46039f"
             ],
             [
              0.2222222222222222,
              "#7201a8"
             ],
             [
              0.3333333333333333,
              "#9c179e"
             ],
             [
              0.4444444444444444,
              "#bd3786"
             ],
             [
              0.5555555555555556,
              "#d8576b"
             ],
             [
              0.6666666666666666,
              "#ed7953"
             ],
             [
              0.7777777777777778,
              "#fb9f3a"
             ],
             [
              0.8888888888888888,
              "#fdca26"
             ],
             [
              1,
              "#f0f921"
             ]
            ],
            "type": "heatmap"
           }
          ],
          "histogram": [
           {
            "marker": {
             "pattern": {
              "fillmode": "overlay",
              "size": 10,
              "solidity": 0.2
             }
            },
            "type": "histogram"
           }
          ],
          "histogram2d": [
           {
            "colorbar": {
             "outlinewidth": 0,
             "ticks": ""
            },
            "colorscale": [
             [
              0,
              "#0d0887"
             ],
             [
              0.1111111111111111,
              "#46039f"
             ],
             [
              0.2222222222222222,
              "#7201a8"
             ],
             [
              0.3333333333333333,
              "#9c179e"
             ],
             [
              0.4444444444444444,
              "#bd3786"
             ],
             [
              0.5555555555555556,
              "#d8576b"
             ],
             [
              0.6666666666666666,
              "#ed7953"
             ],
             [
              0.7777777777777778,
              "#fb9f3a"
             ],
             [
              0.8888888888888888,
              "#fdca26"
             ],
             [
              1,
              "#f0f921"
             ]
            ],
            "type": "histogram2d"
           }
          ],
          "histogram2dcontour": [
           {
            "colorbar": {
             "outlinewidth": 0,
             "ticks": ""
            },
            "colorscale": [
             [
              0,
              "#0d0887"
             ],
             [
              0.1111111111111111,
              "#46039f"
             ],
             [
              0.2222222222222222,
              "#7201a8"
             ],
             [
              0.3333333333333333,
              "#9c179e"
             ],
             [
              0.4444444444444444,
              "#bd3786"
             ],
             [
              0.5555555555555556,
              "#d8576b"
             ],
             [
              0.6666666666666666,
              "#ed7953"
             ],
             [
              0.7777777777777778,
              "#fb9f3a"
             ],
             [
              0.8888888888888888,
              "#fdca26"
             ],
             [
              1,
              "#f0f921"
             ]
            ],
            "type": "histogram2dcontour"
           }
          ],
          "mesh3d": [
           {
            "colorbar": {
             "outlinewidth": 0,
             "ticks": ""
            },
            "type": "mesh3d"
           }
          ],
          "parcoords": [
           {
            "line": {
             "colorbar": {
              "outlinewidth": 0,
              "ticks": ""
             }
            },
            "type": "parcoords"
           }
          ],
          "pie": [
           {
            "automargin": true,
            "type": "pie"
           }
          ],
          "scatter": [
           {
            "fillpattern": {
             "fillmode": "overlay",
             "size": 10,
             "solidity": 0.2
            },
            "type": "scatter"
           }
          ],
          "scatter3d": [
           {
            "line": {
             "colorbar": {
              "outlinewidth": 0,
              "ticks": ""
             }
            },
            "marker": {
             "colorbar": {
              "outlinewidth": 0,
              "ticks": ""
             }
            },
            "type": "scatter3d"
           }
          ],
          "scattercarpet": [
           {
            "marker": {
             "colorbar": {
              "outlinewidth": 0,
              "ticks": ""
             }
            },
            "type": "scattercarpet"
           }
          ],
          "scattergeo": [
           {
            "marker": {
             "colorbar": {
              "outlinewidth": 0,
              "ticks": ""
             }
            },
            "type": "scattergeo"
           }
          ],
          "scattergl": [
           {
            "marker": {
             "colorbar": {
              "outlinewidth": 0,
              "ticks": ""
             }
            },
            "type": "scattergl"
           }
          ],
          "scattermap": [
           {
            "marker": {
             "colorbar": {
              "outlinewidth": 0,
              "ticks": ""
             }
            },
            "type": "scattermap"
           }
          ],
          "scattermapbox": [
           {
            "marker": {
             "colorbar": {
              "outlinewidth": 0,
              "ticks": ""
             }
            },
            "type": "scattermapbox"
           }
          ],
          "scatterpolar": [
           {
            "marker": {
             "colorbar": {
              "outlinewidth": 0,
              "ticks": ""
             }
            },
            "type": "scatterpolar"
           }
          ],
          "scatterpolargl": [
           {
            "marker": {
             "colorbar": {
              "outlinewidth": 0,
              "ticks": ""
             }
            },
            "type": "scatterpolargl"
           }
          ],
          "scatterternary": [
           {
            "marker": {
             "colorbar": {
              "outlinewidth": 0,
              "ticks": ""
             }
            },
            "type": "scatterternary"
           }
          ],
          "surface": [
           {
            "colorbar": {
             "outlinewidth": 0,
             "ticks": ""
            },
            "colorscale": [
             [
              0,
              "#0d0887"
             ],
             [
              0.1111111111111111,
              "#46039f"
             ],
             [
              0.2222222222222222,
              "#7201a8"
             ],
             [
              0.3333333333333333,
              "#9c179e"
             ],
             [
              0.4444444444444444,
              "#bd3786"
             ],
             [
              0.5555555555555556,
              "#d8576b"
             ],
             [
              0.6666666666666666,
              "#ed7953"
             ],
             [
              0.7777777777777778,
              "#fb9f3a"
             ],
             [
              0.8888888888888888,
              "#fdca26"
             ],
             [
              1,
              "#f0f921"
             ]
            ],
            "type": "surface"
           }
          ],
          "table": [
           {
            "cells": {
             "fill": {
              "color": "#EBF0F8"
             },
             "line": {
              "color": "white"
             }
            },
            "header": {
             "fill": {
              "color": "#C8D4E3"
             },
             "line": {
              "color": "white"
             }
            },
            "type": "table"
           }
          ]
         },
         "layout": {
          "annotationdefaults": {
           "arrowcolor": "#2a3f5f",
           "arrowhead": 0,
           "arrowwidth": 1
          },
          "autotypenumbers": "strict",
          "coloraxis": {
           "colorbar": {
            "outlinewidth": 0,
            "ticks": ""
           }
          },
          "colorscale": {
           "diverging": [
            [
             0,
             "#8e0152"
            ],
            [
             0.1,
             "#c51b7d"
            ],
            [
             0.2,
             "#de77ae"
            ],
            [
             0.3,
             "#f1b6da"
            ],
            [
             0.4,
             "#fde0ef"
            ],
            [
             0.5,
             "#f7f7f7"
            ],
            [
             0.6,
             "#e6f5d0"
            ],
            [
             0.7,
             "#b8e186"
            ],
            [
             0.8,
             "#7fbc41"
            ],
            [
             0.9,
             "#4d9221"
            ],
            [
             1,
             "#276419"
            ]
           ],
           "sequential": [
            [
             0,
             "#0d0887"
            ],
            [
             0.1111111111111111,
             "#46039f"
            ],
            [
             0.2222222222222222,
             "#7201a8"
            ],
            [
             0.3333333333333333,
             "#9c179e"
            ],
            [
             0.4444444444444444,
             "#bd3786"
            ],
            [
             0.5555555555555556,
             "#d8576b"
            ],
            [
             0.6666666666666666,
             "#ed7953"
            ],
            [
             0.7777777777777778,
             "#fb9f3a"
            ],
            [
             0.8888888888888888,
             "#fdca26"
            ],
            [
             1,
             "#f0f921"
            ]
           ],
           "sequentialminus": [
            [
             0,
             "#0d0887"
            ],
            [
             0.1111111111111111,
             "#46039f"
            ],
            [
             0.2222222222222222,
             "#7201a8"
            ],
            [
             0.3333333333333333,
             "#9c179e"
            ],
            [
             0.4444444444444444,
             "#bd3786"
            ],
            [
             0.5555555555555556,
             "#d8576b"
            ],
            [
             0.6666666666666666,
             "#ed7953"
            ],
            [
             0.7777777777777778,
             "#fb9f3a"
            ],
            [
             0.8888888888888888,
             "#fdca26"
            ],
            [
             1,
             "#f0f921"
            ]
           ]
          },
          "colorway": [
           "#636efa",
           "#EF553B",
           "#00cc96",
           "#ab63fa",
           "#FFA15A",
           "#19d3f3",
           "#FF6692",
           "#B6E880",
           "#FF97FF",
           "#FECB52"
          ],
          "font": {
           "color": "#2a3f5f"
          },
          "geo": {
           "bgcolor": "white",
           "lakecolor": "white",
           "landcolor": "white",
           "showlakes": true,
           "showland": true,
           "subunitcolor": "#C8D4E3"
          },
          "hoverlabel": {
           "align": "left"
          },
          "hovermode": "closest",
          "mapbox": {
           "style": "light"
          },
          "paper_bgcolor": "white",
          "plot_bgcolor": "white",
          "polar": {
           "angularaxis": {
            "gridcolor": "#EBF0F8",
            "linecolor": "#EBF0F8",
            "ticks": ""
           },
           "bgcolor": "white",
           "radialaxis": {
            "gridcolor": "#EBF0F8",
            "linecolor": "#EBF0F8",
            "ticks": ""
           }
          },
          "scene": {
           "xaxis": {
            "backgroundcolor": "white",
            "gridcolor": "#DFE8F3",
            "gridwidth": 2,
            "linecolor": "#EBF0F8",
            "showbackground": true,
            "ticks": "",
            "zerolinecolor": "#EBF0F8"
           },
           "yaxis": {
            "backgroundcolor": "white",
            "gridcolor": "#DFE8F3",
            "gridwidth": 2,
            "linecolor": "#EBF0F8",
            "showbackground": true,
            "ticks": "",
            "zerolinecolor": "#EBF0F8"
           },
           "zaxis": {
            "backgroundcolor": "white",
            "gridcolor": "#DFE8F3",
            "gridwidth": 2,
            "linecolor": "#EBF0F8",
            "showbackground": true,
            "ticks": "",
            "zerolinecolor": "#EBF0F8"
           }
          },
          "shapedefaults": {
           "line": {
            "color": "#2a3f5f"
           }
          },
          "ternary": {
           "aaxis": {
            "gridcolor": "#DFE8F3",
            "linecolor": "#A2B1C6",
            "ticks": ""
           },
           "baxis": {
            "gridcolor": "#DFE8F3",
            "linecolor": "#A2B1C6",
            "ticks": ""
           },
           "bgcolor": "white",
           "caxis": {
            "gridcolor": "#DFE8F3",
            "linecolor": "#A2B1C6",
            "ticks": ""
           }
          },
          "title": {
           "x": 0.05
          },
          "xaxis": {
           "automargin": true,
           "gridcolor": "#EBF0F8",
           "linecolor": "#EBF0F8",
           "ticks": "",
           "title": {
            "standoff": 15
           },
           "zerolinecolor": "#EBF0F8",
           "zerolinewidth": 2
          },
          "yaxis": {
           "automargin": true,
           "gridcolor": "#EBF0F8",
           "linecolor": "#EBF0F8",
           "ticks": "",
           "title": {
            "standoff": 15
           },
           "zerolinecolor": "#EBF0F8",
           "zerolinewidth": 2
          }
         }
        },
        "title": {
         "text": "Breathing Rate Over Time (resepck)"
        },
        "xaxis": {
         "anchor": "y",
         "domain": [
          0,
          1
         ],
         "title": {
          "text": "Time"
         }
        },
        "yaxis": {
         "anchor": "x",
         "domain": [
          0,
          1
         ],
         "title": {
          "text": "Breaths per 30 seconds"
         }
        }
       }
      }
     },
     "metadata": {},
     "output_type": "display_data"
    }
   ],
   "source": [
    "fig = px.line(breathing_rate_summary_df_respeck, \n",
    "              x='Start_Time', \n",
    "              y='Breaths_per_30_seconds',\n",
    "              title='Breathing Rate Over Time (resepck)',\n",
    "              labels={\n",
    "                  'Start_Time': 'Time',\n",
    "                  'Breaths_per_30_seconds': 'Breaths per 30 seconds'\n",
    "              })\n",
    "\n",
    "fig.update_traces(line_color='#2E86AB', line_width=2)\n",
    "fig.update_layout(template='plotly_white')\n",
    "fig.show()"
   ]
  },
  {
   "cell_type": "markdown",
   "id": "03e84a01",
   "metadata": {},
   "source": [
    "**Plotting new Cheyne-Stokes data**"
   ]
  },
  {
   "cell_type": "code",
   "execution_count": 12,
   "id": "71991d62",
   "metadata": {},
   "outputs": [
    {
     "name": "stdout",
     "output_type": "stream",
     "text": [
      "Loading data...\n",
      "0        2025-06-13 22:58:47.365000+06:00\n",
      "1        2025-06-13 22:58:47.445000+06:00\n",
      "2        2025-06-13 22:58:47.525000+06:00\n",
      "3        2025-06-13 22:58:47.605000+06:00\n",
      "4        2025-06-13 22:58:47.685000+06:00\n",
      "                       ...               \n",
      "646267   2025-06-14 13:40:50.184000+06:00\n",
      "646268   2025-06-14 13:40:50.264000+06:00\n",
      "646269   2025-06-14 13:40:50.344000+06:00\n",
      "646270   2025-06-14 13:40:50.424000+06:00\n",
      "646271   2025-06-14 13:40:50.424000+06:00\n",
      "Name: timestamp, Length: 646272, dtype: datetime64[ns, Asia/Bishkek]\n",
      "0                2025-06-13 23:04:54+06:00\n",
      "1         2025-06-13 23:04:54.010000+06:00\n",
      "2         2025-06-13 23:04:54.020000+06:00\n",
      "3         2025-06-13 23:04:54.030000+06:00\n",
      "4         2025-06-13 23:04:54.040000+06:00\n",
      "                        ...               \n",
      "1933295   2025-06-14 04:27:06.950000+06:00\n",
      "1933296   2025-06-14 04:27:06.960000+06:00\n",
      "1933297   2025-06-14 04:27:06.970000+06:00\n",
      "1933298   2025-06-14 04:27:06.980000+06:00\n",
      "1933299   2025-06-14 04:27:06.990000+06:00\n",
      "Name: timestamp, Length: 1933300, dtype: datetime64[ns, Asia/Bishkek]\n"
     ]
    }
   ],
   "source": [
    "# Load Cheyne-stokes\n",
    "\n",
    "RESPECK = '../../data/cheyne-stokes/CSR003 13.06.2025/Respeck_CSR003_35c5fa1801da28b5_D11B86C3EA87(6AL)_2025-06-13_decrypted.csv'\n",
    "PSG = '../../data/cheyne-stokes/CSR003 13.06.2025/EDF CSR003 13.06.2025_csv.csv'\n",
    "\n",
    "# --- Load Data ---\n",
    "print(\"Loading data...\")\n",
    "\n",
    "respeck_cs = pd.read_csv(RESPECK)\n",
    "respeck_cs['timestamp'] = pd.to_datetime(respeck_cs['interpolatedPhoneTimestamp'], unit='ms')\n",
    "tz = pytz.timezone('Asia/Bishkek')\n",
    "respeck_cs['timestamp'] = respeck_cs['timestamp'].dt.tz_localize('UTC').dt.tz_convert(tz)\n",
    "print(respeck_cs['timestamp'])\n",
    "respeck_cs.set_index('timestamp', inplace=True, drop=False)\n",
    "\n",
    "psg_df_cs = pd.read_csv(PSG_FILE)\n",
    "psg_df_cs['timestamp'] = pd.to_datetime(psg_df_cs['UnixTimestamp'], unit='ms')\n",
    "tz = pytz.timezone('Asia/Bishkek')\n",
    "psg_df_cs['timestamp'] = psg_df_cs['timestamp'].dt.tz_localize('UTC').dt.tz_convert(tz)\n",
    "print(psg_df_cs['timestamp'])\n",
    "psg_df_cs.set_index('timestamp', inplace=True, drop=False)\n"
   ]
  },
  {
   "cell_type": "code",
   "execution_count": 13,
   "id": "58af365d",
   "metadata": {},
   "outputs": [
    {
     "data": {
      "application/vnd.plotly.v1+json": {
       "config": {
        "plotlyServerURL": "https://plot.ly"
       },
       "data": [
        {
         "hovertemplate": "Time=%{x}<br>Breaths per 30 seconds=%{y}<extra></extra>",
         "legendgroup": "",
         "line": {
          "color": "#2E86AB",
          "dash": "solid",
          "width": 2
         },
         "marker": {
          "symbol": "circle"
         },
         "mode": "lines",
         "name": "",
         "orientation": "v",
         "showlegend": false,
         "type": "scatter",
         "x": [
          "2025-06-13T23:05:00.000000000",
          "2025-06-13T23:06:00.000000000",
          "2025-06-13T23:07:00.000000000",
          "2025-06-13T23:08:00.000000000",
          "2025-06-13T23:09:00.000000000",
          "2025-06-13T23:10:00.000000000",
          "2025-06-13T23:11:00.000000000",
          "2025-06-13T23:12:00.000000000",
          "2025-06-13T23:13:00.000000000",
          "2025-06-13T23:14:00.000000000",
          "2025-06-13T23:15:00.000000000",
          "2025-06-13T23:16:00.000000000",
          "2025-06-13T23:17:00.000000000",
          "2025-06-13T23:18:00.000000000",
          "2025-06-13T23:19:00.000000000",
          "2025-06-13T23:20:00.000000000",
          "2025-06-13T23:21:00.000000000",
          "2025-06-13T23:22:00.000000000",
          "2025-06-13T23:23:00.000000000",
          "2025-06-13T23:24:00.000000000",
          "2025-06-13T23:25:00.000000000",
          "2025-06-13T23:26:00.000000000",
          "2025-06-13T23:27:00.000000000",
          "2025-06-13T23:28:00.000000000",
          "2025-06-13T23:29:00.000000000",
          "2025-06-13T23:30:00.000000000",
          "2025-06-13T23:31:00.000000000",
          "2025-06-13T23:32:00.000000000",
          "2025-06-13T23:33:00.000000000",
          "2025-06-13T23:34:00.000000000",
          "2025-06-13T23:35:00.000000000",
          "2025-06-13T23:36:00.000000000",
          "2025-06-13T23:37:00.000000000",
          "2025-06-13T23:38:00.000000000",
          "2025-06-13T23:39:00.000000000",
          "2025-06-13T23:40:00.000000000",
          "2025-06-13T23:41:00.000000000",
          "2025-06-13T23:42:00.000000000",
          "2025-06-13T23:43:00.000000000",
          "2025-06-13T23:44:00.000000000",
          "2025-06-13T23:45:00.000000000",
          "2025-06-13T23:46:00.000000000",
          "2025-06-13T23:47:00.000000000",
          "2025-06-13T23:48:00.000000000",
          "2025-06-13T23:49:00.000000000",
          "2025-06-13T23:50:00.000000000",
          "2025-06-13T23:51:00.000000000",
          "2025-06-13T23:52:00.000000000",
          "2025-06-13T23:53:00.000000000",
          "2025-06-13T23:54:00.000000000",
          "2025-06-13T23:55:00.000000000",
          "2025-06-13T23:56:00.000000000",
          "2025-06-13T23:57:00.000000000",
          "2025-06-13T23:58:00.000000000",
          "2025-06-13T23:59:00.000000000",
          "2025-06-14T00:00:00.000000000",
          "2025-06-14T00:01:00.000000000",
          "2025-06-14T00:02:00.000000000",
          "2025-06-14T00:03:00.000000000",
          "2025-06-14T00:04:00.000000000",
          "2025-06-14T00:05:00.000000000",
          "2025-06-14T00:06:00.000000000",
          "2025-06-14T00:07:00.000000000",
          "2025-06-14T00:08:00.000000000",
          "2025-06-14T00:09:00.000000000",
          "2025-06-14T00:10:00.000000000",
          "2025-06-14T00:11:00.000000000",
          "2025-06-14T00:12:00.000000000",
          "2025-06-14T00:13:00.000000000",
          "2025-06-14T00:14:00.000000000",
          "2025-06-14T00:15:00.000000000",
          "2025-06-14T00:16:00.000000000",
          "2025-06-14T00:17:00.000000000",
          "2025-06-14T00:18:00.000000000",
          "2025-06-14T00:19:00.000000000",
          "2025-06-14T00:20:00.000000000",
          "2025-06-14T00:21:00.000000000",
          "2025-06-14T00:22:00.000000000",
          "2025-06-14T00:23:00.000000000",
          "2025-06-14T00:24:00.000000000",
          "2025-06-14T00:25:00.000000000",
          "2025-06-14T00:26:00.000000000",
          "2025-06-14T00:27:00.000000000",
          "2025-06-14T00:28:00.000000000",
          "2025-06-14T00:29:00.000000000",
          "2025-06-14T00:30:00.000000000",
          "2025-06-14T00:31:00.000000000",
          "2025-06-14T00:32:00.000000000",
          "2025-06-14T00:33:00.000000000",
          "2025-06-14T00:34:00.000000000",
          "2025-06-14T00:35:00.000000000",
          "2025-06-14T00:36:00.000000000",
          "2025-06-14T00:37:00.000000000",
          "2025-06-14T00:38:00.000000000",
          "2025-06-14T00:39:00.000000000",
          "2025-06-14T00:40:00.000000000",
          "2025-06-14T00:41:00.000000000",
          "2025-06-14T00:42:00.000000000",
          "2025-06-14T00:43:00.000000000",
          "2025-06-14T00:44:00.000000000",
          "2025-06-14T00:45:00.000000000",
          "2025-06-14T00:46:00.000000000",
          "2025-06-14T00:47:00.000000000",
          "2025-06-14T00:48:00.000000000",
          "2025-06-14T00:49:00.000000000",
          "2025-06-14T00:50:00.000000000"
         ],
         "xaxis": "x",
         "y": {
          "bdata": "OwC0AOkAsgBSADUACgAGAFIADQAEAEQAWwAAADkALQAeAEMALQBAAD8AMQAcAAAACwAAABEAIwBhADUACwAyAHoAmwBDADUAUQAeACgALQBOAI4AYgAqABUAHgAjACgANABFAJAAcAAsAGgANQARAEsAbwAvAFAAEgB5AHsAEAAAAAEAOQApAAAAAAAAAAAAAAAAAAAAAAAAAAAAAgAAAAAAAAAAAAAAAAAAAAAAAAAAAAAAAAAAAAAAAAAAAAAAAAAAAAAAAAAAAAAAAAAAAAAABQA=",
          "dtype": "i2"
         },
         "yaxis": "y"
        }
       ],
       "layout": {
        "legend": {
         "tracegroupgap": 0
        },
        "template": {
         "data": {
          "bar": [
           {
            "error_x": {
             "color": "#2a3f5f"
            },
            "error_y": {
             "color": "#2a3f5f"
            },
            "marker": {
             "line": {
              "color": "white",
              "width": 0.5
             },
             "pattern": {
              "fillmode": "overlay",
              "size": 10,
              "solidity": 0.2
             }
            },
            "type": "bar"
           }
          ],
          "barpolar": [
           {
            "marker": {
             "line": {
              "color": "white",
              "width": 0.5
             },
             "pattern": {
              "fillmode": "overlay",
              "size": 10,
              "solidity": 0.2
             }
            },
            "type": "barpolar"
           }
          ],
          "carpet": [
           {
            "aaxis": {
             "endlinecolor": "#2a3f5f",
             "gridcolor": "#C8D4E3",
             "linecolor": "#C8D4E3",
             "minorgridcolor": "#C8D4E3",
             "startlinecolor": "#2a3f5f"
            },
            "baxis": {
             "endlinecolor": "#2a3f5f",
             "gridcolor": "#C8D4E3",
             "linecolor": "#C8D4E3",
             "minorgridcolor": "#C8D4E3",
             "startlinecolor": "#2a3f5f"
            },
            "type": "carpet"
           }
          ],
          "choropleth": [
           {
            "colorbar": {
             "outlinewidth": 0,
             "ticks": ""
            },
            "type": "choropleth"
           }
          ],
          "contour": [
           {
            "colorbar": {
             "outlinewidth": 0,
             "ticks": ""
            },
            "colorscale": [
             [
              0,
              "#0d0887"
             ],
             [
              0.1111111111111111,
              "#46039f"
             ],
             [
              0.2222222222222222,
              "#7201a8"
             ],
             [
              0.3333333333333333,
              "#9c179e"
             ],
             [
              0.4444444444444444,
              "#bd3786"
             ],
             [
              0.5555555555555556,
              "#d8576b"
             ],
             [
              0.6666666666666666,
              "#ed7953"
             ],
             [
              0.7777777777777778,
              "#fb9f3a"
             ],
             [
              0.8888888888888888,
              "#fdca26"
             ],
             [
              1,
              "#f0f921"
             ]
            ],
            "type": "contour"
           }
          ],
          "contourcarpet": [
           {
            "colorbar": {
             "outlinewidth": 0,
             "ticks": ""
            },
            "type": "contourcarpet"
           }
          ],
          "heatmap": [
           {
            "colorbar": {
             "outlinewidth": 0,
             "ticks": ""
            },
            "colorscale": [
             [
              0,
              "#0d0887"
             ],
             [
              0.1111111111111111,
              "#46039f"
             ],
             [
              0.2222222222222222,
              "#7201a8"
             ],
             [
              0.3333333333333333,
              "#9c179e"
             ],
             [
              0.4444444444444444,
              "#bd3786"
             ],
             [
              0.5555555555555556,
              "#d8576b"
             ],
             [
              0.6666666666666666,
              "#ed7953"
             ],
             [
              0.7777777777777778,
              "#fb9f3a"
             ],
             [
              0.8888888888888888,
              "#fdca26"
             ],
             [
              1,
              "#f0f921"
             ]
            ],
            "type": "heatmap"
           }
          ],
          "histogram": [
           {
            "marker": {
             "pattern": {
              "fillmode": "overlay",
              "size": 10,
              "solidity": 0.2
             }
            },
            "type": "histogram"
           }
          ],
          "histogram2d": [
           {
            "colorbar": {
             "outlinewidth": 0,
             "ticks": ""
            },
            "colorscale": [
             [
              0,
              "#0d0887"
             ],
             [
              0.1111111111111111,
              "#46039f"
             ],
             [
              0.2222222222222222,
              "#7201a8"
             ],
             [
              0.3333333333333333,
              "#9c179e"
             ],
             [
              0.4444444444444444,
              "#bd3786"
             ],
             [
              0.5555555555555556,
              "#d8576b"
             ],
             [
              0.6666666666666666,
              "#ed7953"
             ],
             [
              0.7777777777777778,
              "#fb9f3a"
             ],
             [
              0.8888888888888888,
              "#fdca26"
             ],
             [
              1,
              "#f0f921"
             ]
            ],
            "type": "histogram2d"
           }
          ],
          "histogram2dcontour": [
           {
            "colorbar": {
             "outlinewidth": 0,
             "ticks": ""
            },
            "colorscale": [
             [
              0,
              "#0d0887"
             ],
             [
              0.1111111111111111,
              "#46039f"
             ],
             [
              0.2222222222222222,
              "#7201a8"
             ],
             [
              0.3333333333333333,
              "#9c179e"
             ],
             [
              0.4444444444444444,
              "#bd3786"
             ],
             [
              0.5555555555555556,
              "#d8576b"
             ],
             [
              0.6666666666666666,
              "#ed7953"
             ],
             [
              0.7777777777777778,
              "#fb9f3a"
             ],
             [
              0.8888888888888888,
              "#fdca26"
             ],
             [
              1,
              "#f0f921"
             ]
            ],
            "type": "histogram2dcontour"
           }
          ],
          "mesh3d": [
           {
            "colorbar": {
             "outlinewidth": 0,
             "ticks": ""
            },
            "type": "mesh3d"
           }
          ],
          "parcoords": [
           {
            "line": {
             "colorbar": {
              "outlinewidth": 0,
              "ticks": ""
             }
            },
            "type": "parcoords"
           }
          ],
          "pie": [
           {
            "automargin": true,
            "type": "pie"
           }
          ],
          "scatter": [
           {
            "fillpattern": {
             "fillmode": "overlay",
             "size": 10,
             "solidity": 0.2
            },
            "type": "scatter"
           }
          ],
          "scatter3d": [
           {
            "line": {
             "colorbar": {
              "outlinewidth": 0,
              "ticks": ""
             }
            },
            "marker": {
             "colorbar": {
              "outlinewidth": 0,
              "ticks": ""
             }
            },
            "type": "scatter3d"
           }
          ],
          "scattercarpet": [
           {
            "marker": {
             "colorbar": {
              "outlinewidth": 0,
              "ticks": ""
             }
            },
            "type": "scattercarpet"
           }
          ],
          "scattergeo": [
           {
            "marker": {
             "colorbar": {
              "outlinewidth": 0,
              "ticks": ""
             }
            },
            "type": "scattergeo"
           }
          ],
          "scattergl": [
           {
            "marker": {
             "colorbar": {
              "outlinewidth": 0,
              "ticks": ""
             }
            },
            "type": "scattergl"
           }
          ],
          "scattermap": [
           {
            "marker": {
             "colorbar": {
              "outlinewidth": 0,
              "ticks": ""
             }
            },
            "type": "scattermap"
           }
          ],
          "scattermapbox": [
           {
            "marker": {
             "colorbar": {
              "outlinewidth": 0,
              "ticks": ""
             }
            },
            "type": "scattermapbox"
           }
          ],
          "scatterpolar": [
           {
            "marker": {
             "colorbar": {
              "outlinewidth": 0,
              "ticks": ""
             }
            },
            "type": "scatterpolar"
           }
          ],
          "scatterpolargl": [
           {
            "marker": {
             "colorbar": {
              "outlinewidth": 0,
              "ticks": ""
             }
            },
            "type": "scatterpolargl"
           }
          ],
          "scatterternary": [
           {
            "marker": {
             "colorbar": {
              "outlinewidth": 0,
              "ticks": ""
             }
            },
            "type": "scatterternary"
           }
          ],
          "surface": [
           {
            "colorbar": {
             "outlinewidth": 0,
             "ticks": ""
            },
            "colorscale": [
             [
              0,
              "#0d0887"
             ],
             [
              0.1111111111111111,
              "#46039f"
             ],
             [
              0.2222222222222222,
              "#7201a8"
             ],
             [
              0.3333333333333333,
              "#9c179e"
             ],
             [
              0.4444444444444444,
              "#bd3786"
             ],
             [
              0.5555555555555556,
              "#d8576b"
             ],
             [
              0.6666666666666666,
              "#ed7953"
             ],
             [
              0.7777777777777778,
              "#fb9f3a"
             ],
             [
              0.8888888888888888,
              "#fdca26"
             ],
             [
              1,
              "#f0f921"
             ]
            ],
            "type": "surface"
           }
          ],
          "table": [
           {
            "cells": {
             "fill": {
              "color": "#EBF0F8"
             },
             "line": {
              "color": "white"
             }
            },
            "header": {
             "fill": {
              "color": "#C8D4E3"
             },
             "line": {
              "color": "white"
             }
            },
            "type": "table"
           }
          ]
         },
         "layout": {
          "annotationdefaults": {
           "arrowcolor": "#2a3f5f",
           "arrowhead": 0,
           "arrowwidth": 1
          },
          "autotypenumbers": "strict",
          "coloraxis": {
           "colorbar": {
            "outlinewidth": 0,
            "ticks": ""
           }
          },
          "colorscale": {
           "diverging": [
            [
             0,
             "#8e0152"
            ],
            [
             0.1,
             "#c51b7d"
            ],
            [
             0.2,
             "#de77ae"
            ],
            [
             0.3,
             "#f1b6da"
            ],
            [
             0.4,
             "#fde0ef"
            ],
            [
             0.5,
             "#f7f7f7"
            ],
            [
             0.6,
             "#e6f5d0"
            ],
            [
             0.7,
             "#b8e186"
            ],
            [
             0.8,
             "#7fbc41"
            ],
            [
             0.9,
             "#4d9221"
            ],
            [
             1,
             "#276419"
            ]
           ],
           "sequential": [
            [
             0,
             "#0d0887"
            ],
            [
             0.1111111111111111,
             "#46039f"
            ],
            [
             0.2222222222222222,
             "#7201a8"
            ],
            [
             0.3333333333333333,
             "#9c179e"
            ],
            [
             0.4444444444444444,
             "#bd3786"
            ],
            [
             0.5555555555555556,
             "#d8576b"
            ],
            [
             0.6666666666666666,
             "#ed7953"
            ],
            [
             0.7777777777777778,
             "#fb9f3a"
            ],
            [
             0.8888888888888888,
             "#fdca26"
            ],
            [
             1,
             "#f0f921"
            ]
           ],
           "sequentialminus": [
            [
             0,
             "#0d0887"
            ],
            [
             0.1111111111111111,
             "#46039f"
            ],
            [
             0.2222222222222222,
             "#7201a8"
            ],
            [
             0.3333333333333333,
             "#9c179e"
            ],
            [
             0.4444444444444444,
             "#bd3786"
            ],
            [
             0.5555555555555556,
             "#d8576b"
            ],
            [
             0.6666666666666666,
             "#ed7953"
            ],
            [
             0.7777777777777778,
             "#fb9f3a"
            ],
            [
             0.8888888888888888,
             "#fdca26"
            ],
            [
             1,
             "#f0f921"
            ]
           ]
          },
          "colorway": [
           "#636efa",
           "#EF553B",
           "#00cc96",
           "#ab63fa",
           "#FFA15A",
           "#19d3f3",
           "#FF6692",
           "#B6E880",
           "#FF97FF",
           "#FECB52"
          ],
          "font": {
           "color": "#2a3f5f"
          },
          "geo": {
           "bgcolor": "white",
           "lakecolor": "white",
           "landcolor": "white",
           "showlakes": true,
           "showland": true,
           "subunitcolor": "#C8D4E3"
          },
          "hoverlabel": {
           "align": "left"
          },
          "hovermode": "closest",
          "mapbox": {
           "style": "light"
          },
          "paper_bgcolor": "white",
          "plot_bgcolor": "white",
          "polar": {
           "angularaxis": {
            "gridcolor": "#EBF0F8",
            "linecolor": "#EBF0F8",
            "ticks": ""
           },
           "bgcolor": "white",
           "radialaxis": {
            "gridcolor": "#EBF0F8",
            "linecolor": "#EBF0F8",
            "ticks": ""
           }
          },
          "scene": {
           "xaxis": {
            "backgroundcolor": "white",
            "gridcolor": "#DFE8F3",
            "gridwidth": 2,
            "linecolor": "#EBF0F8",
            "showbackground": true,
            "ticks": "",
            "zerolinecolor": "#EBF0F8"
           },
           "yaxis": {
            "backgroundcolor": "white",
            "gridcolor": "#DFE8F3",
            "gridwidth": 2,
            "linecolor": "#EBF0F8",
            "showbackground": true,
            "ticks": "",
            "zerolinecolor": "#EBF0F8"
           },
           "zaxis": {
            "backgroundcolor": "white",
            "gridcolor": "#DFE8F3",
            "gridwidth": 2,
            "linecolor": "#EBF0F8",
            "showbackground": true,
            "ticks": "",
            "zerolinecolor": "#EBF0F8"
           }
          },
          "shapedefaults": {
           "line": {
            "color": "#2a3f5f"
           }
          },
          "ternary": {
           "aaxis": {
            "gridcolor": "#DFE8F3",
            "linecolor": "#A2B1C6",
            "ticks": ""
           },
           "baxis": {
            "gridcolor": "#DFE8F3",
            "linecolor": "#A2B1C6",
            "ticks": ""
           },
           "bgcolor": "white",
           "caxis": {
            "gridcolor": "#DFE8F3",
            "linecolor": "#A2B1C6",
            "ticks": ""
           }
          },
          "title": {
           "x": 0.05
          },
          "xaxis": {
           "automargin": true,
           "gridcolor": "#EBF0F8",
           "linecolor": "#EBF0F8",
           "ticks": "",
           "title": {
            "standoff": 15
           },
           "zerolinecolor": "#EBF0F8",
           "zerolinewidth": 2
          },
          "yaxis": {
           "automargin": true,
           "gridcolor": "#EBF0F8",
           "linecolor": "#EBF0F8",
           "ticks": "",
           "title": {
            "standoff": 15
           },
           "zerolinecolor": "#EBF0F8",
           "zerolinewidth": 2
          }
         }
        },
        "title": {
         "text": "Breathing Rate Over Time (resepck)"
        },
        "xaxis": {
         "anchor": "y",
         "domain": [
          0,
          1
         ],
         "title": {
          "text": "Time"
         }
        },
        "yaxis": {
         "anchor": "x",
         "domain": [
          0,
          1
         ],
         "title": {
          "text": "Breaths per 30 seconds"
         }
        }
       }
      }
     },
     "metadata": {},
     "output_type": "display_data"
    }
   ],
   "source": [
    "overlap_start = max(respeck_cs['timestamp'].min(), psg_df_cs['timestamp'].min())\n",
    "overlap_end = min(respeck_cs['timestamp'].max(), psg_df_cs['timestamp'].max())\n",
    "respeck_overlap = respeck_cs[\n",
    "    (respeck_cs['timestamp'] <= overlap_end)\n",
    "]\n",
    "\n",
    "psg_overlap = psg_df_cs[\n",
    "   (psg_df_cs['timestamp'] <= overlap_end)\n",
    "]\n",
    "fig = go.Figure()\n",
    "\n",
    "# --- Add Traces from the First DataFrame ---\n",
    "# Add the 'breathingSignal' from df1 and assign it to the secondary y-axis\n",
    "fig.add_trace(go.Scatter(\n",
    "    x=respeck_overlap['timestamp'],\n",
    "    y=respeck_overlap['breathingSignal'],\n",
    "    mode='lines',\n",
    "    name='Breathing Signal - Respeck',\n",
    "    yaxis='y2' # <--- This is the key change for this trace\n",
    "))\n",
    "fig.add_trace(go.Scatter(\n",
    "    x=respeck_overlap['timestamp'],\n",
    "    y=respeck_overlap['x'],\n",
    "    mode='lines',\n",
    "    name='Breathing Signal - Respeck X'\n",
    "))\n",
    "fig.add_trace(go.Scatter(\n",
    "    x=respeck_overlap['timestamp'],\n",
    "    y=respeck_overlap['y'],\n",
    "    mode='lines',\n",
    "    name='Breathing Signal - Respeck Y'\n",
    "))\n",
    "fig.add_trace(go.Scatter(\n",
    "    x=respeck_overlap['timestamp'],\n",
    "    y=respeck_overlap['z'],\n",
    "    mode='lines',\n",
    "    name='Breathing Signal - Respeck Z'\n",
    "))\n",
    "# Add the 'Resp nasal' from df1\n",
    "fig.add_trace(go.Scatter(\n",
    "    x=psg_overlap['timestamp'],\n",
    "    y=psg_overlap['Resp nasal'],\n",
    "    mode='lines',\n",
    "    name='Resp Nasal - PSG'\n",
    "))\n",
    "\n",
    "\n",
    "# --- Update the Layout for a Professional Look with a Second Y-Axis ---\n",
    "fig.update_layout(\n",
    "    title='Comparison of Breathing Signals and Nasal Respiration',\n",
    "    xaxis_title='Timestamp',\n",
    "    yaxis_title='Signal Amplitude (Primary Axis)', # Updated left axis title\n",
    "    legend_title='Data Source',\n",
    "    hovermode='x unified', # For better tooltip experience\n",
    "    # --- This section creates and styles the secondary y-axis ---\n",
    "    yaxis2=dict(\n",
    "        title='Breathing Signal Amplitude (Secondary Axis)',\n",
    "        overlaying='y',\n",
    "        side='right'\n",
    "    )\n",
    "    # ----------------------------------------------------------------\n",
    ")\n",
    "\n",
    "# --- Show the Figure ---\n",
    "fig.show()\n",
    "fig.write_html(\"pre-alignment.html\")"
   ]
  },
  {
   "cell_type": "code",
   "execution_count": 14,
   "id": "b48546d2",
   "metadata": {},
   "outputs": [
    {
     "name": "stdout",
     "output_type": "stream",
     "text": [
      "=== BREATHING RATE ALIGNMENT ANALYSIS ===\n",
      "\n",
      "1. DATA OVERVIEW:\n",
      "PSG data: 321 time windows\n",
      "   Time range: 2025-06-13 23:06:00+06:00 to 2025-06-14 04:26:00+06:00\n",
      "   Breathing rate range: 0-61\n",
      "\n",
      "Respeck data: 106 time windows\n",
      "   Time range: 2025-06-13 23:05:00+06:00 to 2025-06-14 00:50:00+06:00\n",
      "   Breathing rate range: 0-233\n",
      "\n",
      "2. TIME OVERLAP:\n",
      "Overlapping period: 2025-06-13 23:06:00+06:00 to 2025-06-14 00:50:00+06:00\n",
      "Overlap duration: 1.73 hours\n",
      "\n",
      "3. DATA PREPARATION:\n",
      "Valid data points: 209 out of 209\n",
      "\n",
      "4. CROSS-CORRELATION RESULTS:\n",
      "Best correlation coefficient: 62.475\n",
      "Best time lag: -6.00 minutes\n",
      "Interpretation: PSG leads Respeck by 6.00 minutes\n",
      "Alignment quality: Excellent\n"
     ]
    },
    {
     "name": "stderr",
     "output_type": "stream",
     "text": [
      "/var/folders/qj/1f20_52j2yj49hjhy3ht9wzw0000gn/T/ipykernel_27822/4060946541.py:51: FutureWarning:\n",
      "\n",
      "'S' is deprecated and will be removed in a future version, please use 's' instead.\n",
      "\n"
     ]
    },
    {
     "data": {
      "application/vnd.plotly.v1+json": {
       "config": {
        "plotlyServerURL": "https://plot.ly"
       },
       "data": [
        {
         "line": {
          "color": "blue",
          "width": 2
         },
         "mode": "lines",
         "name": "PSG Breathing Rate",
         "type": "scatter",
         "x": [
          "2025-06-13T23:06:00+06:00",
          "2025-06-13T23:06:30+06:00",
          "2025-06-13T23:07:00+06:00",
          "2025-06-13T23:07:30+06:00",
          "2025-06-13T23:08:00+06:00",
          "2025-06-13T23:08:30+06:00",
          "2025-06-13T23:09:00+06:00",
          "2025-06-13T23:09:30+06:00",
          "2025-06-13T23:10:00+06:00",
          "2025-06-13T23:10:30+06:00",
          "2025-06-13T23:11:00+06:00",
          "2025-06-13T23:11:30+06:00",
          "2025-06-13T23:12:00+06:00",
          "2025-06-13T23:12:30+06:00",
          "2025-06-13T23:13:00+06:00",
          "2025-06-13T23:13:30+06:00",
          "2025-06-13T23:14:00+06:00",
          "2025-06-13T23:14:30+06:00",
          "2025-06-13T23:15:00+06:00",
          "2025-06-13T23:15:30+06:00",
          "2025-06-13T23:16:00+06:00",
          "2025-06-13T23:16:30+06:00",
          "2025-06-13T23:17:00+06:00",
          "2025-06-13T23:17:30+06:00",
          "2025-06-13T23:18:00+06:00",
          "2025-06-13T23:18:30+06:00",
          "2025-06-13T23:19:00+06:00",
          "2025-06-13T23:19:30+06:00",
          "2025-06-13T23:20:00+06:00",
          "2025-06-13T23:20:30+06:00",
          "2025-06-13T23:21:00+06:00",
          "2025-06-13T23:21:30+06:00",
          "2025-06-13T23:22:00+06:00",
          "2025-06-13T23:22:30+06:00",
          "2025-06-13T23:23:00+06:00",
          "2025-06-13T23:23:30+06:00",
          "2025-06-13T23:24:00+06:00",
          "2025-06-13T23:24:30+06:00",
          "2025-06-13T23:25:00+06:00",
          "2025-06-13T23:25:30+06:00",
          "2025-06-13T23:26:00+06:00",
          "2025-06-13T23:26:30+06:00",
          "2025-06-13T23:27:00+06:00",
          "2025-06-13T23:27:30+06:00",
          "2025-06-13T23:28:00+06:00",
          "2025-06-13T23:28:30+06:00",
          "2025-06-13T23:29:00+06:00",
          "2025-06-13T23:29:30+06:00",
          "2025-06-13T23:30:00+06:00",
          "2025-06-13T23:30:30+06:00",
          "2025-06-13T23:31:00+06:00",
          "2025-06-13T23:31:30+06:00",
          "2025-06-13T23:32:00+06:00",
          "2025-06-13T23:32:30+06:00",
          "2025-06-13T23:33:00+06:00",
          "2025-06-13T23:33:30+06:00",
          "2025-06-13T23:34:00+06:00",
          "2025-06-13T23:34:30+06:00",
          "2025-06-13T23:35:00+06:00",
          "2025-06-13T23:35:30+06:00",
          "2025-06-13T23:36:00+06:00",
          "2025-06-13T23:36:30+06:00",
          "2025-06-13T23:37:00+06:00",
          "2025-06-13T23:37:30+06:00",
          "2025-06-13T23:38:00+06:00",
          "2025-06-13T23:38:30+06:00",
          "2025-06-13T23:39:00+06:00",
          "2025-06-13T23:39:30+06:00",
          "2025-06-13T23:40:00+06:00",
          "2025-06-13T23:40:30+06:00",
          "2025-06-13T23:41:00+06:00",
          "2025-06-13T23:41:30+06:00",
          "2025-06-13T23:42:00+06:00",
          "2025-06-13T23:42:30+06:00",
          "2025-06-13T23:43:00+06:00",
          "2025-06-13T23:43:30+06:00",
          "2025-06-13T23:44:00+06:00",
          "2025-06-13T23:44:30+06:00",
          "2025-06-13T23:45:00+06:00",
          "2025-06-13T23:45:30+06:00",
          "2025-06-13T23:46:00+06:00",
          "2025-06-13T23:46:30+06:00",
          "2025-06-13T23:47:00+06:00",
          "2025-06-13T23:47:30+06:00",
          "2025-06-13T23:48:00+06:00",
          "2025-06-13T23:48:30+06:00",
          "2025-06-13T23:49:00+06:00",
          "2025-06-13T23:49:30+06:00",
          "2025-06-13T23:50:00+06:00",
          "2025-06-13T23:50:30+06:00",
          "2025-06-13T23:51:00+06:00",
          "2025-06-13T23:51:30+06:00",
          "2025-06-13T23:52:00+06:00",
          "2025-06-13T23:52:30+06:00",
          "2025-06-13T23:53:00+06:00",
          "2025-06-13T23:53:30+06:00",
          "2025-06-13T23:54:00+06:00",
          "2025-06-13T23:54:30+06:00",
          "2025-06-13T23:55:00+06:00",
          "2025-06-13T23:55:30+06:00",
          "2025-06-13T23:56:00+06:00",
          "2025-06-13T23:56:30+06:00",
          "2025-06-13T23:57:00+06:00",
          "2025-06-13T23:57:30+06:00",
          "2025-06-13T23:58:00+06:00",
          "2025-06-13T23:58:30+06:00",
          "2025-06-13T23:59:00+06:00",
          "2025-06-13T23:59:30+06:00",
          "2025-06-14T00:00:00+06:00",
          "2025-06-14T00:00:30+06:00",
          "2025-06-14T00:01:00+06:00",
          "2025-06-14T00:01:30+06:00",
          "2025-06-14T00:02:00+06:00",
          "2025-06-14T00:02:30+06:00",
          "2025-06-14T00:03:00+06:00",
          "2025-06-14T00:03:30+06:00",
          "2025-06-14T00:04:00+06:00",
          "2025-06-14T00:04:30+06:00",
          "2025-06-14T00:05:00+06:00",
          "2025-06-14T00:05:30+06:00",
          "2025-06-14T00:06:00+06:00",
          "2025-06-14T00:06:30+06:00",
          "2025-06-14T00:07:00+06:00",
          "2025-06-14T00:07:30+06:00",
          "2025-06-14T00:08:00+06:00",
          "2025-06-14T00:08:30+06:00",
          "2025-06-14T00:09:00+06:00",
          "2025-06-14T00:09:30+06:00",
          "2025-06-14T00:10:00+06:00",
          "2025-06-14T00:10:30+06:00",
          "2025-06-14T00:11:00+06:00",
          "2025-06-14T00:11:30+06:00",
          "2025-06-14T00:12:00+06:00",
          "2025-06-14T00:12:30+06:00",
          "2025-06-14T00:13:00+06:00",
          "2025-06-14T00:13:30+06:00",
          "2025-06-14T00:14:00+06:00",
          "2025-06-14T00:14:30+06:00",
          "2025-06-14T00:15:00+06:00",
          "2025-06-14T00:15:30+06:00",
          "2025-06-14T00:16:00+06:00",
          "2025-06-14T00:16:30+06:00",
          "2025-06-14T00:17:00+06:00",
          "2025-06-14T00:17:30+06:00",
          "2025-06-14T00:18:00+06:00",
          "2025-06-14T00:18:30+06:00",
          "2025-06-14T00:19:00+06:00",
          "2025-06-14T00:19:30+06:00",
          "2025-06-14T00:20:00+06:00",
          "2025-06-14T00:20:30+06:00",
          "2025-06-14T00:21:00+06:00",
          "2025-06-14T00:21:30+06:00",
          "2025-06-14T00:22:00+06:00",
          "2025-06-14T00:22:30+06:00",
          "2025-06-14T00:23:00+06:00",
          "2025-06-14T00:23:30+06:00",
          "2025-06-14T00:24:00+06:00",
          "2025-06-14T00:24:30+06:00",
          "2025-06-14T00:25:00+06:00",
          "2025-06-14T00:25:30+06:00",
          "2025-06-14T00:26:00+06:00",
          "2025-06-14T00:26:30+06:00",
          "2025-06-14T00:27:00+06:00",
          "2025-06-14T00:27:30+06:00",
          "2025-06-14T00:28:00+06:00",
          "2025-06-14T00:28:30+06:00",
          "2025-06-14T00:29:00+06:00",
          "2025-06-14T00:29:30+06:00",
          "2025-06-14T00:30:00+06:00",
          "2025-06-14T00:30:30+06:00",
          "2025-06-14T00:31:00+06:00",
          "2025-06-14T00:31:30+06:00",
          "2025-06-14T00:32:00+06:00",
          "2025-06-14T00:32:30+06:00",
          "2025-06-14T00:33:00+06:00",
          "2025-06-14T00:33:30+06:00",
          "2025-06-14T00:34:00+06:00",
          "2025-06-14T00:34:30+06:00",
          "2025-06-14T00:35:00+06:00",
          "2025-06-14T00:35:30+06:00",
          "2025-06-14T00:36:00+06:00",
          "2025-06-14T00:36:30+06:00",
          "2025-06-14T00:37:00+06:00",
          "2025-06-14T00:37:30+06:00",
          "2025-06-14T00:38:00+06:00",
          "2025-06-14T00:38:30+06:00",
          "2025-06-14T00:39:00+06:00",
          "2025-06-14T00:39:30+06:00",
          "2025-06-14T00:40:00+06:00",
          "2025-06-14T00:40:30+06:00",
          "2025-06-14T00:41:00+06:00",
          "2025-06-14T00:41:30+06:00",
          "2025-06-14T00:42:00+06:00",
          "2025-06-14T00:42:30+06:00",
          "2025-06-14T00:43:00+06:00",
          "2025-06-14T00:43:30+06:00",
          "2025-06-14T00:44:00+06:00",
          "2025-06-14T00:44:30+06:00",
          "2025-06-14T00:45:00+06:00",
          "2025-06-14T00:45:30+06:00",
          "2025-06-14T00:46:00+06:00",
          "2025-06-14T00:46:30+06:00",
          "2025-06-14T00:47:00+06:00",
          "2025-06-14T00:47:30+06:00",
          "2025-06-14T00:48:00+06:00",
          "2025-06-14T00:48:30+06:00",
          "2025-06-14T00:49:00+06:00",
          "2025-06-14T00:49:30+06:00",
          "2025-06-14T00:50:00+06:00"
         ],
         "xaxis": "x",
         "y": {
          "bdata": "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",
          "dtype": "f8"
         },
         "yaxis": "y"
        },
        {
         "line": {
          "color": "red",
          "width": 2
         },
         "mode": "lines",
         "name": "Respeck Breathing Rate",
         "type": "scatter",
         "x": [
          "2025-06-13T23:06:00+06:00",
          "2025-06-13T23:06:30+06:00",
          "2025-06-13T23:07:00+06:00",
          "2025-06-13T23:07:30+06:00",
          "2025-06-13T23:08:00+06:00",
          "2025-06-13T23:08:30+06:00",
          "2025-06-13T23:09:00+06:00",
          "2025-06-13T23:09:30+06:00",
          "2025-06-13T23:10:00+06:00",
          "2025-06-13T23:10:30+06:00",
          "2025-06-13T23:11:00+06:00",
          "2025-06-13T23:11:30+06:00",
          "2025-06-13T23:12:00+06:00",
          "2025-06-13T23:12:30+06:00",
          "2025-06-13T23:13:00+06:00",
          "2025-06-13T23:13:30+06:00",
          "2025-06-13T23:14:00+06:00",
          "2025-06-13T23:14:30+06:00",
          "2025-06-13T23:15:00+06:00",
          "2025-06-13T23:15:30+06:00",
          "2025-06-13T23:16:00+06:00",
          "2025-06-13T23:16:30+06:00",
          "2025-06-13T23:17:00+06:00",
          "2025-06-13T23:17:30+06:00",
          "2025-06-13T23:18:00+06:00",
          "2025-06-13T23:18:30+06:00",
          "2025-06-13T23:19:00+06:00",
          "2025-06-13T23:19:30+06:00",
          "2025-06-13T23:20:00+06:00",
          "2025-06-13T23:20:30+06:00",
          "2025-06-13T23:21:00+06:00",
          "2025-06-13T23:21:30+06:00",
          "2025-06-13T23:22:00+06:00",
          "2025-06-13T23:22:30+06:00",
          "2025-06-13T23:23:00+06:00",
          "2025-06-13T23:23:30+06:00",
          "2025-06-13T23:24:00+06:00",
          "2025-06-13T23:24:30+06:00",
          "2025-06-13T23:25:00+06:00",
          "2025-06-13T23:25:30+06:00",
          "2025-06-13T23:26:00+06:00",
          "2025-06-13T23:26:30+06:00",
          "2025-06-13T23:27:00+06:00",
          "2025-06-13T23:27:30+06:00",
          "2025-06-13T23:28:00+06:00",
          "2025-06-13T23:28:30+06:00",
          "2025-06-13T23:29:00+06:00",
          "2025-06-13T23:29:30+06:00",
          "2025-06-13T23:30:00+06:00",
          "2025-06-13T23:30:30+06:00",
          "2025-06-13T23:31:00+06:00",
          "2025-06-13T23:31:30+06:00",
          "2025-06-13T23:32:00+06:00",
          "2025-06-13T23:32:30+06:00",
          "2025-06-13T23:33:00+06:00",
          "2025-06-13T23:33:30+06:00",
          "2025-06-13T23:34:00+06:00",
          "2025-06-13T23:34:30+06:00",
          "2025-06-13T23:35:00+06:00",
          "2025-06-13T23:35:30+06:00",
          "2025-06-13T23:36:00+06:00",
          "2025-06-13T23:36:30+06:00",
          "2025-06-13T23:37:00+06:00",
          "2025-06-13T23:37:30+06:00",
          "2025-06-13T23:38:00+06:00",
          "2025-06-13T23:38:30+06:00",
          "2025-06-13T23:39:00+06:00",
          "2025-06-13T23:39:30+06:00",
          "2025-06-13T23:40:00+06:00",
          "2025-06-13T23:40:30+06:00",
          "2025-06-13T23:41:00+06:00",
          "2025-06-13T23:41:30+06:00",
          "2025-06-13T23:42:00+06:00",
          "2025-06-13T23:42:30+06:00",
          "2025-06-13T23:43:00+06:00",
          "2025-06-13T23:43:30+06:00",
          "2025-06-13T23:44:00+06:00",
          "2025-06-13T23:44:30+06:00",
          "2025-06-13T23:45:00+06:00",
          "2025-06-13T23:45:30+06:00",
          "2025-06-13T23:46:00+06:00",
          "2025-06-13T23:46:30+06:00",
          "2025-06-13T23:47:00+06:00",
          "2025-06-13T23:47:30+06:00",
          "2025-06-13T23:48:00+06:00",
          "2025-06-13T23:48:30+06:00",
          "2025-06-13T23:49:00+06:00",
          "2025-06-13T23:49:30+06:00",
          "2025-06-13T23:50:00+06:00",
          "2025-06-13T23:50:30+06:00",
          "2025-06-13T23:51:00+06:00",
          "2025-06-13T23:51:30+06:00",
          "2025-06-13T23:52:00+06:00",
          "2025-06-13T23:52:30+06:00",
          "2025-06-13T23:53:00+06:00",
          "2025-06-13T23:53:30+06:00",
          "2025-06-13T23:54:00+06:00",
          "2025-06-13T23:54:30+06:00",
          "2025-06-13T23:55:00+06:00",
          "2025-06-13T23:55:30+06:00",
          "2025-06-13T23:56:00+06:00",
          "2025-06-13T23:56:30+06:00",
          "2025-06-13T23:57:00+06:00",
          "2025-06-13T23:57:30+06:00",
          "2025-06-13T23:58:00+06:00",
          "2025-06-13T23:58:30+06:00",
          "2025-06-13T23:59:00+06:00",
          "2025-06-13T23:59:30+06:00",
          "2025-06-14T00:00:00+06:00",
          "2025-06-14T00:00:30+06:00",
          "2025-06-14T00:01:00+06:00",
          "2025-06-14T00:01:30+06:00",
          "2025-06-14T00:02:00+06:00",
          "2025-06-14T00:02:30+06:00",
          "2025-06-14T00:03:00+06:00",
          "2025-06-14T00:03:30+06:00",
          "2025-06-14T00:04:00+06:00",
          "2025-06-14T00:04:30+06:00",
          "2025-06-14T00:05:00+06:00",
          "2025-06-14T00:05:30+06:00",
          "2025-06-14T00:06:00+06:00",
          "2025-06-14T00:06:30+06:00",
          "2025-06-14T00:07:00+06:00",
          "2025-06-14T00:07:30+06:00",
          "2025-06-14T00:08:00+06:00",
          "2025-06-14T00:08:30+06:00",
          "2025-06-14T00:09:00+06:00",
          "2025-06-14T00:09:30+06:00",
          "2025-06-14T00:10:00+06:00",
          "2025-06-14T00:10:30+06:00",
          "2025-06-14T00:11:00+06:00",
          "2025-06-14T00:11:30+06:00",
          "2025-06-14T00:12:00+06:00",
          "2025-06-14T00:12:30+06:00",
          "2025-06-14T00:13:00+06:00",
          "2025-06-14T00:13:30+06:00",
          "2025-06-14T00:14:00+06:00",
          "2025-06-14T00:14:30+06:00",
          "2025-06-14T00:15:00+06:00",
          "2025-06-14T00:15:30+06:00",
          "2025-06-14T00:16:00+06:00",
          "2025-06-14T00:16:30+06:00",
          "2025-06-14T00:17:00+06:00",
          "2025-06-14T00:17:30+06:00",
          "2025-06-14T00:18:00+06:00",
          "2025-06-14T00:18:30+06:00",
          "2025-06-14T00:19:00+06:00",
          "2025-06-14T00:19:30+06:00",
          "2025-06-14T00:20:00+06:00",
          "2025-06-14T00:20:30+06:00",
          "2025-06-14T00:21:00+06:00",
          "2025-06-14T00:21:30+06:00",
          "2025-06-14T00:22:00+06:00",
          "2025-06-14T00:22:30+06:00",
          "2025-06-14T00:23:00+06:00",
          "2025-06-14T00:23:30+06:00",
          "2025-06-14T00:24:00+06:00",
          "2025-06-14T00:24:30+06:00",
          "2025-06-14T00:25:00+06:00",
          "2025-06-14T00:25:30+06:00",
          "2025-06-14T00:26:00+06:00",
          "2025-06-14T00:26:30+06:00",
          "2025-06-14T00:27:00+06:00",
          "2025-06-14T00:27:30+06:00",
          "2025-06-14T00:28:00+06:00",
          "2025-06-14T00:28:30+06:00",
          "2025-06-14T00:29:00+06:00",
          "2025-06-14T00:29:30+06:00",
          "2025-06-14T00:30:00+06:00",
          "2025-06-14T00:30:30+06:00",
          "2025-06-14T00:31:00+06:00",
          "2025-06-14T00:31:30+06:00",
          "2025-06-14T00:32:00+06:00",
          "2025-06-14T00:32:30+06:00",
          "2025-06-14T00:33:00+06:00",
          "2025-06-14T00:33:30+06:00",
          "2025-06-14T00:34:00+06:00",
          "2025-06-14T00:34:30+06:00",
          "2025-06-14T00:35:00+06:00",
          "2025-06-14T00:35:30+06:00",
          "2025-06-14T00:36:00+06:00",
          "2025-06-14T00:36:30+06:00",
          "2025-06-14T00:37:00+06:00",
          "2025-06-14T00:37:30+06:00",
          "2025-06-14T00:38:00+06:00",
          "2025-06-14T00:38:30+06:00",
          "2025-06-14T00:39:00+06:00",
          "2025-06-14T00:39:30+06:00",
          "2025-06-14T00:40:00+06:00",
          "2025-06-14T00:40:30+06:00",
          "2025-06-14T00:41:00+06:00",
          "2025-06-14T00:41:30+06:00",
          "2025-06-14T00:42:00+06:00",
          "2025-06-14T00:42:30+06:00",
          "2025-06-14T00:43:00+06:00",
          "2025-06-14T00:43:30+06:00",
          "2025-06-14T00:44:00+06:00",
          "2025-06-14T00:44:30+06:00",
          "2025-06-14T00:45:00+06:00",
          "2025-06-14T00:45:30+06:00",
          "2025-06-14T00:46:00+06:00",
          "2025-06-14T00:46:30+06:00",
          "2025-06-14T00:47:00+06:00",
          "2025-06-14T00:47:30+06:00",
          "2025-06-14T00:48:00+06:00",
          "2025-06-14T00:48:30+06:00",
          "2025-06-14T00:49:00+06:00",
          "2025-06-14T00:49:30+06:00",
          "2025-06-14T00:50:00+06:00"
         ],
         "xaxis": "x",
         "y": {
          "bdata": "AAAAAACAZkAAAAAAANBpQAAAAAAAIG1AAAAAAACwaUAAAAAAAEBmQAAAAAAAQGBAAAAAAACAVEAAAAAAAOBQQAAAAAAAgEpAAAAAAACAP0AAAAAAAAAkQAAAAAAAACBAAAAAAAAAGEAAAAAAAABGQAAAAAAAgFRAAAAAAADAR0AAAAAAAAAqQAAAAAAAACFAAAAAAAAAEEAAAAAAAABCQAAAAAAAAFFAAAAAAADgU0AAAAAAAMBWQAAAAAAAwEZAAAAAAAAAAAAAAAAAAIA8QAAAAAAAgExAAAAAAACASUAAAAAAAIBGQAAAAAAAwEJAAAAAAAAAPkAAAAAAAEBIQAAAAAAAwFBAAAAAAAAATEAAAAAAAIBGQAAAAAAAQEtAAAAAAAAAUEAAAAAAAMBPQAAAAAAAgE9AAAAAAAAATEAAAAAAAIBIQAAAAAAAQENAAAAAAAAAPED///////8rQAAAAAAAAPC8AAAAAAAAFkAAAAAAAAAmQAAAAAAAABZAAAAAAAAAAAAAAAAAAAAhQAAAAAAAADFAAAAAAAAAOkAAAAAAAIBBQAAAAAAAgFBAAAAAAABAWEAAAAAAAMBSQAAAAAAAgEpAAAAAAAAAQEAAAAAAAAAmQAAAAAAAgD5AAAAAAAAASUAAAAAAAIBVQAAAAAAAgF5AAAAAAABQYUAAAAAAAGBjQAAAAAAAwFtAAAAAAADAUEAAAAAAAABOQAAAAAAAgEpAAAAAAADAUEAAAAAAAEBUQAAAAAAAwEtAAAAAAAAAPkAAAAAAAIBBQAAAAAAAAERAAAAAAABARUAAAAAAAIBGQAAAAAAAwE5AAAAAAACAU0AAAAAAAIBbQAAAAAAAwGFAAAAAAAAAXkAAAAAAAIBYQAAAAAAAgFFA////////REAAAAAAAIA/QAAAAAAAADVAAAAAAACAOUAAAAAAAAA+QAAAAAAAQEBAAAAAAACAQUAAAAAAAMBCQAAAAAAAAERAAAAAAAAAR0AAAAAAAABKQAAAAAAAQE5AAAAAAABAUUAAAAAAAKBaQAAAAAAAAGJAAAAAAAAAYEAAAAAAAABcQAAAAAAAgFNAAAAAAAAARkAAAAAAAIBSQAAAAAAAAFpAAAAAAACgU0AAAAAAAIBKQAAAAAAAgEFAAAAAAAAAMUAAAAAAAABHQAAAAAAAwFJAAAAAAABAV0AAAAAAAMBbQAAAAAAAwFNAAAAAAACAR0AAAAAAAMBPQAAAAAAAAFRAAAAAAACASEAAAAAAAAAyQAAAAAAAYFFAAAAAAABAXkAAAAAAAIBeQAAAAAAAwF5AAAAAAABgUUAAAAAAAAAwQAAAAAAAACBAAAAAAAAAAAAAAAAAAADgPwAAAAAAAPA/AQAAAAAAPUABAAAAAIBMQAAAAAAAgEhAAAAAAACAREAAAAAAAIA0QAAAAAAAAAAAAAAAAAAAAAAAAAAAAAAAAAAAAAAAAAAAAAAAAAAAAAAAAAAAAAAAAAAAAAAAAAAAAAAAAAAAAAAAAAAAAAAAAAAAAAAAAAAAAAAAAAAAAAAAAAAAAAAAAAAAAAAAAAAAAAAAAAAAAAAAAAAAAAAAAAAAAAAAAAAAAAAAAAAAAAAAAAAAAAAAAAAAAAAAAAAAAAAAAAAA8D8AAAAAAAAAQAAAAAAAAPA/AAAAAAAAAAAAAAAAAAAAAAAAAAAAAAAAAAAAAAAAAAAAAAAAAAAAAAAAAAAAAAAAAAAAAAAAAAAAAAAAAAAAAAAAAAAAAAAAAAAAAAAAAAAAAAAAAAAAAAAAAAAAAAAAAAAAAAAAAAAAAAAAAAAAAAAAAAAAAAAAAAAAAAAAAAAAAAAAAAAAAAAAAAAAAAAAAAAAAAAAAAAAAAAAAAAAAAAAAAAAAAAAAAAAAAAAAAAAAAAAAAAAAAAAAAAAAAAAAAAAAAAAAAAAAAAAAAAAAAAAAAAAAAAAAAAAAAAAAAAAAAAAAAAAAAAAAAAAAAAAAAAAAAAAAAAAAAAAAAAAAAAAAAAAAAAAAAAAAAAAAAAAAAAAAAAAAAAAAAAAAAAAAAAAAAAAAAAAAAAAAAAAAAAAAAAAAAAAAAAAAAAAAAAAAAAAAAAAAAAAAAAAAAAAAAAAAAAAAAAAAAAAAAAAAAAAAAAAAAAAAAAAAAAAAAAAAAAAAAAAAAAAAAAAAAAAAAAAAAAAAAAAAAAAAAAAAAAAAAAAAAAAAAAAAAAABEAAAAAAAAAUQA==",
          "dtype": "f8"
         },
         "yaxis": "y"
        },
        {
         "line": {
          "color": "darkblue",
          "width": 2
         },
         "mode": "lines",
         "name": "PSG (Clean)",
         "showlegend": false,
         "type": "scatter",
         "x": [
          "2025-06-13T23:06:00+06:00",
          "2025-06-13T23:06:30+06:00",
          "2025-06-13T23:07:00+06:00",
          "2025-06-13T23:07:30+06:00",
          "2025-06-13T23:08:00+06:00",
          "2025-06-13T23:08:30+06:00",
          "2025-06-13T23:09:00+06:00",
          "2025-06-13T23:09:30+06:00",
          "2025-06-13T23:10:00+06:00",
          "2025-06-13T23:10:30+06:00",
          "2025-06-13T23:11:00+06:00",
          "2025-06-13T23:11:30+06:00",
          "2025-06-13T23:12:00+06:00",
          "2025-06-13T23:12:30+06:00",
          "2025-06-13T23:13:00+06:00",
          "2025-06-13T23:13:30+06:00",
          "2025-06-13T23:14:00+06:00",
          "2025-06-13T23:14:30+06:00",
          "2025-06-13T23:15:00+06:00",
          "2025-06-13T23:15:30+06:00",
          "2025-06-13T23:16:00+06:00",
          "2025-06-13T23:16:30+06:00",
          "2025-06-13T23:17:00+06:00",
          "2025-06-13T23:17:30+06:00",
          "2025-06-13T23:18:00+06:00",
          "2025-06-13T23:18:30+06:00",
          "2025-06-13T23:19:00+06:00",
          "2025-06-13T23:19:30+06:00",
          "2025-06-13T23:20:00+06:00",
          "2025-06-13T23:20:30+06:00",
          "2025-06-13T23:21:00+06:00",
          "2025-06-13T23:21:30+06:00",
          "2025-06-13T23:22:00+06:00",
          "2025-06-13T23:22:30+06:00",
          "2025-06-13T23:23:00+06:00",
          "2025-06-13T23:23:30+06:00",
          "2025-06-13T23:24:00+06:00",
          "2025-06-13T23:24:30+06:00",
          "2025-06-13T23:25:00+06:00",
          "2025-06-13T23:25:30+06:00",
          "2025-06-13T23:26:00+06:00",
          "2025-06-13T23:26:30+06:00",
          "2025-06-13T23:27:00+06:00",
          "2025-06-13T23:27:30+06:00",
          "2025-06-13T23:28:00+06:00",
          "2025-06-13T23:28:30+06:00",
          "2025-06-13T23:29:00+06:00",
          "2025-06-13T23:29:30+06:00",
          "2025-06-13T23:30:00+06:00",
          "2025-06-13T23:30:30+06:00",
          "2025-06-13T23:31:00+06:00",
          "2025-06-13T23:31:30+06:00",
          "2025-06-13T23:32:00+06:00",
          "2025-06-13T23:32:30+06:00",
          "2025-06-13T23:33:00+06:00",
          "2025-06-13T23:33:30+06:00",
          "2025-06-13T23:34:00+06:00",
          "2025-06-13T23:34:30+06:00",
          "2025-06-13T23:35:00+06:00",
          "2025-06-13T23:35:30+06:00",
          "2025-06-13T23:36:00+06:00",
          "2025-06-13T23:36:30+06:00",
          "2025-06-13T23:37:00+06:00",
          "2025-06-13T23:37:30+06:00",
          "2025-06-13T23:38:00+06:00",
          "2025-06-13T23:38:30+06:00",
          "2025-06-13T23:39:00+06:00",
          "2025-06-13T23:39:30+06:00",
          "2025-06-13T23:40:00+06:00",
          "2025-06-13T23:40:30+06:00",
          "2025-06-13T23:41:00+06:00",
          "2025-06-13T23:41:30+06:00",
          "2025-06-13T23:42:00+06:00",
          "2025-06-13T23:42:30+06:00",
          "2025-06-13T23:43:00+06:00",
          "2025-06-13T23:43:30+06:00",
          "2025-06-13T23:44:00+06:00",
          "2025-06-13T23:44:30+06:00",
          "2025-06-13T23:45:00+06:00",
          "2025-06-13T23:45:30+06:00",
          "2025-06-13T23:46:00+06:00",
          "2025-06-13T23:46:30+06:00",
          "2025-06-13T23:47:00+06:00",
          "2025-06-13T23:47:30+06:00",
          "2025-06-13T23:48:00+06:00",
          "2025-06-13T23:48:30+06:00",
          "2025-06-13T23:49:00+06:00",
          "2025-06-13T23:49:30+06:00",
          "2025-06-13T23:50:00+06:00",
          "2025-06-13T23:50:30+06:00",
          "2025-06-13T23:51:00+06:00",
          "2025-06-13T23:51:30+06:00",
          "2025-06-13T23:52:00+06:00",
          "2025-06-13T23:52:30+06:00",
          "2025-06-13T23:53:00+06:00",
          "2025-06-13T23:53:30+06:00",
          "2025-06-13T23:54:00+06:00",
          "2025-06-13T23:54:30+06:00",
          "2025-06-13T23:55:00+06:00",
          "2025-06-13T23:55:30+06:00",
          "2025-06-13T23:56:00+06:00",
          "2025-06-13T23:56:30+06:00",
          "2025-06-13T23:57:00+06:00",
          "2025-06-13T23:57:30+06:00",
          "2025-06-13T23:58:00+06:00",
          "2025-06-13T23:58:30+06:00",
          "2025-06-13T23:59:00+06:00",
          "2025-06-13T23:59:30+06:00",
          "2025-06-14T00:00:00+06:00",
          "2025-06-14T00:00:30+06:00",
          "2025-06-14T00:01:00+06:00",
          "2025-06-14T00:01:30+06:00",
          "2025-06-14T00:02:00+06:00",
          "2025-06-14T00:02:30+06:00",
          "2025-06-14T00:03:00+06:00",
          "2025-06-14T00:03:30+06:00",
          "2025-06-14T00:04:00+06:00",
          "2025-06-14T00:04:30+06:00",
          "2025-06-14T00:05:00+06:00",
          "2025-06-14T00:05:30+06:00",
          "2025-06-14T00:06:00+06:00",
          "2025-06-14T00:06:30+06:00",
          "2025-06-14T00:07:00+06:00",
          "2025-06-14T00:07:30+06:00",
          "2025-06-14T00:08:00+06:00",
          "2025-06-14T00:08:30+06:00",
          "2025-06-14T00:09:00+06:00",
          "2025-06-14T00:09:30+06:00",
          "2025-06-14T00:10:00+06:00",
          "2025-06-14T00:10:30+06:00",
          "2025-06-14T00:11:00+06:00",
          "2025-06-14T00:11:30+06:00",
          "2025-06-14T00:12:00+06:00",
          "2025-06-14T00:12:30+06:00",
          "2025-06-14T00:13:00+06:00",
          "2025-06-14T00:13:30+06:00",
          "2025-06-14T00:14:00+06:00",
          "2025-06-14T00:14:30+06:00",
          "2025-06-14T00:15:00+06:00",
          "2025-06-14T00:15:30+06:00",
          "2025-06-14T00:16:00+06:00",
          "2025-06-14T00:16:30+06:00",
          "2025-06-14T00:17:00+06:00",
          "2025-06-14T00:17:30+06:00",
          "2025-06-14T00:18:00+06:00",
          "2025-06-14T00:18:30+06:00",
          "2025-06-14T00:19:00+06:00",
          "2025-06-14T00:19:30+06:00",
          "2025-06-14T00:20:00+06:00",
          "2025-06-14T00:20:30+06:00",
          "2025-06-14T00:21:00+06:00",
          "2025-06-14T00:21:30+06:00",
          "2025-06-14T00:22:00+06:00",
          "2025-06-14T00:22:30+06:00",
          "2025-06-14T00:23:00+06:00",
          "2025-06-14T00:23:30+06:00",
          "2025-06-14T00:24:00+06:00",
          "2025-06-14T00:24:30+06:00",
          "2025-06-14T00:25:00+06:00",
          "2025-06-14T00:25:30+06:00",
          "2025-06-14T00:26:00+06:00",
          "2025-06-14T00:26:30+06:00",
          "2025-06-14T00:27:00+06:00",
          "2025-06-14T00:27:30+06:00",
          "2025-06-14T00:28:00+06:00",
          "2025-06-14T00:28:30+06:00",
          "2025-06-14T00:29:00+06:00",
          "2025-06-14T00:29:30+06:00",
          "2025-06-14T00:30:00+06:00",
          "2025-06-14T00:30:30+06:00",
          "2025-06-14T00:31:00+06:00",
          "2025-06-14T00:31:30+06:00",
          "2025-06-14T00:32:00+06:00",
          "2025-06-14T00:32:30+06:00",
          "2025-06-14T00:33:00+06:00",
          "2025-06-14T00:33:30+06:00",
          "2025-06-14T00:34:00+06:00",
          "2025-06-14T00:34:30+06:00",
          "2025-06-14T00:35:00+06:00",
          "2025-06-14T00:35:30+06:00",
          "2025-06-14T00:36:00+06:00",
          "2025-06-14T00:36:30+06:00",
          "2025-06-14T00:37:00+06:00",
          "2025-06-14T00:37:30+06:00",
          "2025-06-14T00:38:00+06:00",
          "2025-06-14T00:38:30+06:00",
          "2025-06-14T00:39:00+06:00",
          "2025-06-14T00:39:30+06:00",
          "2025-06-14T00:40:00+06:00",
          "2025-06-14T00:40:30+06:00",
          "2025-06-14T00:41:00+06:00",
          "2025-06-14T00:41:30+06:00",
          "2025-06-14T00:42:00+06:00",
          "2025-06-14T00:42:30+06:00",
          "2025-06-14T00:43:00+06:00",
          "2025-06-14T00:43:30+06:00",
          "2025-06-14T00:44:00+06:00",
          "2025-06-14T00:44:30+06:00",
          "2025-06-14T00:45:00+06:00",
          "2025-06-14T00:45:30+06:00",
          "2025-06-14T00:46:00+06:00",
          "2025-06-14T00:46:30+06:00",
          "2025-06-14T00:47:00+06:00",
          "2025-06-14T00:47:30+06:00",
          "2025-06-14T00:48:00+06:00",
          "2025-06-14T00:48:30+06:00",
          "2025-06-14T00:49:00+06:00",
          "2025-06-14T00:49:30+06:00",
          "2025-06-14T00:50:00+06:00"
         ],
         "xaxis": "x2",
         "y": {
          "bdata": "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",
          "dtype": "f8"
         },
         "yaxis": "y2"
        },
        {
         "line": {
          "color": "darkred",
          "width": 2
         },
         "mode": "lines",
         "name": "Respeck (Clean)",
         "showlegend": false,
         "type": "scatter",
         "x": [
          "2025-06-13T23:06:00+06:00",
          "2025-06-13T23:06:30+06:00",
          "2025-06-13T23:07:00+06:00",
          "2025-06-13T23:07:30+06:00",
          "2025-06-13T23:08:00+06:00",
          "2025-06-13T23:08:30+06:00",
          "2025-06-13T23:09:00+06:00",
          "2025-06-13T23:09:30+06:00",
          "2025-06-13T23:10:00+06:00",
          "2025-06-13T23:10:30+06:00",
          "2025-06-13T23:11:00+06:00",
          "2025-06-13T23:11:30+06:00",
          "2025-06-13T23:12:00+06:00",
          "2025-06-13T23:12:30+06:00",
          "2025-06-13T23:13:00+06:00",
          "2025-06-13T23:13:30+06:00",
          "2025-06-13T23:14:00+06:00",
          "2025-06-13T23:14:30+06:00",
          "2025-06-13T23:15:00+06:00",
          "2025-06-13T23:15:30+06:00",
          "2025-06-13T23:16:00+06:00",
          "2025-06-13T23:16:30+06:00",
          "2025-06-13T23:17:00+06:00",
          "2025-06-13T23:17:30+06:00",
          "2025-06-13T23:18:00+06:00",
          "2025-06-13T23:18:30+06:00",
          "2025-06-13T23:19:00+06:00",
          "2025-06-13T23:19:30+06:00",
          "2025-06-13T23:20:00+06:00",
          "2025-06-13T23:20:30+06:00",
          "2025-06-13T23:21:00+06:00",
          "2025-06-13T23:21:30+06:00",
          "2025-06-13T23:22:00+06:00",
          "2025-06-13T23:22:30+06:00",
          "2025-06-13T23:23:00+06:00",
          "2025-06-13T23:23:30+06:00",
          "2025-06-13T23:24:00+06:00",
          "2025-06-13T23:24:30+06:00",
          "2025-06-13T23:25:00+06:00",
          "2025-06-13T23:25:30+06:00",
          "2025-06-13T23:26:00+06:00",
          "2025-06-13T23:26:30+06:00",
          "2025-06-13T23:27:00+06:00",
          "2025-06-13T23:27:30+06:00",
          "2025-06-13T23:28:00+06:00",
          "2025-06-13T23:28:30+06:00",
          "2025-06-13T23:29:00+06:00",
          "2025-06-13T23:29:30+06:00",
          "2025-06-13T23:30:00+06:00",
          "2025-06-13T23:30:30+06:00",
          "2025-06-13T23:31:00+06:00",
          "2025-06-13T23:31:30+06:00",
          "2025-06-13T23:32:00+06:00",
          "2025-06-13T23:32:30+06:00",
          "2025-06-13T23:33:00+06:00",
          "2025-06-13T23:33:30+06:00",
          "2025-06-13T23:34:00+06:00",
          "2025-06-13T23:34:30+06:00",
          "2025-06-13T23:35:00+06:00",
          "2025-06-13T23:35:30+06:00",
          "2025-06-13T23:36:00+06:00",
          "2025-06-13T23:36:30+06:00",
          "2025-06-13T23:37:00+06:00",
          "2025-06-13T23:37:30+06:00",
          "2025-06-13T23:38:00+06:00",
          "2025-06-13T23:38:30+06:00",
          "2025-06-13T23:39:00+06:00",
          "2025-06-13T23:39:30+06:00",
          "2025-06-13T23:40:00+06:00",
          "2025-06-13T23:40:30+06:00",
          "2025-06-13T23:41:00+06:00",
          "2025-06-13T23:41:30+06:00",
          "2025-06-13T23:42:00+06:00",
          "2025-06-13T23:42:30+06:00",
          "2025-06-13T23:43:00+06:00",
          "2025-06-13T23:43:30+06:00",
          "2025-06-13T23:44:00+06:00",
          "2025-06-13T23:44:30+06:00",
          "2025-06-13T23:45:00+06:00",
          "2025-06-13T23:45:30+06:00",
          "2025-06-13T23:46:00+06:00",
          "2025-06-13T23:46:30+06:00",
          "2025-06-13T23:47:00+06:00",
          "2025-06-13T23:47:30+06:00",
          "2025-06-13T23:48:00+06:00",
          "2025-06-13T23:48:30+06:00",
          "2025-06-13T23:49:00+06:00",
          "2025-06-13T23:49:30+06:00",
          "2025-06-13T23:50:00+06:00",
          "2025-06-13T23:50:30+06:00",
          "2025-06-13T23:51:00+06:00",
          "2025-06-13T23:51:30+06:00",
          "2025-06-13T23:52:00+06:00",
          "2025-06-13T23:52:30+06:00",
          "2025-06-13T23:53:00+06:00",
          "2025-06-13T23:53:30+06:00",
          "2025-06-13T23:54:00+06:00",
          "2025-06-13T23:54:30+06:00",
          "2025-06-13T23:55:00+06:00",
          "2025-06-13T23:55:30+06:00",
          "2025-06-13T23:56:00+06:00",
          "2025-06-13T23:56:30+06:00",
          "2025-06-13T23:57:00+06:00",
          "2025-06-13T23:57:30+06:00",
          "2025-06-13T23:58:00+06:00",
          "2025-06-13T23:58:30+06:00",
          "2025-06-13T23:59:00+06:00",
          "2025-06-13T23:59:30+06:00",
          "2025-06-14T00:00:00+06:00",
          "2025-06-14T00:00:30+06:00",
          "2025-06-14T00:01:00+06:00",
          "2025-06-14T00:01:30+06:00",
          "2025-06-14T00:02:00+06:00",
          "2025-06-14T00:02:30+06:00",
          "2025-06-14T00:03:00+06:00",
          "2025-06-14T00:03:30+06:00",
          "2025-06-14T00:04:00+06:00",
          "2025-06-14T00:04:30+06:00",
          "2025-06-14T00:05:00+06:00",
          "2025-06-14T00:05:30+06:00",
          "2025-06-14T00:06:00+06:00",
          "2025-06-14T00:06:30+06:00",
          "2025-06-14T00:07:00+06:00",
          "2025-06-14T00:07:30+06:00",
          "2025-06-14T00:08:00+06:00",
          "2025-06-14T00:08:30+06:00",
          "2025-06-14T00:09:00+06:00",
          "2025-06-14T00:09:30+06:00",
          "2025-06-14T00:10:00+06:00",
          "2025-06-14T00:10:30+06:00",
          "2025-06-14T00:11:00+06:00",
          "2025-06-14T00:11:30+06:00",
          "2025-06-14T00:12:00+06:00",
          "2025-06-14T00:12:30+06:00",
          "2025-06-14T00:13:00+06:00",
          "2025-06-14T00:13:30+06:00",
          "2025-06-14T00:14:00+06:00",
          "2025-06-14T00:14:30+06:00",
          "2025-06-14T00:15:00+06:00",
          "2025-06-14T00:15:30+06:00",
          "2025-06-14T00:16:00+06:00",
          "2025-06-14T00:16:30+06:00",
          "2025-06-14T00:17:00+06:00",
          "2025-06-14T00:17:30+06:00",
          "2025-06-14T00:18:00+06:00",
          "2025-06-14T00:18:30+06:00",
          "2025-06-14T00:19:00+06:00",
          "2025-06-14T00:19:30+06:00",
          "2025-06-14T00:20:00+06:00",
          "2025-06-14T00:20:30+06:00",
          "2025-06-14T00:21:00+06:00",
          "2025-06-14T00:21:30+06:00",
          "2025-06-14T00:22:00+06:00",
          "2025-06-14T00:22:30+06:00",
          "2025-06-14T00:23:00+06:00",
          "2025-06-14T00:23:30+06:00",
          "2025-06-14T00:24:00+06:00",
          "2025-06-14T00:24:30+06:00",
          "2025-06-14T00:25:00+06:00",
          "2025-06-14T00:25:30+06:00",
          "2025-06-14T00:26:00+06:00",
          "2025-06-14T00:26:30+06:00",
          "2025-06-14T00:27:00+06:00",
          "2025-06-14T00:27:30+06:00",
          "2025-06-14T00:28:00+06:00",
          "2025-06-14T00:28:30+06:00",
          "2025-06-14T00:29:00+06:00",
          "2025-06-14T00:29:30+06:00",
          "2025-06-14T00:30:00+06:00",
          "2025-06-14T00:30:30+06:00",
          "2025-06-14T00:31:00+06:00",
          "2025-06-14T00:31:30+06:00",
          "2025-06-14T00:32:00+06:00",
          "2025-06-14T00:32:30+06:00",
          "2025-06-14T00:33:00+06:00",
          "2025-06-14T00:33:30+06:00",
          "2025-06-14T00:34:00+06:00",
          "2025-06-14T00:34:30+06:00",
          "2025-06-14T00:35:00+06:00",
          "2025-06-14T00:35:30+06:00",
          "2025-06-14T00:36:00+06:00",
          "2025-06-14T00:36:30+06:00",
          "2025-06-14T00:37:00+06:00",
          "2025-06-14T00:37:30+06:00",
          "2025-06-14T00:38:00+06:00",
          "2025-06-14T00:38:30+06:00",
          "2025-06-14T00:39:00+06:00",
          "2025-06-14T00:39:30+06:00",
          "2025-06-14T00:40:00+06:00",
          "2025-06-14T00:40:30+06:00",
          "2025-06-14T00:41:00+06:00",
          "2025-06-14T00:41:30+06:00",
          "2025-06-14T00:42:00+06:00",
          "2025-06-14T00:42:30+06:00",
          "2025-06-14T00:43:00+06:00",
          "2025-06-14T00:43:30+06:00",
          "2025-06-14T00:44:00+06:00",
          "2025-06-14T00:44:30+06:00",
          "2025-06-14T00:45:00+06:00",
          "2025-06-14T00:45:30+06:00",
          "2025-06-14T00:46:00+06:00",
          "2025-06-14T00:46:30+06:00",
          "2025-06-14T00:47:00+06:00",
          "2025-06-14T00:47:30+06:00",
          "2025-06-14T00:48:00+06:00",
          "2025-06-14T00:48:30+06:00",
          "2025-06-14T00:49:00+06:00",
          "2025-06-14T00:49:30+06:00",
          "2025-06-14T00:50:00+06:00"
         ],
         "xaxis": "x2",
         "y": {
          "bdata": "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",
          "dtype": "f8"
         },
         "yaxis": "y2"
        },
        {
         "line": {
          "color": "blue",
          "dash": "dash",
          "width": 2
         },
         "mode": "lines",
         "name": "PSG (Normalized)",
         "showlegend": false,
         "type": "scatter",
         "x": [
          "2025-06-13T23:06:00+06:00",
          "2025-06-13T23:06:30+06:00",
          "2025-06-13T23:07:00+06:00",
          "2025-06-13T23:07:30+06:00",
          "2025-06-13T23:08:00+06:00",
          "2025-06-13T23:08:30+06:00",
          "2025-06-13T23:09:00+06:00",
          "2025-06-13T23:09:30+06:00",
          "2025-06-13T23:10:00+06:00",
          "2025-06-13T23:10:30+06:00",
          "2025-06-13T23:11:00+06:00",
          "2025-06-13T23:11:30+06:00",
          "2025-06-13T23:12:00+06:00",
          "2025-06-13T23:12:30+06:00",
          "2025-06-13T23:13:00+06:00",
          "2025-06-13T23:13:30+06:00",
          "2025-06-13T23:14:00+06:00",
          "2025-06-13T23:14:30+06:00",
          "2025-06-13T23:15:00+06:00",
          "2025-06-13T23:15:30+06:00",
          "2025-06-13T23:16:00+06:00",
          "2025-06-13T23:16:30+06:00",
          "2025-06-13T23:17:00+06:00",
          "2025-06-13T23:17:30+06:00",
          "2025-06-13T23:18:00+06:00",
          "2025-06-13T23:18:30+06:00",
          "2025-06-13T23:19:00+06:00",
          "2025-06-13T23:19:30+06:00",
          "2025-06-13T23:20:00+06:00",
          "2025-06-13T23:20:30+06:00",
          "2025-06-13T23:21:00+06:00",
          "2025-06-13T23:21:30+06:00",
          "2025-06-13T23:22:00+06:00",
          "2025-06-13T23:22:30+06:00",
          "2025-06-13T23:23:00+06:00",
          "2025-06-13T23:23:30+06:00",
          "2025-06-13T23:24:00+06:00",
          "2025-06-13T23:24:30+06:00",
          "2025-06-13T23:25:00+06:00",
          "2025-06-13T23:25:30+06:00",
          "2025-06-13T23:26:00+06:00",
          "2025-06-13T23:26:30+06:00",
          "2025-06-13T23:27:00+06:00",
          "2025-06-13T23:27:30+06:00",
          "2025-06-13T23:28:00+06:00",
          "2025-06-13T23:28:30+06:00",
          "2025-06-13T23:29:00+06:00",
          "2025-06-13T23:29:30+06:00",
          "2025-06-13T23:30:00+06:00",
          "2025-06-13T23:30:30+06:00",
          "2025-06-13T23:31:00+06:00",
          "2025-06-13T23:31:30+06:00",
          "2025-06-13T23:32:00+06:00",
          "2025-06-13T23:32:30+06:00",
          "2025-06-13T23:33:00+06:00",
          "2025-06-13T23:33:30+06:00",
          "2025-06-13T23:34:00+06:00",
          "2025-06-13T23:34:30+06:00",
          "2025-06-13T23:35:00+06:00",
          "2025-06-13T23:35:30+06:00",
          "2025-06-13T23:36:00+06:00",
          "2025-06-13T23:36:30+06:00",
          "2025-06-13T23:37:00+06:00",
          "2025-06-13T23:37:30+06:00",
          "2025-06-13T23:38:00+06:00",
          "2025-06-13T23:38:30+06:00",
          "2025-06-13T23:39:00+06:00",
          "2025-06-13T23:39:30+06:00",
          "2025-06-13T23:40:00+06:00",
          "2025-06-13T23:40:30+06:00",
          "2025-06-13T23:41:00+06:00",
          "2025-06-13T23:41:30+06:00",
          "2025-06-13T23:42:00+06:00",
          "2025-06-13T23:42:30+06:00",
          "2025-06-13T23:43:00+06:00",
          "2025-06-13T23:43:30+06:00",
          "2025-06-13T23:44:00+06:00",
          "2025-06-13T23:44:30+06:00",
          "2025-06-13T23:45:00+06:00",
          "2025-06-13T23:45:30+06:00",
          "2025-06-13T23:46:00+06:00",
          "2025-06-13T23:46:30+06:00",
          "2025-06-13T23:47:00+06:00",
          "2025-06-13T23:47:30+06:00",
          "2025-06-13T23:48:00+06:00",
          "2025-06-13T23:48:30+06:00",
          "2025-06-13T23:49:00+06:00",
          "2025-06-13T23:49:30+06:00",
          "2025-06-13T23:50:00+06:00",
          "2025-06-13T23:50:30+06:00",
          "2025-06-13T23:51:00+06:00",
          "2025-06-13T23:51:30+06:00",
          "2025-06-13T23:52:00+06:00",
          "2025-06-13T23:52:30+06:00",
          "2025-06-13T23:53:00+06:00",
          "2025-06-13T23:53:30+06:00",
          "2025-06-13T23:54:00+06:00",
          "2025-06-13T23:54:30+06:00",
          "2025-06-13T23:55:00+06:00",
          "2025-06-13T23:55:30+06:00",
          "2025-06-13T23:56:00+06:00",
          "2025-06-13T23:56:30+06:00",
          "2025-06-13T23:57:00+06:00",
          "2025-06-13T23:57:30+06:00",
          "2025-06-13T23:58:00+06:00",
          "2025-06-13T23:58:30+06:00",
          "2025-06-13T23:59:00+06:00",
          "2025-06-13T23:59:30+06:00",
          "2025-06-14T00:00:00+06:00",
          "2025-06-14T00:00:30+06:00",
          "2025-06-14T00:01:00+06:00",
          "2025-06-14T00:01:30+06:00",
          "2025-06-14T00:02:00+06:00",
          "2025-06-14T00:02:30+06:00",
          "2025-06-14T00:03:00+06:00",
          "2025-06-14T00:03:30+06:00",
          "2025-06-14T00:04:00+06:00",
          "2025-06-14T00:04:30+06:00",
          "2025-06-14T00:05:00+06:00",
          "2025-06-14T00:05:30+06:00",
          "2025-06-14T00:06:00+06:00",
          "2025-06-14T00:06:30+06:00",
          "2025-06-14T00:07:00+06:00",
          "2025-06-14T00:07:30+06:00",
          "2025-06-14T00:08:00+06:00",
          "2025-06-14T00:08:30+06:00",
          "2025-06-14T00:09:00+06:00",
          "2025-06-14T00:09:30+06:00",
          "2025-06-14T00:10:00+06:00",
          "2025-06-14T00:10:30+06:00",
          "2025-06-14T00:11:00+06:00",
          "2025-06-14T00:11:30+06:00",
          "2025-06-14T00:12:00+06:00",
          "2025-06-14T00:12:30+06:00",
          "2025-06-14T00:13:00+06:00",
          "2025-06-14T00:13:30+06:00",
          "2025-06-14T00:14:00+06:00",
          "2025-06-14T00:14:30+06:00",
          "2025-06-14T00:15:00+06:00",
          "2025-06-14T00:15:30+06:00",
          "2025-06-14T00:16:00+06:00",
          "2025-06-14T00:16:30+06:00",
          "2025-06-14T00:17:00+06:00",
          "2025-06-14T00:17:30+06:00",
          "2025-06-14T00:18:00+06:00",
          "2025-06-14T00:18:30+06:00",
          "2025-06-14T00:19:00+06:00",
          "2025-06-14T00:19:30+06:00",
          "2025-06-14T00:20:00+06:00",
          "2025-06-14T00:20:30+06:00",
          "2025-06-14T00:21:00+06:00",
          "2025-06-14T00:21:30+06:00",
          "2025-06-14T00:22:00+06:00",
          "2025-06-14T00:22:30+06:00",
          "2025-06-14T00:23:00+06:00",
          "2025-06-14T00:23:30+06:00",
          "2025-06-14T00:24:00+06:00",
          "2025-06-14T00:24:30+06:00",
          "2025-06-14T00:25:00+06:00",
          "2025-06-14T00:25:30+06:00",
          "2025-06-14T00:26:00+06:00",
          "2025-06-14T00:26:30+06:00",
          "2025-06-14T00:27:00+06:00",
          "2025-06-14T00:27:30+06:00",
          "2025-06-14T00:28:00+06:00",
          "2025-06-14T00:28:30+06:00",
          "2025-06-14T00:29:00+06:00",
          "2025-06-14T00:29:30+06:00",
          "2025-06-14T00:30:00+06:00",
          "2025-06-14T00:30:30+06:00",
          "2025-06-14T00:31:00+06:00",
          "2025-06-14T00:31:30+06:00",
          "2025-06-14T00:32:00+06:00",
          "2025-06-14T00:32:30+06:00",
          "2025-06-14T00:33:00+06:00",
          "2025-06-14T00:33:30+06:00",
          "2025-06-14T00:34:00+06:00",
          "2025-06-14T00:34:30+06:00",
          "2025-06-14T00:35:00+06:00",
          "2025-06-14T00:35:30+06:00",
          "2025-06-14T00:36:00+06:00",
          "2025-06-14T00:36:30+06:00",
          "2025-06-14T00:37:00+06:00",
          "2025-06-14T00:37:30+06:00",
          "2025-06-14T00:38:00+06:00",
          "2025-06-14T00:38:30+06:00",
          "2025-06-14T00:39:00+06:00",
          "2025-06-14T00:39:30+06:00",
          "2025-06-14T00:40:00+06:00",
          "2025-06-14T00:40:30+06:00",
          "2025-06-14T00:41:00+06:00",
          "2025-06-14T00:41:30+06:00",
          "2025-06-14T00:42:00+06:00",
          "2025-06-14T00:42:30+06:00",
          "2025-06-14T00:43:00+06:00",
          "2025-06-14T00:43:30+06:00",
          "2025-06-14T00:44:00+06:00",
          "2025-06-14T00:44:30+06:00",
          "2025-06-14T00:45:00+06:00",
          "2025-06-14T00:45:30+06:00",
          "2025-06-14T00:46:00+06:00",
          "2025-06-14T00:46:30+06:00",
          "2025-06-14T00:47:00+06:00",
          "2025-06-14T00:47:30+06:00",
          "2025-06-14T00:48:00+06:00",
          "2025-06-14T00:48:30+06:00",
          "2025-06-14T00:49:00+06:00",
          "2025-06-14T00:49:30+06:00",
          "2025-06-14T00:50:00+06:00"
         ],
         "xaxis": "x3",
         "y": {
          "bdata": "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",
          "dtype": "f8"
         },
         "yaxis": "y3"
        },
        {
         "line": {
          "color": "red",
          "dash": "dash",
          "width": 2
         },
         "mode": "lines",
         "name": "Respeck (Normalized)",
         "showlegend": false,
         "type": "scatter",
         "x": [
          "2025-06-13T23:06:00+06:00",
          "2025-06-13T23:06:30+06:00",
          "2025-06-13T23:07:00+06:00",
          "2025-06-13T23:07:30+06:00",
          "2025-06-13T23:08:00+06:00",
          "2025-06-13T23:08:30+06:00",
          "2025-06-13T23:09:00+06:00",
          "2025-06-13T23:09:30+06:00",
          "2025-06-13T23:10:00+06:00",
          "2025-06-13T23:10:30+06:00",
          "2025-06-13T23:11:00+06:00",
          "2025-06-13T23:11:30+06:00",
          "2025-06-13T23:12:00+06:00",
          "2025-06-13T23:12:30+06:00",
          "2025-06-13T23:13:00+06:00",
          "2025-06-13T23:13:30+06:00",
          "2025-06-13T23:14:00+06:00",
          "2025-06-13T23:14:30+06:00",
          "2025-06-13T23:15:00+06:00",
          "2025-06-13T23:15:30+06:00",
          "2025-06-13T23:16:00+06:00",
          "2025-06-13T23:16:30+06:00",
          "2025-06-13T23:17:00+06:00",
          "2025-06-13T23:17:30+06:00",
          "2025-06-13T23:18:00+06:00",
          "2025-06-13T23:18:30+06:00",
          "2025-06-13T23:19:00+06:00",
          "2025-06-13T23:19:30+06:00",
          "2025-06-13T23:20:00+06:00",
          "2025-06-13T23:20:30+06:00",
          "2025-06-13T23:21:00+06:00",
          "2025-06-13T23:21:30+06:00",
          "2025-06-13T23:22:00+06:00",
          "2025-06-13T23:22:30+06:00",
          "2025-06-13T23:23:00+06:00",
          "2025-06-13T23:23:30+06:00",
          "2025-06-13T23:24:00+06:00",
          "2025-06-13T23:24:30+06:00",
          "2025-06-13T23:25:00+06:00",
          "2025-06-13T23:25:30+06:00",
          "2025-06-13T23:26:00+06:00",
          "2025-06-13T23:26:30+06:00",
          "2025-06-13T23:27:00+06:00",
          "2025-06-13T23:27:30+06:00",
          "2025-06-13T23:28:00+06:00",
          "2025-06-13T23:28:30+06:00",
          "2025-06-13T23:29:00+06:00",
          "2025-06-13T23:29:30+06:00",
          "2025-06-13T23:30:00+06:00",
          "2025-06-13T23:30:30+06:00",
          "2025-06-13T23:31:00+06:00",
          "2025-06-13T23:31:30+06:00",
          "2025-06-13T23:32:00+06:00",
          "2025-06-13T23:32:30+06:00",
          "2025-06-13T23:33:00+06:00",
          "2025-06-13T23:33:30+06:00",
          "2025-06-13T23:34:00+06:00",
          "2025-06-13T23:34:30+06:00",
          "2025-06-13T23:35:00+06:00",
          "2025-06-13T23:35:30+06:00",
          "2025-06-13T23:36:00+06:00",
          "2025-06-13T23:36:30+06:00",
          "2025-06-13T23:37:00+06:00",
          "2025-06-13T23:37:30+06:00",
          "2025-06-13T23:38:00+06:00",
          "2025-06-13T23:38:30+06:00",
          "2025-06-13T23:39:00+06:00",
          "2025-06-13T23:39:30+06:00",
          "2025-06-13T23:40:00+06:00",
          "2025-06-13T23:40:30+06:00",
          "2025-06-13T23:41:00+06:00",
          "2025-06-13T23:41:30+06:00",
          "2025-06-13T23:42:00+06:00",
          "2025-06-13T23:42:30+06:00",
          "2025-06-13T23:43:00+06:00",
          "2025-06-13T23:43:30+06:00",
          "2025-06-13T23:44:00+06:00",
          "2025-06-13T23:44:30+06:00",
          "2025-06-13T23:45:00+06:00",
          "2025-06-13T23:45:30+06:00",
          "2025-06-13T23:46:00+06:00",
          "2025-06-13T23:46:30+06:00",
          "2025-06-13T23:47:00+06:00",
          "2025-06-13T23:47:30+06:00",
          "2025-06-13T23:48:00+06:00",
          "2025-06-13T23:48:30+06:00",
          "2025-06-13T23:49:00+06:00",
          "2025-06-13T23:49:30+06:00",
          "2025-06-13T23:50:00+06:00",
          "2025-06-13T23:50:30+06:00",
          "2025-06-13T23:51:00+06:00",
          "2025-06-13T23:51:30+06:00",
          "2025-06-13T23:52:00+06:00",
          "2025-06-13T23:52:30+06:00",
          "2025-06-13T23:53:00+06:00",
          "2025-06-13T23:53:30+06:00",
          "2025-06-13T23:54:00+06:00",
          "2025-06-13T23:54:30+06:00",
          "2025-06-13T23:55:00+06:00",
          "2025-06-13T23:55:30+06:00",
          "2025-06-13T23:56:00+06:00",
          "2025-06-13T23:56:30+06:00",
          "2025-06-13T23:57:00+06:00",
          "2025-06-13T23:57:30+06:00",
          "2025-06-13T23:58:00+06:00",
          "2025-06-13T23:58:30+06:00",
          "2025-06-13T23:59:00+06:00",
          "2025-06-13T23:59:30+06:00",
          "2025-06-14T00:00:00+06:00",
          "2025-06-14T00:00:30+06:00",
          "2025-06-14T00:01:00+06:00",
          "2025-06-14T00:01:30+06:00",
          "2025-06-14T00:02:00+06:00",
          "2025-06-14T00:02:30+06:00",
          "2025-06-14T00:03:00+06:00",
          "2025-06-14T00:03:30+06:00",
          "2025-06-14T00:04:00+06:00",
          "2025-06-14T00:04:30+06:00",
          "2025-06-14T00:05:00+06:00",
          "2025-06-14T00:05:30+06:00",
          "2025-06-14T00:06:00+06:00",
          "2025-06-14T00:06:30+06:00",
          "2025-06-14T00:07:00+06:00",
          "2025-06-14T00:07:30+06:00",
          "2025-06-14T00:08:00+06:00",
          "2025-06-14T00:08:30+06:00",
          "2025-06-14T00:09:00+06:00",
          "2025-06-14T00:09:30+06:00",
          "2025-06-14T00:10:00+06:00",
          "2025-06-14T00:10:30+06:00",
          "2025-06-14T00:11:00+06:00",
          "2025-06-14T00:11:30+06:00",
          "2025-06-14T00:12:00+06:00",
          "2025-06-14T00:12:30+06:00",
          "2025-06-14T00:13:00+06:00",
          "2025-06-14T00:13:30+06:00",
          "2025-06-14T00:14:00+06:00",
          "2025-06-14T00:14:30+06:00",
          "2025-06-14T00:15:00+06:00",
          "2025-06-14T00:15:30+06:00",
          "2025-06-14T00:16:00+06:00",
          "2025-06-14T00:16:30+06:00",
          "2025-06-14T00:17:00+06:00",
          "2025-06-14T00:17:30+06:00",
          "2025-06-14T00:18:00+06:00",
          "2025-06-14T00:18:30+06:00",
          "2025-06-14T00:19:00+06:00",
          "2025-06-14T00:19:30+06:00",
          "2025-06-14T00:20:00+06:00",
          "2025-06-14T00:20:30+06:00",
          "2025-06-14T00:21:00+06:00",
          "2025-06-14T00:21:30+06:00",
          "2025-06-14T00:22:00+06:00",
          "2025-06-14T00:22:30+06:00",
          "2025-06-14T00:23:00+06:00",
          "2025-06-14T00:23:30+06:00",
          "2025-06-14T00:24:00+06:00",
          "2025-06-14T00:24:30+06:00",
          "2025-06-14T00:25:00+06:00",
          "2025-06-14T00:25:30+06:00",
          "2025-06-14T00:26:00+06:00",
          "2025-06-14T00:26:30+06:00",
          "2025-06-14T00:27:00+06:00",
          "2025-06-14T00:27:30+06:00",
          "2025-06-14T00:28:00+06:00",
          "2025-06-14T00:28:30+06:00",
          "2025-06-14T00:29:00+06:00",
          "2025-06-14T00:29:30+06:00",
          "2025-06-14T00:30:00+06:00",
          "2025-06-14T00:30:30+06:00",
          "2025-06-14T00:31:00+06:00",
          "2025-06-14T00:31:30+06:00",
          "2025-06-14T00:32:00+06:00",
          "2025-06-14T00:32:30+06:00",
          "2025-06-14T00:33:00+06:00",
          "2025-06-14T00:33:30+06:00",
          "2025-06-14T00:34:00+06:00",
          "2025-06-14T00:34:30+06:00",
          "2025-06-14T00:35:00+06:00",
          "2025-06-14T00:35:30+06:00",
          "2025-06-14T00:36:00+06:00",
          "2025-06-14T00:36:30+06:00",
          "2025-06-14T00:37:00+06:00",
          "2025-06-14T00:37:30+06:00",
          "2025-06-14T00:38:00+06:00",
          "2025-06-14T00:38:30+06:00",
          "2025-06-14T00:39:00+06:00",
          "2025-06-14T00:39:30+06:00",
          "2025-06-14T00:40:00+06:00",
          "2025-06-14T00:40:30+06:00",
          "2025-06-14T00:41:00+06:00",
          "2025-06-14T00:41:30+06:00",
          "2025-06-14T00:42:00+06:00",
          "2025-06-14T00:42:30+06:00",
          "2025-06-14T00:43:00+06:00",
          "2025-06-14T00:43:30+06:00",
          "2025-06-14T00:44:00+06:00",
          "2025-06-14T00:44:30+06:00",
          "2025-06-14T00:45:00+06:00",
          "2025-06-14T00:45:30+06:00",
          "2025-06-14T00:46:00+06:00",
          "2025-06-14T00:46:30+06:00",
          "2025-06-14T00:47:00+06:00",
          "2025-06-14T00:47:30+06:00",
          "2025-06-14T00:48:00+06:00",
          "2025-06-14T00:48:30+06:00",
          "2025-06-14T00:49:00+06:00",
          "2025-06-14T00:49:30+06:00",
          "2025-06-14T00:50:00+06:00"
         ],
         "xaxis": "x3",
         "y": {
          "bdata": "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",
          "dtype": "f8"
         },
         "yaxis": "y3"
        },
        {
         "line": {
          "color": "green",
          "width": 2
         },
         "mode": "lines",
         "name": "Cross-correlation",
         "showlegend": false,
         "type": "scatter",
         "x": {
          "bdata": "AAAAAAAALsAAAAAAAAAtwAAAAAAAACzAAAAAAAAAK8AAAAAAAAAqwAAAAAAAACnAAAAAAAAAKMAAAAAAAAAnwAAAAAAAACbAAAAAAAAAJcAAAAAAAAAkwAAAAAAAACPAAAAAAAAAIsAAAAAAAAAhwAAAAAAAACDAAAAAAAAAHsAAAAAAAAAcwAAAAAAAABrAAAAAAAAAGMAAAAAAAAAWwAAAAAAAABTAAAAAAAAAEsAAAAAAAAAQwAAAAAAAAAzAAAAAAAAACMAAAAAAAAAEwAAAAAAAAADAAAAAAAAA+L8AAAAAAADwvwAAAAAAAOC/AAAAAAAAAAAAAAAAAADgPwAAAAAAAPA/AAAAAAAA+D8AAAAAAAAAQAAAAAAAAARAAAAAAAAACEAAAAAAAAAMQAAAAAAAABBAAAAAAAAAEkAAAAAAAAAUQAAAAAAAABZAAAAAAAAAGEAAAAAAAAAaQAAAAAAAABxAAAAAAAAAHkAAAAAAAAAgQAAAAAAAACFAAAAAAAAAIkAAAAAAAAAjQAAAAAAAACRAAAAAAAAAJUAAAAAAAAAmQAAAAAAAACdAAAAAAAAAKEAAAAAAAAApQAAAAAAAACpAAAAAAAAAK0AAAAAAAAAsQAAAAAAAAC1AAAAAAAAALkA=",
          "dtype": "f8"
         },
         "xaxis": "x4",
         "y": {
          "bdata": "jTiJkcQxQUCUdAmXs9RBQMTgFfJdYT5Aapy34F9XMkAgNwTO7yYVQPBKGqL3ht4/74/cGCsLEUDgIn+SqWcjQJj7Kjl7eSpA/DNqh4zqMEASj1zaecEzQNR0y1V2rTZAED12hunRO0DQj0SbBIVAQPItpw+TlkNAm2sne3h1RkD8kiYmUHxIQKB9SfuiekxAvMZcnNo8T0DEAjgy6MJLQJoEl/cLT0ZAHtBGuRLzQUBKuQw4hyY+QFURtoHFnTxAHqBJ21JrPUALreEWvS48QPwLyOp3fzVADHs7WkKeHUBqiuC25/ohwLqm6LDtJDHABzyuNFv/McDE9dezUH74vzIArqgy0yRAmBkDOmDFMECkrf0cOIU0QEqoQYxs3DJA1ThzzOmpMkDOm0GBBHI3QD7AqefGZztAiELF+IIjO0BTsql2INA5QEifbCOHmDpA4w9nlMW5PUBN0dZDeQBBQO6vxarv9EBAepUjO63lOEAmJd6o/yUuQLAcVinlACxARLwrnYiIM0AWxZRFJZs7QJoLN6p38EBAL/OLuu57QUB3FnEyjdtAQPRPIn5AAEBA6bjNOC1YOEASxi9g7AgVQHn/les7kSPA2HukblppEcAdvpi84wYfQHL5TVMxqyVAPhba+8AEHkA=",
          "dtype": "f8"
         },
         "yaxis": "y4"
        },
        {
         "marker": {
          "color": "orange",
          "size": 12,
          "symbol": "star"
         },
         "mode": "markers",
         "name": "Best Alignment (r=62.475)",
         "type": "scatter",
         "x": [
          -6
         ],
         "xaxis": "x4",
         "y": [
          62.475421471882754
         ],
         "yaxis": "y4"
        }
       ],
       "layout": {
        "annotations": [
         {
          "font": {
           "size": 16
          },
          "showarrow": false,
          "text": "Raw Breathing Rate Signals (Interpolated)",
          "x": 0.5,
          "xanchor": "center",
          "xref": "paper",
          "y": 1,
          "yanchor": "bottom",
          "yref": "paper"
         },
         {
          "font": {
           "size": 16
          },
          "showarrow": false,
          "text": "Cleaned and Overlapping Data",
          "x": 0.5,
          "xanchor": "center",
          "xref": "paper",
          "y": 0.73,
          "yanchor": "bottom",
          "yref": "paper"
         },
         {
          "font": {
           "size": 16
          },
          "showarrow": false,
          "text": "Normalized Signals for Cross-Correlation",
          "x": 0.5,
          "xanchor": "center",
          "xref": "paper",
          "y": 0.46,
          "yanchor": "bottom",
          "yref": "paper"
         },
         {
          "font": {
           "size": 16
          },
          "showarrow": false,
          "text": "Cross-Correlation Function (Best lag: -6.00 min)",
          "x": 0.5,
          "xanchor": "center",
          "xref": "paper",
          "y": 0.19,
          "yanchor": "bottom",
          "yref": "paper"
         },
         {
          "showarrow": false,
          "text": "Best lag: -6.00 min",
          "x": -6,
          "xanchor": "left",
          "xref": "x4",
          "y": 1,
          "yanchor": "top",
          "yref": "y4 domain"
         }
        ],
        "height": 1000,
        "shapes": [
         {
          "line": {
           "color": "orange",
           "dash": "dash"
          },
          "type": "line",
          "x0": -6,
          "x1": -6,
          "xref": "x4",
          "y0": 0,
          "y1": 1,
          "yref": "y4 domain"
         }
        ],
        "template": {
         "data": {
          "bar": [
           {
            "error_x": {
             "color": "#2a3f5f"
            },
            "error_y": {
             "color": "#2a3f5f"
            },
            "marker": {
             "line": {
              "color": "white",
              "width": 0.5
             },
             "pattern": {
              "fillmode": "overlay",
              "size": 10,
              "solidity": 0.2
             }
            },
            "type": "bar"
           }
          ],
          "barpolar": [
           {
            "marker": {
             "line": {
              "color": "white",
              "width": 0.5
             },
             "pattern": {
              "fillmode": "overlay",
              "size": 10,
              "solidity": 0.2
             }
            },
            "type": "barpolar"
           }
          ],
          "carpet": [
           {
            "aaxis": {
             "endlinecolor": "#2a3f5f",
             "gridcolor": "#C8D4E3",
             "linecolor": "#C8D4E3",
             "minorgridcolor": "#C8D4E3",
             "startlinecolor": "#2a3f5f"
            },
            "baxis": {
             "endlinecolor": "#2a3f5f",
             "gridcolor": "#C8D4E3",
             "linecolor": "#C8D4E3",
             "minorgridcolor": "#C8D4E3",
             "startlinecolor": "#2a3f5f"
            },
            "type": "carpet"
           }
          ],
          "choropleth": [
           {
            "colorbar": {
             "outlinewidth": 0,
             "ticks": ""
            },
            "type": "choropleth"
           }
          ],
          "contour": [
           {
            "colorbar": {
             "outlinewidth": 0,
             "ticks": ""
            },
            "colorscale": [
             [
              0,
              "#0d0887"
             ],
             [
              0.1111111111111111,
              "#46039f"
             ],
             [
              0.2222222222222222,
              "#7201a8"
             ],
             [
              0.3333333333333333,
              "#9c179e"
             ],
             [
              0.4444444444444444,
              "#bd3786"
             ],
             [
              0.5555555555555556,
              "#d8576b"
             ],
             [
              0.6666666666666666,
              "#ed7953"
             ],
             [
              0.7777777777777778,
              "#fb9f3a"
             ],
             [
              0.8888888888888888,
              "#fdca26"
             ],
             [
              1,
              "#f0f921"
             ]
            ],
            "type": "contour"
           }
          ],
          "contourcarpet": [
           {
            "colorbar": {
             "outlinewidth": 0,
             "ticks": ""
            },
            "type": "contourcarpet"
           }
          ],
          "heatmap": [
           {
            "colorbar": {
             "outlinewidth": 0,
             "ticks": ""
            },
            "colorscale": [
             [
              0,
              "#0d0887"
             ],
             [
              0.1111111111111111,
              "#46039f"
             ],
             [
              0.2222222222222222,
              "#7201a8"
             ],
             [
              0.3333333333333333,
              "#9c179e"
             ],
             [
              0.4444444444444444,
              "#bd3786"
             ],
             [
              0.5555555555555556,
              "#d8576b"
             ],
             [
              0.6666666666666666,
              "#ed7953"
             ],
             [
              0.7777777777777778,
              "#fb9f3a"
             ],
             [
              0.8888888888888888,
              "#fdca26"
             ],
             [
              1,
              "#f0f921"
             ]
            ],
            "type": "heatmap"
           }
          ],
          "histogram": [
           {
            "marker": {
             "pattern": {
              "fillmode": "overlay",
              "size": 10,
              "solidity": 0.2
             }
            },
            "type": "histogram"
           }
          ],
          "histogram2d": [
           {
            "colorbar": {
             "outlinewidth": 0,
             "ticks": ""
            },
            "colorscale": [
             [
              0,
              "#0d0887"
             ],
             [
              0.1111111111111111,
              "#46039f"
             ],
             [
              0.2222222222222222,
              "#7201a8"
             ],
             [
              0.3333333333333333,
              "#9c179e"
             ],
             [
              0.4444444444444444,
              "#bd3786"
             ],
             [
              0.5555555555555556,
              "#d8576b"
             ],
             [
              0.6666666666666666,
              "#ed7953"
             ],
             [
              0.7777777777777778,
              "#fb9f3a"
             ],
             [
              0.8888888888888888,
              "#fdca26"
             ],
             [
              1,
              "#f0f921"
             ]
            ],
            "type": "histogram2d"
           }
          ],
          "histogram2dcontour": [
           {
            "colorbar": {
             "outlinewidth": 0,
             "ticks": ""
            },
            "colorscale": [
             [
              0,
              "#0d0887"
             ],
             [
              0.1111111111111111,
              "#46039f"
             ],
             [
              0.2222222222222222,
              "#7201a8"
             ],
             [
              0.3333333333333333,
              "#9c179e"
             ],
             [
              0.4444444444444444,
              "#bd3786"
             ],
             [
              0.5555555555555556,
              "#d8576b"
             ],
             [
              0.6666666666666666,
              "#ed7953"
             ],
             [
              0.7777777777777778,
              "#fb9f3a"
             ],
             [
              0.8888888888888888,
              "#fdca26"
             ],
             [
              1,
              "#f0f921"
             ]
            ],
            "type": "histogram2dcontour"
           }
          ],
          "mesh3d": [
           {
            "colorbar": {
             "outlinewidth": 0,
             "ticks": ""
            },
            "type": "mesh3d"
           }
          ],
          "parcoords": [
           {
            "line": {
             "colorbar": {
              "outlinewidth": 0,
              "ticks": ""
             }
            },
            "type": "parcoords"
           }
          ],
          "pie": [
           {
            "automargin": true,
            "type": "pie"
           }
          ],
          "scatter": [
           {
            "fillpattern": {
             "fillmode": "overlay",
             "size": 10,
             "solidity": 0.2
            },
            "type": "scatter"
           }
          ],
          "scatter3d": [
           {
            "line": {
             "colorbar": {
              "outlinewidth": 0,
              "ticks": ""
             }
            },
            "marker": {
             "colorbar": {
              "outlinewidth": 0,
              "ticks": ""
             }
            },
            "type": "scatter3d"
           }
          ],
          "scattercarpet": [
           {
            "marker": {
             "colorbar": {
              "outlinewidth": 0,
              "ticks": ""
             }
            },
            "type": "scattercarpet"
           }
          ],
          "scattergeo": [
           {
            "marker": {
             "colorbar": {
              "outlinewidth": 0,
              "ticks": ""
             }
            },
            "type": "scattergeo"
           }
          ],
          "scattergl": [
           {
            "marker": {
             "colorbar": {
              "outlinewidth": 0,
              "ticks": ""
             }
            },
            "type": "scattergl"
           }
          ],
          "scattermap": [
           {
            "marker": {
             "colorbar": {
              "outlinewidth": 0,
              "ticks": ""
             }
            },
            "type": "scattermap"
           }
          ],
          "scattermapbox": [
           {
            "marker": {
             "colorbar": {
              "outlinewidth": 0,
              "ticks": ""
             }
            },
            "type": "scattermapbox"
           }
          ],
          "scatterpolar": [
           {
            "marker": {
             "colorbar": {
              "outlinewidth": 0,
              "ticks": ""
             }
            },
            "type": "scatterpolar"
           }
          ],
          "scatterpolargl": [
           {
            "marker": {
             "colorbar": {
              "outlinewidth": 0,
              "ticks": ""
             }
            },
            "type": "scatterpolargl"
           }
          ],
          "scatterternary": [
           {
            "marker": {
             "colorbar": {
              "outlinewidth": 0,
              "ticks": ""
             }
            },
            "type": "scatterternary"
           }
          ],
          "surface": [
           {
            "colorbar": {
             "outlinewidth": 0,
             "ticks": ""
            },
            "colorscale": [
             [
              0,
              "#0d0887"
             ],
             [
              0.1111111111111111,
              "#46039f"
             ],
             [
              0.2222222222222222,
              "#7201a8"
             ],
             [
              0.3333333333333333,
              "#9c179e"
             ],
             [
              0.4444444444444444,
              "#bd3786"
             ],
             [
              0.5555555555555556,
              "#d8576b"
             ],
             [
              0.6666666666666666,
              "#ed7953"
             ],
             [
              0.7777777777777778,
              "#fb9f3a"
             ],
             [
              0.8888888888888888,
              "#fdca26"
             ],
             [
              1,
              "#f0f921"
             ]
            ],
            "type": "surface"
           }
          ],
          "table": [
           {
            "cells": {
             "fill": {
              "color": "#EBF0F8"
             },
             "line": {
              "color": "white"
             }
            },
            "header": {
             "fill": {
              "color": "#C8D4E3"
             },
             "line": {
              "color": "white"
             }
            },
            "type": "table"
           }
          ]
         },
         "layout": {
          "annotationdefaults": {
           "arrowcolor": "#2a3f5f",
           "arrowhead": 0,
           "arrowwidth": 1
          },
          "autotypenumbers": "strict",
          "coloraxis": {
           "colorbar": {
            "outlinewidth": 0,
            "ticks": ""
           }
          },
          "colorscale": {
           "diverging": [
            [
             0,
             "#8e0152"
            ],
            [
             0.1,
             "#c51b7d"
            ],
            [
             0.2,
             "#de77ae"
            ],
            [
             0.3,
             "#f1b6da"
            ],
            [
             0.4,
             "#fde0ef"
            ],
            [
             0.5,
             "#f7f7f7"
            ],
            [
             0.6,
             "#e6f5d0"
            ],
            [
             0.7,
             "#b8e186"
            ],
            [
             0.8,
             "#7fbc41"
            ],
            [
             0.9,
             "#4d9221"
            ],
            [
             1,
             "#276419"
            ]
           ],
           "sequential": [
            [
             0,
             "#0d0887"
            ],
            [
             0.1111111111111111,
             "#46039f"
            ],
            [
             0.2222222222222222,
             "#7201a8"
            ],
            [
             0.3333333333333333,
             "#9c179e"
            ],
            [
             0.4444444444444444,
             "#bd3786"
            ],
            [
             0.5555555555555556,
             "#d8576b"
            ],
            [
             0.6666666666666666,
             "#ed7953"
            ],
            [
             0.7777777777777778,
             "#fb9f3a"
            ],
            [
             0.8888888888888888,
             "#fdca26"
            ],
            [
             1,
             "#f0f921"
            ]
           ],
           "sequentialminus": [
            [
             0,
             "#0d0887"
            ],
            [
             0.1111111111111111,
             "#46039f"
            ],
            [
             0.2222222222222222,
             "#7201a8"
            ],
            [
             0.3333333333333333,
             "#9c179e"
            ],
            [
             0.4444444444444444,
             "#bd3786"
            ],
            [
             0.5555555555555556,
             "#d8576b"
            ],
            [
             0.6666666666666666,
             "#ed7953"
            ],
            [
             0.7777777777777778,
             "#fb9f3a"
            ],
            [
             0.8888888888888888,
             "#fdca26"
            ],
            [
             1,
             "#f0f921"
            ]
           ]
          },
          "colorway": [
           "#636efa",
           "#EF553B",
           "#00cc96",
           "#ab63fa",
           "#FFA15A",
           "#19d3f3",
           "#FF6692",
           "#B6E880",
           "#FF97FF",
           "#FECB52"
          ],
          "font": {
           "color": "#2a3f5f"
          },
          "geo": {
           "bgcolor": "white",
           "lakecolor": "white",
           "landcolor": "white",
           "showlakes": true,
           "showland": true,
           "subunitcolor": "#C8D4E3"
          },
          "hoverlabel": {
           "align": "left"
          },
          "hovermode": "closest",
          "mapbox": {
           "style": "light"
          },
          "paper_bgcolor": "white",
          "plot_bgcolor": "white",
          "polar": {
           "angularaxis": {
            "gridcolor": "#EBF0F8",
            "linecolor": "#EBF0F8",
            "ticks": ""
           },
           "bgcolor": "white",
           "radialaxis": {
            "gridcolor": "#EBF0F8",
            "linecolor": "#EBF0F8",
            "ticks": ""
           }
          },
          "scene": {
           "xaxis": {
            "backgroundcolor": "white",
            "gridcolor": "#DFE8F3",
            "gridwidth": 2,
            "linecolor": "#EBF0F8",
            "showbackground": true,
            "ticks": "",
            "zerolinecolor": "#EBF0F8"
           },
           "yaxis": {
            "backgroundcolor": "white",
            "gridcolor": "#DFE8F3",
            "gridwidth": 2,
            "linecolor": "#EBF0F8",
            "showbackground": true,
            "ticks": "",
            "zerolinecolor": "#EBF0F8"
           },
           "zaxis": {
            "backgroundcolor": "white",
            "gridcolor": "#DFE8F3",
            "gridwidth": 2,
            "linecolor": "#EBF0F8",
            "showbackground": true,
            "ticks": "",
            "zerolinecolor": "#EBF0F8"
           }
          },
          "shapedefaults": {
           "line": {
            "color": "#2a3f5f"
           }
          },
          "ternary": {
           "aaxis": {
            "gridcolor": "#DFE8F3",
            "linecolor": "#A2B1C6",
            "ticks": ""
           },
           "baxis": {
            "gridcolor": "#DFE8F3",
            "linecolor": "#A2B1C6",
            "ticks": ""
           },
           "bgcolor": "white",
           "caxis": {
            "gridcolor": "#DFE8F3",
            "linecolor": "#A2B1C6",
            "ticks": ""
           }
          },
          "title": {
           "x": 0.05
          },
          "xaxis": {
           "automargin": true,
           "gridcolor": "#EBF0F8",
           "linecolor": "#EBF0F8",
           "ticks": "",
           "title": {
            "standoff": 15
           },
           "zerolinecolor": "#EBF0F8",
           "zerolinewidth": 2
          },
          "yaxis": {
           "automargin": true,
           "gridcolor": "#EBF0F8",
           "linecolor": "#EBF0F8",
           "ticks": "",
           "title": {
            "standoff": 15
           },
           "zerolinecolor": "#EBF0F8",
           "zerolinewidth": 2
          }
         }
        },
        "title": {
         "text": "Breathing Rate Sensor Alignment Analysis<br><sub>Correlation: 62.475 | Lag: -6.00 minutes | Quality: Excellent</sub>"
        },
        "xaxis": {
         "anchor": "y",
         "domain": [
          0,
          1
         ],
         "title": {
          "text": "Time"
         }
        },
        "xaxis2": {
         "anchor": "y2",
         "domain": [
          0,
          1
         ],
         "title": {
          "text": "Time"
         }
        },
        "xaxis3": {
         "anchor": "y3",
         "domain": [
          0,
          1
         ],
         "title": {
          "text": "Time"
         }
        },
        "xaxis4": {
         "anchor": "y4",
         "domain": [
          0,
          1
         ],
         "title": {
          "text": "Lag (minutes)"
         }
        },
        "yaxis": {
         "anchor": "x",
         "domain": [
          0.81,
          1
         ],
         "title": {
          "text": "Breaths per 30s"
         }
        },
        "yaxis2": {
         "anchor": "x2",
         "domain": [
          0.54,
          0.73
         ],
         "title": {
          "text": "Breaths per 30s"
         }
        },
        "yaxis3": {
         "anchor": "x3",
         "domain": [
          0.27,
          0.46
         ],
         "title": {
          "text": "Breaths per 30s"
         }
        },
        "yaxis4": {
         "anchor": "x4",
         "domain": [
          0,
          0.19
         ],
         "title": {
          "text": "Correlation"
         }
        }
       }
      }
     },
     "metadata": {},
     "output_type": "display_data"
    },
    {
     "name": "stdout",
     "output_type": "stream",
     "text": [
      "\n",
      "=== SUMMARY ===\n",
      "Time lag between sensors: -6.00 minutes\n",
      "Correlation strength: 62.475\n",
      "Alignment quality: Excellent\n",
      "⚠️  Large time lag detected - check sensor synchronization!\n"
     ]
    }
   ],
   "source": [
    "target_tz = 'Asia/Bishkek'\n",
    "\n",
    "start_window = pd.to_datetime('2025-06-13 22:55:00').tz_localize(target_tz)\n",
    "end_window = pd.to_datetime('2025-06-13 23:05:00').tz_localize(target_tz)\n",
    "\n",
    "\n",
    "respeck_zoom = respeck_cs[\n",
    "    (respeck_cs['timestamp'] >= start_window) & (respeck_cs['timestamp'] <= end_window)\n",
    "]\n",
    "\n",
    "spike_row = respeck_zoom.loc[respeck_zoom['breathingSignal'].idxmax()]\n",
    "respeck_spike_timestamp = spike_row['timestamp']\n",
    "\n",
    "print(f\"Respeck Spike Timestamp found at: {respeck_spike_timestamp}\")\n"
   ]
  },
  {
   "cell_type": "code",
   "execution_count": 15,
   "id": "4d6150c8",
   "metadata": {},
   "outputs": [
    {
     "name": "stdout",
     "output_type": "stream",
     "text": [
      "                   Start_Time  Breaths_per_30_seconds\n",
      "0   2025-06-13 23:05:00+06:00                      59\n",
      "1   2025-06-13 23:06:00+06:00                     180\n",
      "2   2025-06-13 23:07:00+06:00                     233\n",
      "3   2025-06-13 23:08:00+06:00                     178\n",
      "4   2025-06-13 23:09:00+06:00                      82\n",
      "..                        ...                     ...\n",
      "101 2025-06-14 00:46:00+06:00                       0\n",
      "102 2025-06-14 00:47:00+06:00                       0\n",
      "103 2025-06-14 00:48:00+06:00                       0\n",
      "104 2025-06-14 00:49:00+06:00                       0\n",
      "105 2025-06-14 00:50:00+06:00                       5\n",
      "\n",
      "[106 rows x 2 columns]\n"
     ]
    },
    {
     "name": "stderr",
     "output_type": "stream",
     "text": [
      "/var/folders/qj/1f20_52j2yj49hjhy3ht9wzw0000gn/T/ipykernel_27822/1572111637.py:22: FutureWarning:\n",
      "\n",
      "'S' is deprecated and will be removed in a future version, please use 's' instead.\n",
      "\n"
     ]
    }
   ],
   "source": [
    "from scipy.signal import find_peaks\n",
    "\n",
    "# Create a zoomed-in dataframe for the PSG data\n",
    "psg_zoom = psg_df_cs[\n",
    "    (psg_df_cs['timestamp'] <= end_window)\n",
    "]\n",
    "# Find peaks in the PSG signal. You will need to adjust the 'height' value.\n",
    "# Look at your graph: the normal signal seems to be between 0 and 100.\n",
    "# The disturbance might go slightly higher. Start with a height around 100 and adjust.\n",
    "psg_peaks_indices, _ = find_peaks(psg_zoom['Resp nasal'])\n",
    "\n",
    "# Get the timestamp of the FIRST peak that meets the criteria\n",
    "psg_spike_index = psg_zoom.index[psg_peaks_indices[0]]\n",
    "psg_spike_timestamp = psg_zoom.loc[psg_spike_index, 'timestamp']\n",
    "\n",
    "print(f\"PSG Spike Timestamp found at: {psg_spike_timestamp}\")"
   ]
  },
  {
   "cell_type": "code",
   "execution_count": null,
   "id": "b00107ab",
   "metadata": {},
   "outputs": [],
   "source": [
    "time_offset = psg_spike_timestamp - respeck_spike_timestamp\n",
    "print(time_offset)"
   ]
  },
  {
   "cell_type": "code",
   "execution_count": 16,
   "id": "ef2ff5b8",
   "metadata": {},
   "outputs": [
    {
     "ename": "SyntaxError",
     "evalue": "invalid syntax (1965335765.py, line 1)",
     "output_type": "error",
     "traceback": [
      "  \u001b[36mCell\u001b[39m\u001b[36m \u001b[39m\u001b[32mIn[16]\u001b[39m\u001b[32m, line 1\u001b[39m\n\u001b[31m    \u001b[39m\u001b[31m**Plotting new Cheyne-Stokes data**\u001b[39m\n    ^\n\u001b[31mSyntaxError\u001b[39m\u001b[31m:\u001b[39m invalid syntax\n"
     ]
    }
   ],
   "source": [
    "respeck_cs['timestamp_aligned'] = respeck_cs['timestamp'] + time_offset\n",
    "print(\"Created 'timestamp_aligned' column in the Respeck DataFrame.\")\n",
    "print(respeck_cs)"
   ]
  },
  {
   "cell_type": "code",
   "execution_count": null,
   "id": "c856893a",
   "metadata": {},
   "outputs": [],
   "source": [
    "overlap_start = max(respeck_cs['timestamp_aligned'].min(), psg_df_cs['timestamp'].min())\n",
    "overlap_end = min(psg_df_cs['timestamp'].max(), psg_df_cs['timestamp'].max())\n",
    "respeck_overlap = respeck_cs[\n",
    "    (respeck_cs['timestamp_aligned'] <= overlap_end)\n",
    "]\n",
    "\n",
    "psg_overlap = psg_df_cs[\n",
    "   (psg_df_cs['timestamp'] <= overlap_end)\n",
    "]\n",
    "fig = go.Figure()\n",
    "\n",
    "# --- Add Traces from the First DataFrame ---\n",
    "# Add the 'breathingSignal' from df1 and assign it to the secondary y-axis\n",
    "fig.add_trace(go.Scatter(\n",
    "    x=respeck_overlap['timestamp_aligned'],\n",
    "    y=respeck_overlap['breathingSignal'],\n",
    "    mode='lines',\n",
    "    name='Breathing Signal - Respeck',\n",
    "    yaxis='y2' # <--- This is the key change for this trace\n",
    "))\n",
    "fig.add_trace(go.Scatter(\n",
    "    x=respeck_overlap['timestamp_aligned'],\n",
    "    y=respeck_overlap['x'],\n",
    "    mode='lines',\n",
    "    name='Breathing Signal - Respeck X'\n",
    "))\n",
    "fig.add_trace(go.Scatter(\n",
    "    x=respeck_overlap['timestamp_aligned'],\n",
    "    y=respeck_overlap['y'],\n",
    "    mode='lines',\n",
    "    name='Breathing Signal - Respeck Y'\n",
    "))\n",
    "fig.add_trace(go.Scatter(\n",
    "    x=respeck_overlap['timestamp_aligned'],\n",
    "    y=respeck_overlap['z'],\n",
    "    mode='lines',\n",
    "    name='Breathing Signal - Respeck Z'\n",
    "))\n",
    "# Add the 'Resp nasal' from df1\n",
    "fig.add_trace(go.Scatter(\n",
    "    x=psg_overlap['timestamp'],\n",
    "    y=psg_overlap['Resp nasal'],\n",
    "    mode='lines',\n",
    "    name='Resp Nasal - PSG'\n",
    "))\n",
    "\n",
    "\n",
    "# --- Update the Layout for a Professional Look with a Second Y-Axis ---\n",
    "fig.update_layout(\n",
    "    title='Comparison of Breathing Signals and Nasal Respiration (aligned)',\n",
    "    xaxis_title='Timestamp',\n",
    "    yaxis_title='Signal Amplitude (Primary Axis)', # Updated left axis title\n",
    "    legend_title='Data Source',\n",
    "    hovermode='x unified', # For better tooltip experience\n",
    "    # --- This section creates and styles the secondary y-axis ---\n",
    "    yaxis2=dict(\n",
    "        title='Breathing Signal Amplitude (Secondary Axis)',\n",
    "        overlaying='y',\n",
    "        side='right'\n",
    "    )\n",
    "    # ----------------------------------------------------------------\n",
    ")\n",
    "\n",
    "# --- Show the Figure ---\n",
    "fig.show()\n",
    "fig.write_html(\"post_alignment.html\")"
   ]
  }
 ],
 "metadata": {
  "kernelspec": {
   "display_name": "diss",
   "language": "python",
   "name": "python3"
  },
  "language_info": {
   "codemirror_mode": {
    "name": "ipython",
    "version": 3
   },
   "file_extension": ".py",
   "mimetype": "text/x-python",
   "name": "python",
   "nbconvert_exporter": "python",
   "pygments_lexer": "ipython3",
   "version": "3.11.12"
  }
 },
 "nbformat": 4,
 "nbformat_minor": 5
}
