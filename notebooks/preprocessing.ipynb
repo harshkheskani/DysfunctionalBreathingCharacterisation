{
 "cells": [
  {
   "cell_type": "code",
   "execution_count": 1,
   "id": "020ba921",
   "metadata": {},
   "outputs": [],
   "source": [
    "import pandas as pd\n",
    "import pytz\n",
    "import numpy as np\n",
    "from scipy.signal import welch\n",
    "import matplotlib.pyplot as plt\n",
    "from scipy.signal import butter, filtfilt\n",
    "import matplotlib.pyplot as plt\n",
    "from breaths import *"
   ]
  },
  {
   "cell_type": "markdown",
   "id": "f655598f",
   "metadata": {},
   "source": [
    "***Preprocessing***"
   ]
  },
  {
   "cell_type": "code",
   "execution_count": 2,
   "id": "7584bfdb",
   "metadata": {},
   "outputs": [
    {
     "name": "stdout",
     "output_type": "stream",
     "text": [
      "Loading data...\n"
     ]
    }
   ],
   "source": [
    "# Data Cleaning\n",
    "# 1. Noise removal:- dual-threshold approach atm 0.1Hz - 1.5Hz\n",
    "\n",
    "RESPECK_FILE = '../../data/bishkek_csr/03_train_ready/respeck/25-04-2025_respeck.csv'\n",
    "PSG_FILE = '../../data/bishkek_csr/03_train_ready/nasal_files/25-04-2025_nasal.csv'\n",
    "LABELS_FILE = '../../data/bishkek_csr/03_train_ready/event_exports/25-04-2025_event_export.csv'\n",
    "\n",
    "# --- Load Data ---\n",
    "print(\"Loading data...\")\n",
    "\n",
    "respeck_df = pd.read_csv(RESPECK_FILE)\n",
    "respeck_df['timestamp'] = pd.to_datetime(respeck_df['alignedTimestamp'], unit='ms')\n",
    "tz = pytz.timezone('Asia/Bishkek')\n",
    "respeck_df['timestamp'] = respeck_df['timestamp'].dt.tz_localize('UTC').dt.tz_convert(tz)\n",
    "# respeck_df.set_index('timestamp', inplace=True)\n",
    "\n",
    "psg_df = pd.read_csv(PSG_FILE)\n",
    "psg_df['timestamp'] = pd.to_datetime(psg_df['UnixTimestamp'], unit='ms')\n",
    "tz = pytz.timezone('Asia/Bishkek')\n",
    "psg_df['timestamp'] = psg_df['timestamp'].dt.tz_localize('UTC').dt.tz_convert(tz)\n",
    "# psg_df.set_index('timestamp', inplace=True)\n",
    "\n",
    "labels_df = pd.read_csv(LABELS_FILE)\n",
    "labels_df['timestamp'] = pd.to_datetime(labels_df['UnixTimestamp'], unit='ms')\n",
    "tz = pytz.timezone('Asia/Bishkek')\n",
    "labels_df['timestamp'] = labels_df['timestamp'].dt.tz_localize('UTC').dt.tz_convert(tz)\n",
    "# labels_df.set_index('timestamp', inplace=True)"
   ]
  },
  {
   "cell_type": "code",
   "execution_count": 3,
   "id": "63aaed83",
   "metadata": {},
   "outputs": [
    {
     "name": "stdout",
     "output_type": "stream",
     "text": [
      "2025-04-25 00:08:48+06:00\n",
      "2025-04-25 07:26:40.990000+06:00\n"
     ]
    }
   ],
   "source": [
    "# Only use overalapping data\n",
    "\n",
    "start_time_respeck = respeck_df['timestamp'].min()\n",
    "end_time_respeck = respeck_df['timestamp'].max()\n",
    "\n",
    "start_time_psg = psg_df['timestamp'].min()\n",
    "end_time_psg = psg_df['timestamp'].max()\n",
    "\n",
    "overlap_start = max(start_time_respeck, start_time_psg)\n",
    "overlap_end = min(end_time_respeck, end_time_psg)\n",
    "\n",
    "print(overlap_start)\n",
    "print(overlap_end)\n",
    "\n",
    "respeck_df = respeck_df[(respeck_df['timestamp'] >= overlap_start) & (respeck_df['timestamp'] <= overlap_end)]\n",
    "psg_df = psg_df[(psg_df['timestamp'] >= overlap_start) & (psg_df['timestamp'] <= overlap_end)]\n"
   ]
  },
  {
   "cell_type": "code",
   "execution_count": 4,
   "id": "1b954fb9",
   "metadata": {},
   "outputs": [],
   "source": [
    "\n",
    "# # respeck_df.set_index('timestamp', inplace=True)\n",
    "# # Calculate the sampling frequency (fs)\n",
    "# time_diffs = respeck_df.index.to_series().diff().dt.total_seconds()\n",
    "# fs = 1 / time_diffs.median()\n",
    "# print(f\"\\nDetected Sampling Frequency (fs): {fs:.2f} Hz\")\n",
    "\n",
    "# # 3. Define representative segments to analyze\n",
    "# # We'll define the start times for a few 5-minute windows.\n",
    "# # We'll pick a few times from the beginning, middle, and end of the recording.\n",
    "# if not respeck_df.empty:\n",
    "#     segment_starts = [\n",
    "#         respeck_df.index[0] + pd.Timedelta(minutes=5),       # 5 minutes into the recording\n",
    "#         respeck_df.index[0] + pd.Timedelta(minutes=60),      # 60 minutes into the recording\n",
    "#         respeck_df.index[-1] - pd.Timedelta(minutes=10)      # 10 minutes before the end\n",
    "#     ]\n",
    "#     segment_duration = pd.Timedelta(minutes=5)\n",
    "\n",
    "#     # 4. Loop through each segment, compute PSD, and plot\n",
    "#     for i, start_time in enumerate(segment_starts):\n",
    "#         # Select the 5-minute data segment\n",
    "#         end_time = start_time + segment_duration\n",
    "#         segment = respeck_df[start_time:end_time]\n",
    "\n",
    "#         if segment.empty:\n",
    "#             print(f\"\\nSegment {i+1} starting at {start_time} is empty or too short. Skipping.\")\n",
    "#             continue\n",
    "\n",
    "#         # Create a plot for the segment\n",
    "#         plt.figure(figsize=(12, 7))\n",
    "\n",
    "#         # Compute and plot PSD for each axis (x, y, z)\n",
    "#         for axis in ['x', 'y', 'z']:\n",
    "#             # welch returns frequencies and power spectral density\n",
    "#             # nperseg defines the length of each segment for FFT, a larger value gives better frequency resolution\n",
    "#             # We'll use 4 seconds of data for each FFT window (fs * 4)\n",
    "#             frequencies, power = welch(segment[axis], fs=fs, nperseg=fs*4)\n",
    "\n",
    "#             # Use a logarithmic scale for the power axis (semilogy) to see both large and small peaks\n",
    "#             plt.semilogy(frequencies, power, label=f'{axis}-axis')\n",
    "\n",
    "#         plt.title(f'Power Spectral Density (PSD) - Segment {i+1}\\n(Start: {start_time.strftime(\"%H:%M:%S\")})')\n",
    "#         plt.xlabel('Frequency (Hz)')\n",
    "#         plt.ylabel('Power/Frequency ($unit^2/Hz$)')\n",
    "#         plt.grid(True, which='both', linestyle='--')\n",
    "#         plt.legend()\n",
    "#         # Limit x-axis to a reasonable range to see details. Frequencies above 2Hz are less common for body movements.\n",
    "#         plt.xlim(0, 2)\n",
    "#         plt.ylim(10e-9, 10e-3) # Set y-axis limits for better comparison between plots\n",
    "#         plt.show()\n",
    "# else:\n",
    "#     print(\"The DataFrame is empty after loading. Cannot proceed with analysis.\")"
   ]
  },
  {
   "cell_type": "code",
   "execution_count": 5,
   "id": "7ad7325a",
   "metadata": {},
   "outputs": [],
   "source": [
    "# # frequencies for OSA\n",
    "\n",
    "# apnea_events = labels_df[labels_df['Event'] == 'Obstructive Apnea'].copy()\n",
    "# if not apnea_events.empty:\n",
    "#     # Calculate sampling frequency from the main dataframe\n",
    "#     time_diffs = respeck_df.index.to_series().diff().dt.total_seconds()\n",
    "#     fs = 1 / time_diffs.median()\n",
    "#     print(f\"Using detected sampling frequency of {fs:.2f} Hz.\")\n",
    "\n",
    "#     for i, event in apnea_events.iterrows():\n",
    "#         start_time = event['timestamp']\n",
    "\n",
    "\n",
    "#         # Extract the signal segment from the main dataframe\n",
    "#         analysis_window_start = start_time - pd.Timedelta(minutes=2.5)\n",
    "#         analysis_window_end = start_time + pd.Timedelta(minutes=2.5)\n",
    "        \n",
    "#         # Extract the signal segment from the main dataframe using the new window\n",
    "#         segment = respeck_df.loc[analysis_window_start:analysis_window_end]\n",
    "        \n",
    "#         # Check if the segment is long enough for analysis\n",
    "#         # welch needs at least 2 segments, nperseg should be <= len(segment)\n",
    "#         if segment.shape[0] < fs*2: \n",
    "#             print(f\"\\nSkipping event at {start_time.time()} - duration is too short for analysis.\")\n",
    "#             continue\n",
    "\n",
    "#         # Create a plot for the segment\n",
    "#         plt.figure(figsize=(12, 7))\n",
    "        \n",
    "#         # Compute and plot PSD for each axis\n",
    "#         for axis in ['x', 'y', 'z']:\n",
    "#             # nperseg is the segment length for FFT. We can use the length of our event data or a fixed window.\n",
    "#             # It must be <= the length of the segment.\n",
    "#             nperseg = min(segment.shape[0], int(fs * 4)) # Use 4-second window or less if event is shorter\n",
    "#             frequencies, power = welch(segment[axis], fs=fs, nperseg=nperseg)\n",
    "#             plt.semilogy(frequencies, power, label=f'{axis}-axis', alpha=0.8)\n",
    "        \n",
    "#         plt.title(f'PSD during Obstructive Apnea Event\\n(Event Start: {start_time.strftime(\"%H:%M:%S\")})')\n",
    "#         plt.xlabel('Frequency (Hz)')\n",
    "#         plt.ylabel('Power/Frequency ($unit^2/Hz$)')\n",
    "#         plt.grid(True, which='both', linestyle='--')\n",
    "#         plt.legend()\n",
    "#         plt.xlim(0, 2) # Focus on frequencies relevant to body movement/breathing\n",
    "#         plt.tight_layout()\n",
    "        \n",
    "#         plt.show()\n",
    "\n",
    "# else:\n",
    "#     print(\"\\nNo 'Obstructive Apnea' events were found in the provided labels data.\")\n"
   ]
  },
  {
   "cell_type": "code",
   "execution_count": 6,
   "id": "2566e911",
   "metadata": {},
   "outputs": [
    {
     "name": "stdout",
     "output_type": "stream",
     "text": [
      "Generating plot for verification...\n",
      "Calculated Sampling Period: 0.0800 s\n",
      "Calculated Sampling Frequency (Fs): 12.50 Hz\n",
      "Calculating vector magnitude from x, y, z axes...\n",
      "Applying 0.1-1.5Hz bandpass filter...\n",
      "Added 'breathing_signal_filtered' column to the DataFrame.\n"
     ]
    }
   ],
   "source": [
    "def butter_bandpass_filter(data, lowcut, highcut, fs, order):\n",
    "    \"\"\"\n",
    "    Applies a zero-phase Butterworth bandpass filter to the data.\n",
    "    \"\"\"\n",
    "    nyquist = 0.5 * fs\n",
    "    low = lowcut / nyquist\n",
    "    high = highcut / nyquist\n",
    "    # The butter function returns the filter coefficients (numerator b, denominator a)\n",
    "    b, a = butter(order, [low, high], btype='band')\n",
    "    # filtfilt applies the filter forward and backward, resulting in zero phase shift\n",
    "    y = filtfilt(b, a, data)\n",
    "    return y\n",
    "\n",
    "\n",
    "# Based on graph 0.1-0.8Hz\n",
    "LOWCUT = 0.1  \n",
    "HIGHCUT = 1.5\n",
    "\n",
    "FILTER_ORDER = 4\n",
    "\n",
    "# --- 6. Visualization for Verification ---\n",
    "\n",
    "print(\"Generating plot for verification...\")\n",
    "\n",
    "# Define a time vector for the x-axis of the plot\n",
    "respeck_df['time_seconds'] = respeck_df['alignedTimestamp'] / 1000.0\n",
    "\n",
    "# Choose a 60-second segment to visualize\n",
    "sampling_period = respeck_df['time_seconds'].diff().median()\n",
    "FS = 1.0 / sampling_period\n",
    "\n",
    "start_index = 1000\n",
    "end_index = start_index + int(60 * FS) # 60 seconds of data\n",
    "\n",
    "\n",
    "print(f\"Calculated Sampling Period: {sampling_period:.4f} s\")\n",
    "print(f\"Calculated Sampling Frequency (Fs): {FS:.2f} Hz\") # Should be close to 12.5 Hz\n",
    "\n",
    "# Recommended: Calculate the vector magnitude of the accelerometer signal\n",
    "# This creates a single signal that is robust to sensor orientation.\n",
    "\n",
    "print(\"Calculating vector magnitude from x, y, z axes...\")\n",
    "accel_mag = np.sqrt(respeck_df['x']**2 + respeck_df['y']**2 + respeck_df['z']**2)\n",
    "accel_mag_detrended = accel_mag - accel_mag.mean()\n",
    "\n",
    "print(f\"Applying {LOWCUT}-{HIGHCUT}Hz bandpass filter...\")\n",
    "\n",
    "filtered_breathing_signal = butter_bandpass_filter(\n",
    "    data=accel_mag_detrended.values, \n",
    "    lowcut=LOWCUT, \n",
    "    highcut=HIGHCUT, \n",
    "    fs=FS, \n",
    "    order=FILTER_ORDER\n",
    ")\n",
    "\n",
    "respeck_df['breathing_signal_filtered'] = filtered_breathing_signal\n",
    "print(\"Added 'breathing_signal_filtered' column to the DataFrame.\")"
   ]
  },
  {
   "cell_type": "code",
   "execution_count": 7,
   "id": "f8c1b51b",
   "metadata": {},
   "outputs": [],
   "source": [
    "# print(\"Generating plot for verification...\")\n",
    "\n",
    "# # Choose a 60-second segment to visualize\n",
    "# # We'll plot from 10 minutes (600s) to 11 minutes (660s) into the recording\n",
    "# start_time_plot = respeck_df['time_seconds'].iloc[0] + 600\n",
    "# end_time_plot = start_time_plot + 60\n",
    "\n",
    "# plt.figure(figsize=(15, 6))\n",
    "\n",
    "# #Use the 'time_seconds' column directly for the x-axis\n",
    "# plt.plot(respeck_df['time_seconds'],\n",
    "#          respeck_df['breathingSignal'],\n",
    "#          label='Raw Accelerometer Magnitude',\n",
    "#          color='red',\n",
    "#          alpha=0.7)\n",
    "\n",
    "# plt.plot(respeck_df['time_seconds'],\n",
    "#          respeck_df['breathing_signal_filtered'],\n",
    "#          label=f'Filtered Signal ({LOWCUT}-{HIGHCUT}Hz)',\n",
    "#          color='blue',\n",
    "#          linewidth=2)\n",
    "\n",
    "# # Set the plot limits to our desired time window\n",
    "# plt.xlim(start_time_plot, end_time_plot)\n",
    "# plt.ylim(-0.3,0.3)\n",
    "# plt.title('Verification: Raw vs. Filtered Breathing Signal')\n",
    "# plt.xlabel('Time (seconds)')\n",
    "# plt.ylabel('Amplitude')\n",
    "# plt.legend()\n",
    "# plt.grid(True)\n",
    "# plt.show()"
   ]
  },
  {
   "cell_type": "code",
   "execution_count": 8,
   "id": "486c8c70",
   "metadata": {},
   "outputs": [
    {
     "name": "stdout",
     "output_type": "stream",
     "text": [
      "Uses Breath From 59228/312887 = 18.93% Signal\n",
      "Max Breath Length: 193 points. Min Breath Length: 6 points\n",
      "[[210, 230, 264, 294, 339, 391, 433, 476, 505, 544, 575, 619], [1243, 1275], [2106, 2130, 2151, 2214, 2251, 2290], [9308, 9357, 9404, 9459, 9514, 9574, 9633], [10187, 10235, 10285, 10331, 10376, 10423, 10467, 10519, 10571, 10628, 10676, 10723, 10771, 10819, 10864, 10914, 10964, 11011, 11062, 11111, 11160, 11206, 11253, 11304, 11350, 11393, 11442, 11497, 11541, 11589, 11644, 11692, 11741, 11790, 11842, 11889, 11938, 11979, 12020, 12066], [12160, 12178, 12206, 12223], [14680], [15588, 15641, 15681, 15735, 15782, 15825, 15875, 15923, 15942, 15970, 15990, 16019, 16040, 16068, 16090, 16119, 16163, 16210, 16269, 16319, 16372, 16428, 16477, 16526, 16575, 16627, 16679], [16731], [17791], [17841], [19493], [19541, 19555, 19580, 19597, 19627, 19645, 19674, 19692], [22323, 22373, 22426, 22477, 22523, 22570, 22618, 22663, 22708, 22759, 22809, 22858, 22903, 22925, 22957, 23009, 23058], [23105, 23148, 23170], [23733, 23751, 23781, 23799, 23829, 23842, 23873, 23887, 23918, 23935, 23969, 23986, 24017, 24031, 24064, 24081, 24111, 24128, 24159, 24177, 24205, 24224], [25880], [26080], [26133], [26185, 26239, 26289, 26339, 26387, 26432, 26480, 26529, 26576, 26622, 26669, 26715, 26764, 26811, 26860, 26908, 26956, 27004, 27050, 27097, 27143, 27165, 27191, 27264, 27300, 27329, 27376, 27409, 27446, 27487, 27531, 27583, 27634, 27688, 27739, 27789, 27840, 27892, 27942, 27986, 28036, 28081, 28127, 28173, 28213, 28264, 28318, 28365, 28414, 28462, 28511, 28559, 28610, 28657, 28677, 28706, 28756, 28797, 28846, 28893, 28917, 28949, 29005, 29033, 29062, 29114, 29168], [29221], [29270], [29823], [29906, 29953, 29999, 30049, 30105, 30158, 30208, 30253, 30296, 30347, 30399, 30418, 30446, 30470, 30494, 30520, 30546, 30594, 30617, 30645, 30695, 30719, 30743, 30763], [30812], [31852], [31956, 31975], [32030, 32059, 32112, 32158, 32212, 32262, 32312, 32364, 32412, 32460, 32510, 32558, 32607, 32656, 32706], [32936, 32973, 33026, 33035, 33093, 33125, 33162, 33195], [33234], [44299, 44346, 44394, 44442, 44467, 44525, 44626, 44665, 44697, 44733, 44770, 44799, 44829, 44874, 44919, 44963, 45019, 45097, 45111, 45181, 45213, 45269, 45320], [46167, 46217, 46267, 46313, 46358, 46402, 46442, 46458, 46486, 46525, 46561, 46600, 46649, 46721, 46808, 46840, 46873, 46932], [47120, 47173, 47225, 47275, 47325, 47364, 47390, 47417, 47448, 47492, 47546, 47613], [47861, 47912, 47958, 48001, 48044, 48088, 48130, 48168, 48196, 48228, 48282, 48320, 48361, 48415], [50923, 50974, 51021, 51069, 51110, 51156, 51208], [51504, 51552, 51604, 51654, 51703, 51755, 51802, 51851, 51901, 51950, 51998, 52048, 52097, 52146, 52196, 52247, 52296, 52346, 52401, 52437, 52470, 52518, 52568, 52615, 52667, 52715, 52765, 52820, 52871, 52919, 52967, 53013, 53062, 53112, 53159, 53209, 53259, 53310, 53361, 53410, 53460, 53513, 53564, 53612, 53662, 53712, 53763, 53812, 53865, 53912, 53957, 54004, 54055, 54101, 54147, 54194, 54243, 54293, 54343, 54397, 54446, 54495, 54545, 54586, 54614, 54642, 54674, 54711, 54751, 54806, 54863], [57016, 57062, 57111, 57159, 57207, 57257, 57307, 57355, 57407, 57456, 57509, 57558, 57608, 57654, 57701, 57753, 57798, 57842, 57889, 57932, 57980, 58025, 58073, 58120, 58169, 58218, 58270, 58318, 58367, 58414, 58461, 58509, 58561, 58613, 58663, 58715, 58763, 58807, 58853, 58903, 58950, 59004, 59058, 59109, 59155, 59201, 59252, 59305, 59354, 59403, 59455, 59503, 59551, 59609, 59660, 59711, 59759, 59803, 59848, 59896, 59943, 59990, 60036, 60087, 60137, 60187, 60237, 60291, 60339, 60387, 60435, 60484, 60535, 60586, 60635, 60681, 60729, 60777, 60825, 60870, 60917, 60964, 61009, 61058, 61105, 61149, 61198, 61245, 61292, 61338, 61384, 61431, 61475, 61520, 61568, 61619, 61667, 61716, 61764, 61812, 61861, 61909, 61961, 62008, 62057, 62108, 62155, 62202, 62250, 62297, 62347, 62397, 62452, 62500, 62547, 62593, 62640, 62684, 62731, 62779, 62827, 62865, 62913, 62963, 63013, 63066, 63120, 63168, 63216, 63263, 63310, 63355, 63402, 63450, 63496, 63545, 63596, 63643, 63690, 63739, 63787, 63833, 63882, 63931, 63976, 64019, 64063, 64112, 64159, 64205, 64253, 64302, 64349, 64398, 64447, 64517, 64549, 64575, 64618, 64655, 64697, 64746, 64800, 64858, 64900, 64950, 65002, 65054, 65103, 65151, 65188, 65225, 65271, 65321, 65372], [65430], [65487, 65537, 65591, 65636, 65685, 65729, 65778, 65829, 65874, 65918, 65963, 66012, 66059, 66108, 66152, 66193, 66235, 66276, 66323, 66367, 66411, 66451, 66498, 66546, 66593, 66639, 66685, 66733, 66787, 66835, 66882, 66929, 66977, 67029, 67079, 67128, 67172, 67220, 67268, 67311, 67354, 67397, 67444, 67493, 67538, 67585, 67637, 67687, 67734, 67782, 67830, 67879, 67925, 67969, 68013, 68059, 68103, 68141, 68178, 68217, 68262, 68302, 68332, 68361, 68414, 68445, 68489, 68543, 68554, 68603, 68619], [68676], [68725, 68737, 68776, 68826], [69260], [70709, 70752, 70804, 70856, 70900, 70942, 70980, 71015, 71046, 71081, 71124, 71171, 71237], [71357], [71403, 71414, 71457, 71489, 71519, 71552], [71592], [72017, 72066, 72121, 72166, 72224, 72254, 72317, 72364, 72415, 72430, 72475, 72485, 72531, 72544, 72586, 72628, 72687, 72724, 72758, 72799, 72852], [72953, 73004, 73053, 73097, 73132, 73162, 73204, 73239, 73291, 73351, 73410], [73563, 73615, 73664, 73707, 73739, 73774, 73804, 73851, 73905], [74155, 74193, 74229, 74260, 74302, 74353, 74400, 74448, 74494, 74535, 74587, 74640], [74855, 74864, 74914, 74924, 74972, 75021, 75062, 75094, 75130], [75565], [83994, 84048, 84082, 84109, 84175, 84213, 84245, 84329, 84363, 84399], [85505, 85552, 85592, 85620, 85650, 85679, 85712, 85745], [86730, 86780, 86820, 86851, 86871, 86928, 86962, 86993, 87032, 87071], [87717], [88261, 88310], [99797, 99842, 99885, 99924, 100007, 100035, 100079, 100128, 100176], [100271], [100317], [104193, 104238, 104279, 104322, 104358, 104405, 104445, 104489, 104520, 104561, 104606, 104648, 104691, 104737, 104778, 104820, 104862, 104902, 104942, 104987, 105034, 105076, 105120, 105168, 105211, 105261, 105309, 105351], [105800, 105850, 105893, 105932, 105970, 106014, 106057, 106096, 106132, 106173, 106210, 106249], [106627], [106652, 106685, 106720, 106763, 106808, 106855, 106902, 106947], [106998], [107901], [107947], [109065, 109118, 109160, 109201, 109218, 109292, 109351, 109372, 109401, 109438, 109481], [115024, 115073, 115090, 115136, 115173, 115210, 115215, 115251, 115293, 115340, 115378, 115429], [116351, 116400, 116445, 116488, 116530, 116563, 116599, 116629, 116671, 116718], [117919, 117972, 118017, 118066, 118121, 118168, 118218, 118268, 118317, 118367, 118412, 118461, 118497, 118527, 118559, 118594, 118631], [119124, 119172, 119219, 119265, 119315, 119362, 119408, 119452, 119486, 119529], [119631], [119738, 119788, 119835, 119883, 119932, 119979, 120030, 120080, 120126, 120174, 120222, 120272, 120324, 120376, 120426, 120477, 120526, 120574, 120622, 120670, 120721, 120773, 120824, 120872, 120926, 120975, 121027, 121085, 121134, 121189, 121236, 121286, 121336, 121384, 121436, 121489, 121535, 121590, 121641, 121699, 121749, 121810, 121862, 121908, 121956, 122003, 122055, 122107, 122158, 122207, 122265, 122288, 122327, 122379, 122427, 122473, 122527, 122572, 122619, 122661, 122709, 122752, 122782, 122812, 122874, 122905, 122922, 122983], [123149, 123192, 123233, 123281, 123326, 123368, 123394, 123426, 123468, 123517, 123569], [124640], [126106], [126158, 126207, 126258, 126302, 126342, 126385, 126429, 126474, 126522, 126568, 126617, 126668, 126716, 126768, 126817, 126873, 126919, 126972, 127019, 127074, 127118, 127165, 127216], [127705, 127749, 127795, 127843, 127900, 127947, 127998, 128047, 128105, 128154, 128202, 128253, 128314, 128368, 128418, 128470, 128520, 128569, 128616, 128667, 128714, 128743, 128792, 128844, 128897, 128943, 128994, 129040, 129094, 129120, 129160, 129207, 129262, 129314], [129422, 129480, 129531, 129574, 129603, 129633, 129675, 129724, 129772], [130026, 130077, 130134, 130186, 130237, 130284, 130337, 130389, 130437, 130486, 130533, 130579, 130626, 130674, 130725, 130775, 130828, 130876, 130927, 130976, 131026, 131071, 131120, 131166, 131208, 131242, 131285, 131335, 131387, 131445, 131490, 131524, 131555, 131601, 131637, 131693], [131970, 132021], [132472], [135615], [142278, 142326, 142376, 142428, 142481, 142528, 142576, 142627, 142674, 142712, 142771, 142810], [151738, 151743, 151815, 151866, 151907, 151922, 152011, 152039, 152061, 152111, 152144, 152189, 152230, 152266, 152305], [156248, 156290, 156328, 156368, 156402, 156474, 156519, 156579, 156657, 156674], [170307], [170780], [177289, 177342, 177394, 177488, 177573, 177603, 177692, 177710, 177739, 177746], [179137, 179185, 179230, 179279, 179309, 179369, 179407, 179466], [201135, 201182, 201231, 201360, 201438, 201476, 201507, 201547, 201579, 201605], [202020], [206205, 206248, 206287, 206331, 206397, 206451, 206523, 206603], [211174], [215620, 215656, 215693, 215736, 215765, 215812, 215847, 215891, 215931, 215970, 216009, 216047, 216088, 216132, 216176], [221678, 221731, 221781, 221834, 221888, 221944, 221987, 222022, 222057, 222162, 222214, 222288, 222318, 222383, 222425, 222464], [235678, 235721, 235759, 235797, 235899, 235936, 235974, 236027, 236079, 236140, 236188, 236237, 236288], [236347], [236876, 236906, 236932, 236964, 236998, 237033, 237071, 237110, 237152, 237198], [237309], [237342], [237490, 237525, 237557, 237596, 237633, 237670, 237702, 237740, 237778, 237820, 237856, 237895, 237929, 237962, 237997, 238036, 238073, 238111, 238151, 238189, 238222, 238259, 238298, 238339, 238376, 238414, 238449, 238486, 238524, 238556, 238589, 238624, 238658, 238685], [239975, 240014, 240052, 240089, 240125, 240160, 240196, 240234, 240274, 240316, 240358, 240399], [240969, 241000, 241036, 241068, 241097, 241128, 241164, 241207, 241243, 241277, 241320, 241370, 241422, 241457, 241489, 241551, 241577, 241667, 241705, 241726, 241740, 241809, 241847, 241880, 241910, 241964, 242013, 242059, 242110, 242164, 242214, 242266, 242313, 242356, 242399, 242462, 242502, 242544, 242582, 242622, 242662, 242704, 242745, 242803, 242848, 242877, 242902, 242931, 242966, 243009, 243055, 243065, 243071, 243114, 243157, 243205], [248399, 248447, 248500, 248580, 248609, 248646, 248805, 248810], [260373, 260423, 260468, 260508, 260628, 260683, 260721, 260750, 260772, 260793], [261276, 261324, 261370, 261404, 261434, 261493, 261599, 261629, 261650, 261698, 261766], [287855, 287900, 287956, 288104, 288296], [292384, 292455, 292505, 292549, 292607, 292631, 292676, 292730, 292769], [293340, 293389, 293429, 293458, 293506, 293531, 293569, 293694], [294281, 294334, 294339, 294380, 294439, 294468, 294497, 294546, 294606, 294631], [301040, 301086, 301094, 301101, 301110, 301156, 301223, 301247, 301341, 301380, 301405], [302307, 302339, 302374, 302494, 302527, 302547, 302590, 302662], [308644, 308702, 308753, 308798, 308899, 308932, 308961, 308993, 309027, 309063, 309105], [310874, 310931, 310939, 310987, 311017, 311109, 311143, 311174, 311208], [313030, 313073, 313129]]\n"
     ]
    }
   ],
   "source": [
    "\n",
    "respeck_df = respeck_df.reset_index()\n",
    "print(getBreaths(respeck_df))"
   ]
  },
  {
   "cell_type": "code",
   "execution_count": 9,
   "id": "e2c9597f",
   "metadata": {},
   "outputs": [
    {
     "name": "stdout",
     "output_type": "stream",
     "text": [
      "Uses Breath From 0/313327 = 0.0% Signal\n",
      "Max Breath Length: -inf points. Min Breath Length: inf points\n",
      "[]\n"
     ]
    }
   ],
   "source": [
    "respeck_df['breathingSignal'] = respeck_df['breathing_signal_filtered']\n",
    "\n",
    "print(getBreaths(respeck_df))"
   ]
  },
  {
   "cell_type": "code",
   "execution_count": null,
   "id": "c513212b",
   "metadata": {},
   "outputs": [],
   "source": [
    "# Extract Features\n",
    "breath_features = extractFeatures(respeck_df)\n",
    "print(breath_features)"
   ]
  },
  {
   "cell_type": "code",
   "execution_count": null,
   "id": "8eecef25",
   "metadata": {},
   "outputs": [],
   "source": [
    "features_df = combineDfs(breath_features, respeck_df)"
   ]
  },
  {
   "cell_type": "code",
   "execution_count": null,
   "id": "b5af242e",
   "metadata": {},
   "outputs": [],
   "source": [
    "print(features_df.columns)"
   ]
  },
  {
   "cell_type": "code",
   "execution_count": null,
   "id": "ee18f108",
   "metadata": {},
   "outputs": [],
   "source": [
    "breath_regularity_feature = compute_breath_regularity(features_df)"
   ]
  },
  {
   "cell_type": "code",
   "execution_count": null,
   "id": "9c2e6a35",
   "metadata": {},
   "outputs": [],
   "source": [
    "print(breath_regularity_feature)"
   ]
  },
  {
   "cell_type": "code",
   "execution_count": null,
   "id": "8ef83728",
   "metadata": {},
   "outputs": [],
   "source": [
    "breath_regularity_feature.to_csv('26-04-2025_respeck_features.csv')"
   ]
  },
  {
   "cell_type": "code",
   "execution_count": null,
   "id": "9ed82b92",
   "metadata": {},
   "outputs": [],
   "source": []
  }
 ],
 "metadata": {
  "kernelspec": {
   "display_name": "diss",
   "language": "python",
   "name": "python3"
  },
  "language_info": {
   "codemirror_mode": {
    "name": "ipython",
    "version": 3
   },
   "file_extension": ".py",
   "mimetype": "text/x-python",
   "name": "python",
   "nbconvert_exporter": "python",
   "pygments_lexer": "ipython3",
   "version": "3.11.12"
  }
 },
 "nbformat": 4,
 "nbformat_minor": 5
}
